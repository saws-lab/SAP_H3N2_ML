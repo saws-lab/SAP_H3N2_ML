{
 "cells": [
  {
   "cell_type": "markdown",
   "id": "00817f36",
   "metadata": {},
   "source": [
    "# Plot MAE vs. mutation matrix\n",
    "We will plot average MAE performance of RF model over four validation seasons (from 2012NH to 2013SH) vs. 92 mutation matrices in AAindex database as well as binary encoding, where hyperparameters of the model were optimized separately for each mutation matrix.\n",
    "\n",
    "Note: First run notebook \"SuppFig6_part1_optimize_RF_mut_mat_hyperopt.ipynb\" as this notebook depends on its results."
   ]
  },
  {
   "cell_type": "markdown",
   "id": "27575329",
   "metadata": {},
   "source": [
    "## Imports and configuration for plotting"
   ]
  },
  {
   "cell_type": "code",
   "execution_count": 1,
   "id": "126dfc9b",
   "metadata": {},
   "outputs": [],
   "source": [
    "import pandas as pd\n",
    "import matplotlib.pyplot as plt\n",
    "import seaborn as sns\n",
    "from matplotlib.patches import Rectangle\n",
    "%matplotlib inline\n",
    "\n",
    "sns.set_context(rc={\"axes.labelsize\":9,\n",
    "                    \"xtick.labelsize\":8,\n",
    "                    \"ytick.labelsize\":8,\n",
    "                    \"legend.fontsize\":8,\n",
    "                    \"legend.title_fontsize\":8})"
   ]
  },
  {
   "cell_type": "markdown",
   "id": "16908222",
   "metadata": {},
   "source": [
    "## Paths and filenames"
   ]
  },
  {
   "cell_type": "code",
   "execution_count": 19,
   "id": "f5db0c6c",
   "metadata": {},
   "outputs": [],
   "source": [
    "# paths\n",
    "path_data   = \"../results/SuppFig6_comparison/\"\n",
    "path_result = \"../results/SuppFigS1_RF_mut_mat/\"   # results will be saved in this directory\n",
    "\n",
    "# filenames\n",
    "optimize_fn = path_data+\"SuppFig6_optimize_RF_mut_mat_hyperopt.csv\"   # to save optimization results\n",
    "fig_fn      = path_result+'SuppFigS1_RF_MAE_mut_mat_hyperopt.svg'   # to save figure"
   ]
  },
  {
   "cell_type": "markdown",
   "id": "cae73f24",
   "metadata": {},
   "source": [
    "## Read optimization results and prepare data for plots"
   ]
  },
  {
   "cell_type": "code",
   "execution_count": 13,
   "id": "eb41b8ac",
   "metadata": {},
   "outputs": [],
   "source": [
    "scores = pd.read_csv(optimize_fn)\n",
    "\n",
    "# sort as per optimized mae\n",
    "scores.sort_values(by=['mae'], ascending=True, inplace=True)\n",
    "\n",
    "top5 = f\"1. {scores.mut_mat.iloc[0]},   2. {scores.mut_mat.iloc[1]}\\n3. {scores.mut_mat.iloc[2]},    4. {scores.mut_mat.iloc[3]}\\n5. {scores.mut_mat.iloc[4]}\""
   ]
  },
  {
   "cell_type": "code",
   "execution_count": 9,
   "id": "216f685b",
   "metadata": {},
   "outputs": [
    {
     "data": {
      "text/plain": [
       "0.765224961776957"
      ]
     },
     "execution_count": 9,
     "metadata": {},
     "output_type": "execute_result"
    }
   ],
   "source": [
    "scores.mae.min()"
   ]
  },
  {
   "cell_type": "markdown",
   "id": "b2961563",
   "metadata": {},
   "source": [
    "## Plot average MAE for optimized hyperparameters for each mutation matrix"
   ]
  },
  {
   "cell_type": "code",
   "execution_count": 20,
   "id": "cdd7e683",
   "metadata": {},
   "outputs": [
    {
     "data": {
      "image/png": "[encoded data removed]",
      "text/plain": [
       "<Figure size 600x200 with 1 Axes>"
      ]
     },
     "metadata": {},
     "output_type": "display_data"
    }
   ],
   "source": [
    "fig, ax = plt.subplots(figsize=(6, 2))\n",
    "\n",
    "ax.plot(range(1, len(scores)+1), scores.mae.values,\n",
    "        'o', fillstyle='none', markersize=2.5, color='C0')\n",
    "\n",
    "\n",
    "# Top 5 substitution matrices\n",
    "# Rectangle Patch\n",
    "y0, y1 = ax.get_ylim()\n",
    "rect_Yend = (y1-y0)/6\n",
    "rect = Rectangle((0, y0-0.001), width=5.7, height=rect_Yend, alpha=0.3, zorder=0.5)\n",
    "ax.add_patch(rect)\n",
    "\n",
    "# annotation\n",
    "ax.annotate('', xy=(2.5, y0+rect_Yend+0.001), xytext=(9, y0+rect_Yend+0.025),\n",
    "            arrowprops=dict(facecolor='C0', edgecolor='C0', alpha=0.3,\n",
    "                            width=2, headwidth=7, headlength=5),\n",
    "            fontsize=8, zorder=0.1)\n",
    "\n",
    "# text for top 5 mutation matrices\n",
    "ax.text(25, 0.815, \"Top 5\", fontsize=8, fontweight='bold')\n",
    "ax.text(10, 0.79, top5, fontsize=8)\n",
    "\n",
    "\n",
    "# configurations for figure\n",
    "ax.set_xticks([1, 10, 20, 30, 40, 50, 60, 70, 80, 90])\n",
    "ax.set_xticklabels([1, 10, 20, 30, 40, 50, 60, 70, 80, 90])\n",
    "ax.set_ylim(bottom=0.76, top=0.86)\n",
    "ax.set_xlabel(\"Amino acid mutation matrix\", fontsize=9)\n",
    "ax.set_ylabel(\"Validation average MAE\", fontsize=9)\n",
    "\n",
    "sns.despine(trim=True)\n",
    "\n",
    "# save figure\n",
    "fig.savefig(fig_fn, format='svg', bbox_inches='tight')"
   ]
  },
  {
   "cell_type": "code",
   "execution_count": null,
   "id": "7d4894c6",
   "metadata": {},
   "outputs": [],
   "source": []
  }
 ],
 "metadata": {
  "kernelspec": {
   "display_name": "Python [conda env:seasonal_ag_pred_tf]",
   "language": "python",
   "name": "conda-env-seasonal_ag_pred_tf-py"
  },
  "language_info": {
   "codemirror_mode": {
    "name": "ipython",
    "version": 3
   },
   "file_extension": ".py",
   "mimetype": "text/x-python",
   "name": "python",
   "nbconvert_exporter": "python",
   "pygments_lexer": "ipython3",
   "version": "3.8.12"
  }
 },
 "nbformat": 4,
 "nbformat_minor": 5
}
