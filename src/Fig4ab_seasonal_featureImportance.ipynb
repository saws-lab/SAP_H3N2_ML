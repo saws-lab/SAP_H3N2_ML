{
 "cells": [
  {
   "cell_type": "markdown",
   "id": "b7d28b33",
   "metadata": {},
   "source": [
    "# Seasonal feature importance\n",
    "We will compute feature importance scores for all the features (including HA1 sites of IAV H3N2 as well as metadata features) in the AdaBoost model. To compute these scores, the AdaBoost model was trained on subsets of training data from 2003NH to x (x ranges from 2014NH to 2020SH)."
   ]
  },
  {
   "cell_type": "markdown",
   "id": "e96c538f",
   "metadata": {},
   "source": [
    "## Imports"
   ]
  },
  {
   "cell_type": "code",
   "execution_count": 1,
   "id": "a0264af3",
   "metadata": {},
   "outputs": [],
   "source": [
    "from pathlib import Path\n",
    "import pandas as pd\n",
    "import numpy as np\n",
    "from ast import literal_eval\n",
    "import random\n",
    "\n",
    "# self defined functions and models\n",
    "import utilities\n",
    "import model_utilities\n",
    "\n",
    "# for encoding of metadata information\n",
    "from sklearn.preprocessing import OneHotEncoder\n",
    "\n",
    "# for parallel computation\n",
    "from functools import partial\n",
    "from joblib import Parallel, delayed\n",
    "\n",
    "# for reproduciblility, fix the randomly generated numbers\n",
    "SEED = 100\n",
    "random.seed(SEED)\n",
    "np.random.seed(SEED)"
   ]
  },
  {
   "cell_type": "markdown",
   "id": "3d529a70",
   "metadata": {},
   "source": [
    "## Variables"
   ]
  },
  {
   "cell_type": "code",
   "execution_count": 2,
   "id": "84365436",
   "metadata": {},
   "outputs": [],
   "source": [
    "mut_mat       = 'GIAG010101'   # mutation matrix\n",
    "# traning data will include data of seasons from 2003NH to\n",
    "# seasons from 2014NH to 2020SH\n",
    "# each test season from Test_seasons will be used to split the data\n",
    "# into train and test seasons\n",
    "# simulation will not run for test season 2014NH\n",
    "Test_Seasons = [str(year)+s for year in range (2014, 2021) for s in ['NH', 'SH']] + ['2021NH']\n",
    "\n",
    "HA1_features  = [f\"HA1_{x}\" for x in range(1,329+1)]\n",
    "meta_features = [\n",
    "                 'virus',   # virus avidity (based on both name and passage)\n",
    "                 'serum',   # antiserum potency (based on both name and passage)\n",
    "                 'virusPassCat',   # virus passage category\n",
    "                 'serumPassCat'   # serum passage category\n",
    "                 ]   # metadata features\n",
    "\n",
    "metadata   = 'a+p+vPC+sPC'   # label to record which metadata is being used\n",
    "model_name = 'AdaBoost'   # the type of model to be used\n",
    "\n",
    "top_sites_max = 20   # maximum number of inferred top antigenic sites in a season"
   ]
  },
  {
   "cell_type": "markdown",
   "id": "baf7bcda",
   "metadata": {},
   "source": [
    "## Paths and filenames"
   ]
  },
  {
   "cell_type": "code",
   "execution_count": 3,
   "id": "af93beea",
   "metadata": {},
   "outputs": [],
   "source": [
    "# paths\n",
    "path_data   = \"../data/\"   # path of data\n",
    "path_result = \"../results/Fig4ab_feature_importance/\"   # results will be saved in this directory\n",
    "Path(path_result).mkdir(parents=True, exist_ok=True)   # make directory if it does not exist already\n",
    "\n",
    "# filenames\n",
    "data_fn         = path_data + f\"nhts_ha1_{mut_mat}.csv\"   # input data\n",
    "seasonal_imp_fn = path_result + f\"Fig4b_seasonal_feature_importance_top_{top_sites_max}_sites.csv\"   # seasonal feature importance scores of top antigenic sites\n",
    "epitope_fn      = path_result + f\"Fig4a_epitopes_top_{top_sites_max}_sites.csv\"   # epitope labels for top antigenic sites\n",
    "fig_fn          = path_result + f\"Fig4b_seasonal_feature_importance_top_{top_sites_max}_sites.svg\"   # to save figure\n",
    "p_values_fn     = path_result + f\"Fig4a_epitopes_seasonal_top_{top_sites_max}_sites_p_values.txt\"   # to save P values"
   ]
  },
  {
   "cell_type": "markdown",
   "id": "d530f7d7",
   "metadata": {},
   "source": [
    "## Read data\n",
    "- Genetic difference (seq_diff) encoded as per the mutation matrix\n",
    "- Converter is used to load the genetic difference saved as a list of floats"
   ]
  },
  {
   "cell_type": "code",
   "execution_count": 4,
   "id": "770d498e",
   "metadata": {},
   "outputs": [],
   "source": [
    "data = pd.read_csv(data_fn, converters={'seq_diff': literal_eval})"
   ]
  },
  {
   "cell_type": "markdown",
   "id": "c9628c97",
   "metadata": {},
   "source": [
    "## Train the model and compute feature importance scores for each test season\n",
    "- For a test season\n",
    "    - Split the data into training and test datasets. Test dataset will not be used.\n",
    "    - Prepare encoded inputs (genetic difference and metadata features)\n",
    "    - Train the model\n",
    "    - Compute and save feature importance scores"
   ]
  },
  {
   "cell_type": "code",
   "execution_count": 5,
   "id": "5eda331c",
   "metadata": {
    "scrolled": true
   },
   "outputs": [
    {
     "name": "stdout",
     "output_type": "stream",
     "text": [
      "Test Season:  2015SH\n",
      "Time for training: 2090.948282957077\n",
      "Saved to filename:  ../results/revision_seasonal_feature_importance_AdaBoost/feature_importance_train_2003NH_2015NH.csv\n",
      "Test Season:  2016NH\n",
      "Time for training: 2442.9155950546265\n",
      "Saved to filename:  ../results/revision_seasonal_feature_importance_AdaBoost/feature_importance_train_2003NH_2015SH.csv\n",
      "Test Season:  2016SH\n",
      "Time for training: 2694.1642417907715\n",
      "Saved to filename:  ../results/revision_seasonal_feature_importance_AdaBoost/feature_importance_train_2003NH_2016NH.csv\n",
      "Test Season:  2017NH\n",
      "Time for training: 3042.0284266471863\n",
      "Saved to filename:  ../results/revision_seasonal_feature_importance_AdaBoost/feature_importance_train_2003NH_2016SH.csv\n",
      "Test Season:  2017SH\n",
      "Time for training: 3833.111649274826\n",
      "Saved to filename:  ../results/revision_seasonal_feature_importance_AdaBoost/feature_importance_train_2003NH_2017NH.csv\n",
      "Test Season:  2018NH\n",
      "Time for training: 4142.9359476566315\n",
      "Saved to filename:  ../results/revision_seasonal_feature_importance_AdaBoost/feature_importance_train_2003NH_2017SH.csv\n",
      "Test Season:  2018SH\n",
      "Time for training: 4369.662019729614\n",
      "Saved to filename:  ../results/revision_seasonal_feature_importance_AdaBoost/feature_importance_train_2003NH_2018NH.csv\n",
      "Test Season:  2019NH\n",
      "Time for training: 4772.765877008438\n",
      "Saved to filename:  ../results/revision_seasonal_feature_importance_AdaBoost/feature_importance_train_2003NH_2018SH.csv\n",
      "Test Season:  2019SH\n",
      "Time for training: 5636.79172873497\n",
      "Saved to filename:  ../results/revision_seasonal_feature_importance_AdaBoost/feature_importance_train_2003NH_2019NH.csv\n",
      "Test Season:  2020NH\n",
      "Time for training: 9178.516804218292\n",
      "Saved to filename:  ../results/revision_seasonal_feature_importance_AdaBoost/feature_importance_train_2003NH_2019SH.csv\n",
      "Test Season:  2020SH\n",
      "Time for training: 7338.753640174866\n",
      "Saved to filename:  ../results/revision_seasonal_feature_importance_AdaBoost/feature_importance_train_2003NH_2020NH.csv\n",
      "Test Season:  2021NH\n",
      "Time for training: 7861.141623497009\n",
      "Saved to filename:  ../results/revision_seasonal_feature_importance_AdaBoost/feature_importance_train_2003NH_2020SH.csv\n"
     ]
    }
   ],
   "source": [
    "def compute_feature_importance_season(season, fn_end_season):\n",
    "    \n",
    "    '''\n",
    "    Train Test Split\n",
    "        - based on seasonal framework\n",
    "        - Train: past virus isolates paired with past sera\n",
    "        - Test: circulating virus isolates paired with past sera\n",
    "    '''\n",
    "    ind_train, _ = utilities.seasonal_trainTestSplit(data[['virus', 'serum', 'virusDate', 'serumDate']], season)\n",
    "\n",
    "    # training dataset\n",
    "    data_train = data.iloc[ind_train].copy()\n",
    "    data_train.reset_index(drop=True, inplace=True)\n",
    "\n",
    "\n",
    "    '''\n",
    "    Input features (genetic difference)\n",
    "    '''\n",
    "    # training dataset\n",
    "    X_train = pd.DataFrame(data_train.seq_diff.to_list(),\n",
    "                           index=data_train.index,\n",
    "                           columns=HA1_features)\n",
    "    X_train.fillna(0, inplace=True)   # replace nan with 0\n",
    "\n",
    "\n",
    "    '''\n",
    "    Input features (metadata features)\n",
    "    '''\n",
    "    X_train_meta = data_train[meta_features].fillna('None').astype('str')\n",
    "\n",
    "    # one hot encoding\n",
    "    ohe = OneHotEncoder(handle_unknown='ignore')\n",
    "    X_train_meta = ohe.fit_transform(X_train_meta).toarray()\n",
    "\n",
    "    X_train = np.hstack((X_train.values, X_train_meta))\n",
    "\n",
    "    meta_feature_names = list(ohe.get_feature_names_out(meta_features))\n",
    "\n",
    "    del X_train_meta\n",
    "\n",
    "\n",
    "    '''\n",
    "    Training\n",
    "    '''\n",
    "    # optimized model\n",
    "    model = getattr(model_utilities_revision, f'model_{model_name}')\n",
    "    results = model(X_train,\n",
    "                    data_train.nht.values,\n",
    "                    X_test = X_train) # X_test is just passed to ignore argument error and it will not be used\n",
    "\n",
    "\n",
    "    '''\n",
    "    Compute feature importance scores\n",
    "    '''\n",
    "    importances = results['model'].feature_importances_\n",
    "\n",
    "    # save as a dataframe\n",
    "    feature_importance = pd.DataFrame(columns={\"feature\", \"importance\"})\n",
    "    feature_importance[\"feature\"]    = HA1_features + meta_feature_names\n",
    "    feature_importance[\"importance\"] = importances\n",
    "    feature_importance.sort_values([\"importance\"], ascending=False, inplace=True)\n",
    "    \n",
    "    importance_fn   = path_result + f\"feature_importance_train_2003NH_{fn_end_season}.csv\"   # feature importance scores for a season\n",
    "    feature_importance.to_csv(importance_fn, index=False)"
   ]
  },
  {
   "cell_type": "markdown",
   "id": "e15780f4",
   "metadata": {},
   "source": [
    "## Parallel computation of feature importance for each season\n",
    "Parallel computation of feature importance scores for test seasons from 2014SH to 2021NH."
   ]
  },
  {
   "cell_type": "code",
   "execution_count": null,
   "id": "2ef3f1d7",
   "metadata": {},
   "outputs": [],
   "source": [
    "Parallel(n_jobs=-1, verbose=1)(delayed(compute_feature_importance_season)(Test_Seasons[ind], Test_Seasons[ind-1]) for ind in range(1, len(Test_Seasons)))"
   ]
  },
  {
   "cell_type": "markdown",
   "id": "3e1618e6",
   "metadata": {},
   "source": [
    "## Compile feature importance scores for top antigenic sites\n",
    "- Merge seasonal importance scores from 2014NH to 2020SH\n",
    "- For the provided number of top sites per season, compile corresponding feature importance scores and epitope labels"
   ]
  },
  {
   "cell_type": "code",
   "execution_count": 5,
   "id": "435657f7",
   "metadata": {},
   "outputs": [],
   "source": [
    "'''\n",
    "merge seasonal importance scores\n",
    "'''\n",
    "end_Seasons = [str(year)+s for year in range (2014, 2021) for s in [\"NH\", \"SH\"]]\n",
    "\n",
    "# HA1 numbering from 1 to 329\n",
    "#sites    = [\"HA1_\"+str(site) for site in range(1,330)]\n",
    "top_sites = pd.DataFrame(columns=['feature'])\n",
    "#ag_sites[\"feature\"] = sites\n",
    "\n",
    "# loop through importance scores of each season\n",
    "for end_season in end_Seasons:\n",
    "    df = pd.read_csv(path_result + f\"feature_importance_train_2003NH_{end_season}.csv\")\n",
    "    \n",
    "    # we are only interested in HA1 sites\n",
    "    df = df[df.feature.str.contains(\"HA1\")]\n",
    "    \n",
    "    # sort importance scores and pick sites top_sites_max\n",
    "    df.sort_values([\"importance\"], ascending=False, inplace=True)\n",
    "    df = df.iloc[0:top_sites_max].copy()\n",
    "    \n",
    "    # rename importance column to season and merge scores\n",
    "    df.rename(columns={\"importance\": f\"{end_season}\"}, inplace=True)\n",
    "    top_sites = top_sites.merge(df, how=\"outer\", on=\"feature\")\n",
    "\n",
    "# rename feature to site\n",
    "top_sites.rename(columns={\"feature\":\"site\"}, inplace=True)\n",
    "\n",
    "# remove HA1 tag and use number as int\n",
    "HA1_site_numbers = top_sites.site.str.split(\"_\", expand=True)[1].astype(int)\n",
    "top_sites.insert(loc=0, column='HA1_site', value=HA1_site_numbers)\n",
    "\n",
    "\n",
    "'''\n",
    "Merge epitope labels\n",
    "'''\n",
    "# get epitope sites\n",
    "ep_sites_bush = utilities.get_ep_sites(epDef=\"Bush\")\n",
    "\n",
    "top_sites = top_sites.merge(ep_sites_bush, how=\"left\", on=\"site\")\n",
    "top_sites.sort_values([\"epitope\", \"HA1_site\"], inplace=True)\n",
    "top_sites[\"HA1_site\"] = top_sites.HA1_site.astype(str)\n",
    "\n",
    "top_sites_epitopes = top_sites[[\"site\", \"HA1_site\", \"epitope\"]]\n",
    "top_sites.drop(columns={\"site\", \"epitope\"}, inplace=True)\n",
    "\n",
    "top_sites.to_csv(seasonal_imp_fn, index=False)\n",
    "top_sites_epitopes.to_csv(epitope_fn, index=False)"
   ]
  },
  {
   "cell_type": "markdown",
   "id": "3c9eddd6",
   "metadata": {},
   "source": [
    "## Imports and configuration for plotting"
   ]
  },
  {
   "cell_type": "code",
   "execution_count": 6,
   "id": "8f6e9483",
   "metadata": {},
   "outputs": [],
   "source": [
    "import matplotlib.pyplot as plt\n",
    "import seaborn as sns\n",
    "%matplotlib inline\n",
    "\n",
    "sns.set_context(rc={\"axes.labelsize\":9,\n",
    "                    \"xtick.labelsize\":8,\n",
    "                    \"ytick.labelsize\":8,\n",
    "                    \"legend.fontsize\":8,\n",
    "                    \"legend.title_fontsize\":8})"
   ]
  },
  {
   "cell_type": "markdown",
   "id": "c26d6231",
   "metadata": {},
   "source": [
    "## Read and prepare data for plots"
   ]
  },
  {
   "cell_type": "code",
   "execution_count": 7,
   "id": "21279ef9",
   "metadata": {},
   "outputs": [],
   "source": [
    "top_sites = pd.read_csv(seasonal_imp_fn)\n",
    "top_sites = top_sites.set_index(\"HA1_site\")"
   ]
  },
  {
   "cell_type": "markdown",
   "id": "cdbb4e6f",
   "metadata": {},
   "source": [
    "## Plot inferred top antigenic sites and their corresponding feature importance scores per season"
   ]
  },
  {
   "cell_type": "code",
   "execution_count": 17,
   "id": "c0bf028a",
   "metadata": {},
   "outputs": [
    {
     "data": {
      "image/png": "[encoded data removed]",
      "text/plain": [
       "<Figure size 680x580 with 2 Axes>"
      ]
     },
     "metadata": {},
     "output_type": "display_data"
    }
   ],
   "source": [
    "fig, ax = plt.subplots(figsize=(6.8,5.8))\n",
    "\n",
    "tmp = sns.heatmap(top_sites,\n",
    "                  # annot=True, annot_kws={\"size\":8}, fmt='.3f',\n",
    "                  vmin=0.0,\n",
    "                  vmax=0.04,\n",
    "                  cmap=sns.color_palette(\"Greys\", 4),\n",
    "                  cbar_kws={\"shrink\":0.3,\n",
    "                            \"orientation\":\"vertical\",\n",
    "                            \"label\":\"Feature importance\",\n",
    "                            \"pad\":0.02},\n",
    "                  linewidths=1,\n",
    "                  # square=True,\n",
    "                  ax=ax)\n",
    "\n",
    "# configurations for figure\n",
    "cbar = tmp.collections[0].colorbar\n",
    "cbar.ax.tick_params(labelsize=9)\n",
    "cbar.ax.yaxis.label.set_size(9)\n",
    "cbar.ax.set_yticks([cbar.ax.get_yticks()[0], cbar.ax.get_yticks()[-1]])\n",
    "\n",
    "ax.set_yticklabels(ax.get_yticklabels(), rotation=0)\n",
    "ax.xaxis.tick_top()\n",
    "ax.xaxis.set_label_position('top')\n",
    "ax.set_xticklabels(ax.get_xticklabels(), rotation=30)\n",
    "\n",
    "ax.set_xlabel(\"Training data from 2003NH to\", fontsize=9)\n",
    "ax.set_ylabel(\"HA1 sites\", fontsize=9)\n",
    "\n",
    "\n",
    "# colors for epitopes\n",
    "Colors = [(122/255, 173/255, 216/255),\n",
    "          (150/255, 209/255, 147/255),\n",
    "          (196/255, 145/255, 203/255),\n",
    "          (248/255, 150/255, 201/255),\n",
    "          (255/255, 173/255, 91/255),\n",
    "          (239/255, 117/255, 117/255)]\n",
    "\n",
    "\n",
    "# patches for epitope A, B, C, D, E, and unknown\n",
    "x_pos = -0.94\n",
    "x_len = 0.65\n",
    "Y_pos = [-0.05, 8, 16, 18, 23, 25]\n",
    "Y_len = [8, 8, 2, 5, 2, 5]\n",
    "for y_pos, y_len, color in zip(Y_pos, Y_len, Colors):\n",
    "    ax.add_patch(plt.Rectangle((x_pos, y_pos), x_len, y_len, ls=\"--\", ec=color, fc=color,\n",
    "                                # alpha=color_fade,\n",
    "                               clip_on=False))\n",
    "\n",
    "\n",
    "# save figure\n",
    "fig.savefig(fig_fn, format='svg', bbox_inches='tight')"
   ]
  },
  {
   "cell_type": "markdown",
   "id": "990a7476",
   "metadata": {},
   "source": [
    "## Compute statistical significance of top antigenic sites as per Bush epitope definitions"
   ]
  },
  {
   "cell_type": "code",
   "execution_count": 18,
   "id": "572bd27c",
   "metadata": {},
   "outputs": [],
   "source": [
    "# imports\n",
    "from math import comb\n",
    "\n",
    "# read epitope information of top sites\n",
    "top_sites_epitopes = pd.read_csv(epitope_fn)\n",
    "\n",
    "\n",
    "'''\n",
    "Compute statistical significance\n",
    "'''\n",
    "n  = top_sites_epitopes.shape[0]     # total number of top sites\n",
    "Js = [19, 22, 27, 41, 22]   # number of epitope sites\n",
    "Is = top_sites_epitopes.epitope.value_counts().sort_index().values   # number of top sites in each epitope\n",
    "\n",
    "P_values = []\n",
    "\n",
    "# for each epitope\n",
    "for i, j in zip(Is, Js):\n",
    "    p_value = 0\n",
    "    \n",
    "    # compute p-value\n",
    "    for q in range(i, min([j, n])):\n",
    "        p_value += (comb(j,q) * comb(329-j, n-q))/comb(329,n)\n",
    "    \n",
    "    # save p-value for each epitope\n",
    "    P_values.append(p_value)\n",
    "\n",
    "\n",
    "# save P values\n",
    "with open(p_values_fn, 'a') as fh:\n",
    "    fh.write(f\"epitope A: {P_values[0]}\\n\")\n",
    "    fh.write(f\"epitope B: {P_values[1]}\\n\")\n",
    "    fh.write(f\"epitope C: {P_values[2]}\\n\")\n",
    "    fh.write(f\"epitope D: {P_values[3]}\\n\")\n",
    "    fh.write(f\"epitope E: {P_values[4]}\\n\")"
   ]
  },
  {
   "cell_type": "code",
   "execution_count": null,
   "id": "866d5dc0",
   "metadata": {},
   "outputs": [],
   "source": []
  }
 ],
 "metadata": {
  "kernelspec": {
   "display_name": "Python (seasonal_ag_pred_tf)",
   "language": "python",
   "name": "seasonal_ag_pred_tf"
  },
  "language_info": {
   "codemirror_mode": {
    "name": "ipython",
    "version": 3
   },
   "file_extension": ".py",
   "mimetype": "text/x-python",
   "name": "python",
   "nbconvert_exporter": "python",
   "pygments_lexer": "ipython3",
   "version": "3.8.12"
  }
 },
 "nbformat": 4,
 "nbformat_minor": 5
}
