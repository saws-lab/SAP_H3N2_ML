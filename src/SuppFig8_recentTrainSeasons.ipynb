{
 "cells": [
  {
   "cell_type": "markdown",
   "id": "1d64ced8",
   "metadata": {},
   "source": [
    "# Importance of recent train seasons\n",
    "We will evaluate the proposed RF model over 14 test seasons from 2014NH to 2020SH, where the model will be trained over subsets of training data containing only 1 to 5 recent seasons."
   ]
  },
  {
   "cell_type": "markdown",
   "id": "2ec7c136",
   "metadata": {},
   "source": [
    "## Imports"
   ]
  },
  {
   "cell_type": "code",
   "execution_count": 1,
   "id": "16304ac3",
   "metadata": {},
   "outputs": [],
   "source": [
    "from pathlib import Path\n",
    "import pandas as pd\n",
    "import numpy as np\n",
    "import utilities   # self defined functions\n",
    "import model_utilities   # self defined models\n",
    "from ast import literal_eval\n",
    "from sklearn.preprocessing import OneHotEncoder\n",
    "\n",
    "# (for reproduciblility) fix the randomly generated numbers\n",
    "SEED = 100\n",
    "np.random.seed(SEED)"
   ]
  },
  {
   "cell_type": "markdown",
   "id": "187e43b5",
   "metadata": {},
   "source": [
    "## Variables"
   ]
  },
  {
   "cell_type": "code",
   "execution_count": 2,
   "id": "4133151d",
   "metadata": {},
   "outputs": [],
   "source": [
    "mut_mat       = \"AZAE970101\"   # mutation matrix\n",
    "Test_Seasons = [str(year)+s for year in range (2014, 2021) for s in [\"NH\", \"SH\"]]   # seasons from 2014NH to 2020SH\n",
    "\n",
    "HA1_features  = [f\"HA1_{x}\" for x in range(1,329+1)]\n",
    "meta_features = [\n",
    "                 'virus',   # virus avidity\n",
    "                 'serum',   # antiserum potency\n",
    "                 'virusPassCat',\n",
    "                 'serumPassCat'\n",
    "                 ]   # metadata features\n",
    "\n",
    "metadata   = 'a+p+vPC+sPC'   # label to record which metadata is being used\n",
    "model_name = 'optimized_RF'   # the type of model to be used\n",
    "\n",
    "recentTrainSeasons_all = [1, 2, 3, 4, 5, 'all']   # number of recent seasons for training"
   ]
  },
  {
   "cell_type": "markdown",
   "id": "586350e8",
   "metadata": {},
   "source": [
    "## Paths and filenames"
   ]
  },
  {
   "cell_type": "code",
   "execution_count": 3,
   "id": "95b4f5b1",
   "metadata": {},
   "outputs": [],
   "source": [
    "# paths\n",
    "path_data   = \"../data/\"   # path of data\n",
    "path_result = \"../results/SuppFig8_recentTrainSeasons/\"   # results will be saved in this directory\n",
    "Path(path_result).mkdir(parents=True, exist_ok=True)   # make directory if it does not exist already\n",
    "\n",
    "# filenames\n",
    "data_fn = path_data + f\"nhts_ha1_{mut_mat}.csv\"   # input data\n",
    "test_fn = path_result + \"SuppFig8_recentTrainSeasons.csv\"   # to save performance scores for test dataset\n",
    "fig_fn  = path_result + 'SuppFig8_recentTrainSeasons.svg'   # to save figure"
   ]
  },
  {
   "cell_type": "markdown",
   "id": "529a9ed3",
   "metadata": {},
   "source": [
    "## Read data\n",
    "- Genetic difference (seq_diff) encoded as per the mutation matrix\n",
    "- Converter is used to load the genetic difference saved as a list of floats"
   ]
  },
  {
   "cell_type": "code",
   "execution_count": null,
   "id": "782e7377",
   "metadata": {},
   "outputs": [],
   "source": [
    "data = pd.read_csv(data_fn, converters={\"seq_diff\": literal_eval})"
   ]
  },
  {
   "cell_type": "markdown",
   "id": "1be5f7dc",
   "metadata": {},
   "source": [
    "## Performance of the model\n",
    "- For each number of recent train seasons\n",
    "    - For each test season from 2014NH to 2020SH\n",
    "        - Split the data into training and test datasets\n",
    "        - Prepare encoded inputs (genetic difference and metadata features)\n",
    "        - Train and evaluate the model\n",
    "        - Compute predictive performance\n",
    "        - Save the predictions\n",
    "    - Compute average predictive performance"
   ]
  },
  {
   "cell_type": "code",
   "execution_count": null,
   "id": "861bc21c",
   "metadata": {},
   "outputs": [],
   "source": [
    "'''\n",
    "Recent train season\n",
    "'''\n",
    "for recent_train_seasons in recentTrainSeasons_all:\n",
    "    \n",
    "    '''\n",
    "    Test Seasons\n",
    "    '''\n",
    "    # to collect actuals and predictions for micro-averaged scores over all test seasons\n",
    "    actual_all  = {}\n",
    "    predict_all = {}\n",
    "\n",
    "    # loop through test seasons\n",
    "    for test_season in Test_Seasons:\n",
    "        print(\"No. of recent train seasons: \", recent_train_seasons,\n",
    "              \"%,   test season: \", test_season)\n",
    "\n",
    "        '''\n",
    "        Train Test Split\n",
    "            - based on seasonal framework\n",
    "            - Train: past virus isolates paired with past sera\n",
    "            - Test: circulating virus isolates paired with past sera\n",
    "        '''\n",
    "        ind_train, ind_test = utilities.miss1TrainSeason_seasonal_trainTestSplit(data.copy(),\n",
    "                                                                                test_season,\n",
    "                                                                                train_seasons=recent_train_seasons)\n",
    "\n",
    "        # training dataset\n",
    "        data_train = data.iloc[ind_train].copy()\n",
    "        data_train.reset_index(drop=True, inplace=True)\n",
    "\n",
    "        # test dataset\n",
    "        data_test = data.iloc[ind_test].copy()\n",
    "        data_test.reset_index(drop=True, inplace=True)\n",
    "\n",
    "\n",
    "        '''\n",
    "        Input features (genetic difference)\n",
    "        '''\n",
    "        # training dataset\n",
    "        X_train = pd.DataFrame(data_train.seq_diff.to_list(),\n",
    "                               index=data_train.index,\n",
    "                               columns=HA1_features)\n",
    "        X_train.fillna(0, inplace=True)   # replace nan with 0\n",
    "\n",
    "        # test dataset\n",
    "        X_test = pd.DataFrame(data_test.seq_diff.to_list(),\n",
    "                               index=data_test.index,\n",
    "                               columns=HA1_features)\n",
    "        X_test.fillna(0, inplace=True)   # replace nan with 0\n",
    "\n",
    "\n",
    "        '''\n",
    "        Input features (metadata features)\n",
    "        '''\n",
    "        X_train_meta = data_train[meta_features].fillna('None').astype('str')\n",
    "        X_test_meta  = data_test[meta_features].fillna('None').astype('str')\n",
    "\n",
    "\n",
    "        # one hot encoding\n",
    "        ohe = OneHotEncoder(handle_unknown='ignore')\n",
    "        X_train_meta = ohe.fit_transform(X_train_meta).toarray()\n",
    "        X_test_meta = ohe.transform(X_test_meta).toarray()\n",
    "\n",
    "        X_train = np.hstack((X_train.values, X_train_meta))\n",
    "        X_test  = np.hstack((X_test.values, X_test_meta))\n",
    "\n",
    "\n",
    "        del X_train_meta, X_test_meta\n",
    "\n",
    "\n",
    "        '''\n",
    "        Training and evaluation\n",
    "        '''\n",
    "        # optimized model\n",
    "        model = getattr(model_utilities, f\"model_{model_name}\")\n",
    "        results = model(X_train,\n",
    "                        data_train.nht.values,\n",
    "                        X_test = X_test)\n",
    "\n",
    "\n",
    "        '''\n",
    "        Test Scores\n",
    "        '''\n",
    "        cols       = ['mut_mat', 'model', 'metadata', 'recent_train_seasons', 'season']\n",
    "        col_values = [mut_mat, model_name, metadata, run, f'{recent_train_seasons}%', test_season]\n",
    "        utilities.compute_scores(data_test.nht.values, results['pred_test'], test_fn, col=cols, col_val=col_values)\n",
    "\n",
    "\n",
    "        '''\n",
    "        Save actuals and predictions\n",
    "        '''\n",
    "        actual_all[f'{test_season}']  = data_test.nht.values\n",
    "        predict_all[f'{test_season}'] = results['pred_test']\n",
    "\n",
    "\n",
    "        #################\n",
    "        # End season loop\n",
    "        #################\n",
    "\n",
    "\n",
    "    '''\n",
    "    Micro-average over seasons\n",
    "    '''\n",
    "    actual  = np.concatenate(list(actual_all.values()))\n",
    "    predict = np.concatenate(list(predict_all.values()))\n",
    "\n",
    "    # Test scores\n",
    "    col_values = [mut_mat, model_name, metadata, f'{recent_train_seasons}%', 'avg.']\n",
    "    utilities.compute_scores(actual, predict, test_fn, col=cols, col_val=col_values)\n",
    "\n",
    "    ####################################\n",
    "    # loop over missed_train_Seasons end\n",
    "    ####################################"
   ]
  },
  {
   "cell_type": "markdown",
   "id": "ad9e672c",
   "metadata": {},
   "source": [
    "## Imports and configuration for plotting"
   ]
  },
  {
   "cell_type": "code",
   "execution_count": 4,
   "id": "55bba4c8",
   "metadata": {},
   "outputs": [],
   "source": [
    "import matplotlib.pyplot as plt\n",
    "import seaborn as sns\n",
    "%matplotlib inline\n",
    "\n",
    "sns.set_context(rc={\"axes.labelsize\":9,\n",
    "                    \"xtick.labelsize\":8,\n",
    "                    \"ytick.labelsize\":8,\n",
    "                    \"legend.fontsize\":8,\n",
    "                    \"legend.title_fontsize\":8})"
   ]
  },
  {
   "cell_type": "markdown",
   "id": "75e31743",
   "metadata": {},
   "source": [
    "## Read test scores and prepare data for plots"
   ]
  },
  {
   "cell_type": "code",
   "execution_count": 5,
   "id": "614e4032",
   "metadata": {},
   "outputs": [],
   "source": [
    "scores = pd.read_csv(test_fn)\n",
    "# convert to int\n",
    "scores['recent_train_seasons'] = [int(n) if n!='all' else n for n in scores.recent_train_seasons]\n",
    "scores = scores[scores.recent_train_seasons.isin([1, 2, 3, 4, 5, 'all'])].copy()"
   ]
  },
  {
   "cell_type": "markdown",
   "id": "608f2b6a",
   "metadata": {},
   "source": [
    "## Plot MAE vs. number of recent seasons for training"
   ]
  },
  {
   "cell_type": "code",
   "execution_count": 6,
   "id": "b5976ba5",
   "metadata": {},
   "outputs": [
    {
     "data": {
      "image/png": "[encoded data removed]",
      "text/plain": [
       "<Figure size 400x300 with 1 Axes>"
      ]
     },
     "metadata": {},
     "output_type": "display_data"
    }
   ],
   "source": [
    "fig, ax = plt.subplots(figsize=(4,3))\n",
    "\n",
    "plot = sns.boxplot(x='recent_train_seasons', y='MAE', data=scores[scores.season!='avg.'],\n",
    "                   width=0.5,\n",
    "                   color=\"C0\",\n",
    "                   ax=ax)\n",
    "\n",
    "# annotate\n",
    "for (xtick, label) in zip(plot.get_xticks(), scores[scores.season=='avg.'].MAE):\n",
    "    ax.text(xtick,\n",
    "            1.08,\n",
    "            f\"{label:.3f}\",\n",
    "            horizontalalignment='center',\n",
    "            fontsize=8,\n",
    "            rotation=0)\n",
    "\n",
    "ax.text(2.5, 1.125, \"Average MAE\", fontsize=9, horizontalalignment='center')\n",
    "\n",
    "# configurations for figure\n",
    "ax.set_xlabel('No. of recent seasons in training dataset', fontsize=9)\n",
    "ax.set_ylabel('MAE', fontsize=9)\n",
    "ax.set_ylim(bottom=0.5, top=1.15)\n",
    "\n",
    "sns.despine(trim=True)\n",
    "\n",
    "# save figure\n",
    "fig.savefig(fig_fn, format='svg', bbox_inches='tight')"
   ]
  },
  {
   "cell_type": "code",
   "execution_count": null,
   "id": "626de232",
   "metadata": {},
   "outputs": [],
   "source": []
  }
 ],
 "metadata": {
  "kernelspec": {
   "display_name": "Python [conda env:seasonal_ag_pred]",
   "language": "python",
   "name": "conda-env-seasonal_ag_pred-py"
  },
  "language_info": {
   "codemirror_mode": {
    "name": "ipython",
    "version": 3
   },
   "file_extension": ".py",
   "mimetype": "text/x-python",
   "name": "python",
   "nbconvert_exporter": "python",
   "pygments_lexer": "ipython3",
   "version": "3.8.12"
  }
 },
 "nbformat": 4,
 "nbformat_minor": 5
}
