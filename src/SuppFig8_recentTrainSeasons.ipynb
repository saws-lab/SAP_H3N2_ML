{
 "cells": [
  {
   "cell_type": "markdown",
   "id": "1d64ced8",
   "metadata": {},
   "source": [
    "# Importance of recent train seasons\n",
    "We will evaluate the proposed AdaBoost model over 14 test seasons from 2014NH to 2020SH, where the model will be trained over subsets of training data containing only 1 to 5 recent seasons."
   ]
  },
  {
   "cell_type": "markdown",
   "id": "2ec7c136",
   "metadata": {},
   "source": [
    "## Imports"
   ]
  },
  {
   "cell_type": "code",
   "execution_count": 1,
   "id": "16304ac3",
   "metadata": {},
   "outputs": [],
   "source": [
    "from pathlib import Path\n",
    "import pandas as pd\n",
    "import numpy as np\n",
    "from ast import literal_eval\n",
    "import random\n",
    "import gc\n",
    "\n",
    "# self defined functions and models\n",
    "import utilities\n",
    "import model_utilities\n",
    "\n",
    "# for encoding of metadata information\n",
    "from sklearn.preprocessing import OneHotEncoder\n",
    "\n",
    "# for parallel computation\n",
    "from functools import partial\n",
    "from joblib import Parallel, delayed\n",
    "\n",
    "# for reproduciblility, fix the randomly generated numbers\n",
    "SEED = 100\n",
    "random.seed(SEED)\n",
    "np.random.seed(SEED)"
   ]
  },
  {
   "cell_type": "markdown",
   "id": "187e43b5",
   "metadata": {},
   "source": [
    "## Variables"
   ]
  },
  {
   "cell_type": "code",
   "execution_count": 2,
   "id": "4133151d",
   "metadata": {},
   "outputs": [],
   "source": [
    "mut_mat       = \"GIAG010101\"   # mutation matrix\n",
    "Test_Seasons = [str(year)+s for year in range (2014, 2021) for s in [\"NH\", \"SH\"]]   # seasons from 2014NH to 2020SH\n",
    "\n",
    "HA1_features  = [f\"HA1_{x}\" for x in range(1,329+1)]\n",
    "meta_features = [\n",
    "                 'virus',   # virus avidity\n",
    "                 'serum',   # antiserum potency\n",
    "                 'virusPassCat',   # virus passage category\n",
    "                 'serumPassCat'   # serum passage category\n",
    "                 ]   # metadata features\n",
    "\n",
    "metadata   = 'a+p+vPC+sPC'   # label to record which metadata is being used\n",
    "model_name = 'AdaBoost'   # the type of model to be used\n",
    "\n",
    "recentTrainSeasons_all = [1, 2, 3, 4, 5, 'all']   # number of recent seasons for training"
   ]
  },
  {
   "cell_type": "markdown",
   "id": "586350e8",
   "metadata": {},
   "source": [
    "## Paths and filenames"
   ]
  },
  {
   "cell_type": "code",
   "execution_count": 3,
   "id": "95b4f5b1",
   "metadata": {},
   "outputs": [],
   "source": [
    "# paths\n",
    "path_data   = \"../data/\"   # path of data\n",
    "path_result = \"../results/SuppFig8_recentTrainSeasons/\"   # results will be saved in this directory\n",
    "Path(path_result).mkdir(parents=True, exist_ok=True)   # make directory if it does not exist already\n",
    "\n",
    "# filenames\n",
    "data_fn    = path_data + f\"nhts_ha1_{mut_mat}.csv\"   # input data\n",
    "results_fn = path_result + \"SuppFig8_recentTrainSeasons.csv\"   # to save performance scores for test dataset\n",
    "fig_fn     = path_result + 'SuppFig8_recentTrainSeasons.svg'   # to save figure"
   ]
  },
  {
   "cell_type": "markdown",
   "id": "529a9ed3",
   "metadata": {},
   "source": [
    "## Read data\n",
    "- Genetic difference (seq_diff) encoded as per the mutation matrix\n",
    "- Converter is used to load the genetic difference saved as a list of floats"
   ]
  },
  {
   "cell_type": "code",
   "execution_count": 4,
   "id": "782e7377",
   "metadata": {},
   "outputs": [],
   "source": [
    "data = pd.read_csv(data_fn, converters={\"seq_diff\": literal_eval})"
   ]
  },
  {
   "cell_type": "markdown",
   "id": "d91fa3a7",
   "metadata": {},
   "source": [
    "## Function to compute performance of model for a given season\n",
    "- Split the data into training and validation datasets\n",
    "- Prepare encoded inputs (genetic difference and metadata features)\n",
    "- Train and validate the model\n",
    "- Compute predictive performance\n",
    "\n",
    "> **Parameters**\n",
    "> - season (str): identifier for the Northern of Southern Hemisphere season such as \"2015NH\"\n",
    "\n",
    "> **Returns**\n",
    "> - (numpy array): actual NHTs for the given season\n",
    "> - (numpy array): predicted NHTs for the given season"
   ]
  },
  {
   "cell_type": "code",
   "execution_count": 9,
   "id": "ebdb59ed",
   "metadata": {},
   "outputs": [],
   "source": [
    "def train_test_season(season, recent_train_seasons):\n",
    "    '''\n",
    "    Train Test Split\n",
    "        - based on seasonal framework\n",
    "        - Train: past virus isolates paired with past sera\n",
    "        - Test: circulating virus isolates paired with past sera\n",
    "    '''\n",
    "    ind_train, ind_test = utilities.recentTrainSeasons_seasonal_trainTestSplit(data[['virus', 'serum', 'virusDate', 'serumDate']],\n",
    "                                                                               test_season=season,\n",
    "                                                                               train_seasons=recent_train_seasons)\n",
    "    \n",
    "    # training dataset\n",
    "    data_train = data.iloc[ind_train].copy()\n",
    "    data_train.reset_index(drop=True, inplace=True)\n",
    "    \n",
    "    # test dataset\n",
    "    data_test = data.iloc[ind_test].copy()\n",
    "    data_test.reset_index(drop=True, inplace=True)\n",
    "\n",
    "\n",
    "    '''\n",
    "    Input features (genetic difference)\n",
    "    '''\n",
    "    # training dataset\n",
    "    X_train = pd.DataFrame(data_train.seq_diff.to_list(),\n",
    "                           index=data_train.index,\n",
    "                           columns=HA1_features)\n",
    "    X_train.fillna(0, inplace=True)   # replace nan with 0\n",
    "    \n",
    "    # test dataset\n",
    "    X_test = pd.DataFrame(data_test.seq_diff.to_list(),\n",
    "                          index=data_test.index,\n",
    "                          columns=HA1_features)\n",
    "    X_test.fillna(0, inplace=True)   # replace nan with 0\n",
    "    \n",
    "    \n",
    "    '''\n",
    "    Input features (metadata features)\n",
    "    '''\n",
    "    X_train_meta = data_train[meta_features].fillna('None').astype('str')\n",
    "    X_test_meta  = data_test[meta_features].fillna('None').astype('str')\n",
    "    \n",
    "    \n",
    "    # one hot encoding\n",
    "    ohe = OneHotEncoder(handle_unknown='ignore')\n",
    "    X_train_meta = ohe.fit_transform(X_train_meta).toarray()\n",
    "    X_test_meta  = ohe.transform(X_test_meta).toarray()\n",
    "      \n",
    "    X_train = np.hstack((X_train.values, X_train_meta))\n",
    "    X_test  = np.hstack((X_test.values, X_test_meta))\n",
    "\n",
    "\n",
    "    '''\n",
    "    Target (NHTs)\n",
    "    '''\n",
    "    y_train = data_train.nht.values\n",
    "    y_test  = data_test.nht.values\n",
    "\n",
    "\n",
    "    del X_train_meta, X_test_meta, data_train, data_test\n",
    "    gc.collect()\n",
    "        \n",
    "    \n",
    "    '''\n",
    "    Training and testing\n",
    "    '''\n",
    "    model = getattr(model_utilities, f\"model_{model_name}\")\n",
    "    results = model(X_train,\n",
    "                    y_train,\n",
    "                    X_test = X_test)\n",
    "    \n",
    "    \n",
    "    '''\n",
    "    Test Scores\n",
    "    '''\n",
    "    cols       = ['mut_mat', 'model', 'metadata', 'recent_train_seasons', 'season']\n",
    "    col_values = [mut_mat, model_name, metadata, str(recent_train_seasons), season]\n",
    "    utilities.compute_scores(y_test, results['pred_test'], results_fn, col=cols, col_val=col_values)\n",
    "    \n",
    "    \n",
    "    return season, y_test, results['pred_test']"
   ]
  },
  {
   "cell_type": "markdown",
   "id": "1be5f7dc",
   "metadata": {},
   "source": [
    "## Performance of the model\n",
    "- For each number of recent train seasons\n",
    "    - For each test season from 2014NH to 2020SH\n",
    "        - Split the data into training and test datasets\n",
    "        - Prepare encoded inputs (genetic difference and metadata features)\n",
    "        - Train and evaluate the model\n",
    "        - Compute predictive performance\n",
    "        - Save the predictions\n",
    "    - Compute average predictive performance"
   ]
  },
  {
   "cell_type": "code",
   "execution_count": 11,
   "id": "861bc21c",
   "metadata": {},
   "outputs": [
    {
     "name": "stdout",
     "output_type": "stream",
     "text": [
      "No. of recent train seasons:  1\n"
     ]
    },
    {
     "name": "stderr",
     "output_type": "stream",
     "text": [
      "[Parallel(n_jobs=-1)]: Using backend LokyBackend with 24 concurrent workers.\n",
      "2023-10-09 17:12:27.548304: I tensorflow/core/platform/cpu_feature_guard.cc:193] This TensorFlow binary is optimized with oneAPI Deep Neural Network Library (oneDNN) to use the following CPU instructions in performance-critical operations:  AVX2 FMA\n",
      "To enable them in other operations, rebuild TensorFlow with the appropriate compiler flags.\n",
      "2023-10-09 17:12:27.869031: I tensorflow/core/platform/cpu_feature_guard.cc:193] This TensorFlow binary is optimized with oneAPI Deep Neural Network Library (oneDNN) to use the following CPU instructions in performance-critical operations:  AVX2 FMA\n",
      "To enable them in other operations, rebuild TensorFlow with the appropriate compiler flags.\n",
      "2023-10-09 17:12:28.390734: I tensorflow/core/platform/cpu_feature_guard.cc:193] This TensorFlow binary is optimized with oneAPI Deep Neural Network Library (oneDNN) to use the following CPU instructions in performance-critical operations:  AVX2 FMA\n",
      "To enable them in other operations, rebuild TensorFlow with the appropriate compiler flags.\n",
      "2023-10-09 17:12:29.035346: I tensorflow/core/platform/cpu_feature_guard.cc:193] This TensorFlow binary is optimized with oneAPI Deep Neural Network Library (oneDNN) to use the following CPU instructions in performance-critical operations:  AVX2 FMA\n",
      "To enable them in other operations, rebuild TensorFlow with the appropriate compiler flags.\n",
      "2023-10-09 17:12:29.672702: I tensorflow/core/platform/cpu_feature_guard.cc:193] This TensorFlow binary is optimized with oneAPI Deep Neural Network Library (oneDNN) to use the following CPU instructions in performance-critical operations:  AVX2 FMA\n",
      "To enable them in other operations, rebuild TensorFlow with the appropriate compiler flags.\n",
      "2023-10-09 17:12:29.961792: I tensorflow/core/platform/cpu_feature_guard.cc:193] This TensorFlow binary is optimized with oneAPI Deep Neural Network Library (oneDNN) to use the following CPU instructions in performance-critical operations:  AVX2 FMA\n",
      "To enable them in other operations, rebuild TensorFlow with the appropriate compiler flags.\n",
      "2023-10-09 17:12:30.446172: I tensorflow/core/platform/cpu_feature_guard.cc:193] This TensorFlow binary is optimized with oneAPI Deep Neural Network Library (oneDNN) to use the following CPU instructions in performance-critical operations:  AVX2 FMA\n",
      "To enable them in other operations, rebuild TensorFlow with the appropriate compiler flags.\n",
      "2023-10-09 17:12:30.980413: I tensorflow/core/platform/cpu_feature_guard.cc:193] This TensorFlow binary is optimized with oneAPI Deep Neural Network Library (oneDNN) to use the following CPU instructions in performance-critical operations:  AVX2 FMA\n",
      "To enable them in other operations, rebuild TensorFlow with the appropriate compiler flags.\n",
      "2023-10-09 17:12:31.502098: I tensorflow/core/platform/cpu_feature_guard.cc:193] This TensorFlow binary is optimized with oneAPI Deep Neural Network Library (oneDNN) to use the following CPU instructions in performance-critical operations:  AVX2 FMA\n",
      "To enable them in other operations, rebuild TensorFlow with the appropriate compiler flags.\n",
      "2023-10-09 17:12:32.047546: I tensorflow/core/platform/cpu_feature_guard.cc:193] This TensorFlow binary is optimized with oneAPI Deep Neural Network Library (oneDNN) to use the following CPU instructions in performance-critical operations:  AVX2 FMA\n",
      "To enable them in other operations, rebuild TensorFlow with the appropriate compiler flags.\n",
      "[Parallel(n_jobs=-1)]: Done  12 out of  14 | elapsed:   14.6s remaining:    2.4s\n",
      "[Parallel(n_jobs=-1)]: Done  14 out of  14 | elapsed:   17.7s finished\n",
      "[Parallel(n_jobs=-1)]: Using backend LokyBackend with 24 concurrent workers.\n"
     ]
    },
    {
     "name": "stdout",
     "output_type": "stream",
     "text": [
      "No. of recent train seasons:  2\n"
     ]
    },
    {
     "name": "stderr",
     "output_type": "stream",
     "text": [
      "[Parallel(n_jobs=-1)]: Done  12 out of  14 | elapsed:   33.5s remaining:    5.6s\n",
      "[Parallel(n_jobs=-1)]: Done  14 out of  14 | elapsed:   41.3s finished\n",
      "[Parallel(n_jobs=-1)]: Using backend LokyBackend with 24 concurrent workers.\n"
     ]
    },
    {
     "name": "stdout",
     "output_type": "stream",
     "text": [
      "No. of recent train seasons:  3\n"
     ]
    },
    {
     "name": "stderr",
     "output_type": "stream",
     "text": [
      "[Parallel(n_jobs=-1)]: Done  12 out of  14 | elapsed:  1.3min remaining:   12.7s\n",
      "[Parallel(n_jobs=-1)]: Done  14 out of  14 | elapsed:  1.5min finished\n",
      "[Parallel(n_jobs=-1)]: Using backend LokyBackend with 24 concurrent workers.\n"
     ]
    },
    {
     "name": "stdout",
     "output_type": "stream",
     "text": [
      "No. of recent train seasons:  4\n"
     ]
    },
    {
     "name": "stderr",
     "output_type": "stream",
     "text": [
      "[Parallel(n_jobs=-1)]: Done  12 out of  14 | elapsed:  2.8min remaining:   27.9s\n",
      "[Parallel(n_jobs=-1)]: Done  14 out of  14 | elapsed:  3.1min finished\n",
      "[Parallel(n_jobs=-1)]: Using backend LokyBackend with 24 concurrent workers.\n"
     ]
    },
    {
     "name": "stdout",
     "output_type": "stream",
     "text": [
      "No. of recent train seasons:  5\n",
      "Time for training: 1.6414127349853516\n",
      "Time for training: 5.097602605819702\n",
      "Time for training: 11.431537389755249\n",
      "Time for training: 56.704602003097534\n",
      "Time for training: 7.923105239868164\n",
      "Time for training: 5.689915895462036\n",
      "Time for training: 16.205386638641357\n",
      "Time for training: 56.10739493370056\n",
      "Time for training: 1.3576254844665527\n",
      "Time for training: 22.8556809425354\n",
      "Time for training: 63.48865079879761\n",
      "Time for training: 8.823132276535034\n",
      "Time for training: 19.51027274131775\n",
      "Time for training: 76.31313228607178\n",
      "Time for training: 6.5689921379089355\n",
      "Time for training: 20.48247218132019\n",
      "Time for training: 80.82113742828369\n",
      "Time for training: 4.958163261413574\n",
      "Time for training: 19.014780044555664\n",
      "Time for training: 135.10186052322388\n"
     ]
    },
    {
     "name": "stderr",
     "output_type": "stream",
     "text": [
      "[Parallel(n_jobs=-1)]: Done  12 out of  14 | elapsed:  4.5min remaining:   44.7s\n"
     ]
    },
    {
     "name": "stdout",
     "output_type": "stream",
     "text": [
      "Time for training: 6.4405341148376465\n",
      "Time for training: 12.352993726730347\n",
      "Time for training: 138.94691014289856\n",
      "Time for training: 2.015331745147705\n",
      "Time for training: 18.98926830291748\n",
      "Time for training: 152.71525764465332\n",
      "Time for training: 3.205144166946411\n",
      "Time for training: 9.057804822921753\n",
      "Time for training: 157.33922290802002\n",
      "Time for training: 1.211958408355713\n",
      "Time for training: 19.38110327720642\n",
      "Time for training: 168.64610934257507\n"
     ]
    },
    {
     "name": "stderr",
     "output_type": "stream",
     "text": [
      "[Parallel(n_jobs=-1)]: Done  14 out of  14 | elapsed:  5.3min finished\n",
      "[Parallel(n_jobs=-1)]: Using backend LokyBackend with 24 concurrent workers.\n"
     ]
    },
    {
     "name": "stdout",
     "output_type": "stream",
     "text": [
      "No. of recent train seasons:  all\n",
      "Time for training: 4.840788125991821\n",
      "Time for training: 83.1132299900055\n",
      "Time for training: 78.87036371231079\n",
      "Time for training: 292.1709985733032\n",
      "Time for training: 1.4597887992858887\n",
      "Time for training: 26.04941463470459\n",
      "Time for training: 33.01992654800415\n",
      "Time for training: 81.44860458374023\n",
      "Time for training: 464.96219205856323\n",
      "Time for training: 2.033846855163574\n",
      "Time for training: 75.82815790176392\n",
      "Time for training: 92.36178159713745\n",
      "Time for training: 736.8944439888\n",
      "Time for training: 1.6760876178741455\n",
      "Time for training: 23.625807762145996\n",
      "Time for training: 50.984036684036255\n",
      "Time for training: 88.73422122001648\n",
      "Time for training: 994.7733643054962\n",
      "Time for training: 6.104187250137329\n",
      "Time for training: 5.136704683303833\n",
      "Time for training: 60.36126947402954\n",
      "Time for training: 104.86640858650208\n",
      "Time for training: 1135.936121225357\n",
      "Time for training: 4.8077778816223145\n",
      "Time for training: 36.33672618865967\n",
      "Time for training: 56.1363468170166\n",
      "Time for training: 108.97293257713318\n",
      "Time for training: 1273.6212990283966\n",
      "Time for training: 4.353965520858765\n",
      "Time for training: 4.2694923877716064\n",
      "Time for training: 10.320265054702759\n",
      "Time for training: 37.911510944366455\n",
      "Time for training: 113.3374855518341\n",
      "Time for training: 1412.7310276031494\n",
      "Time for training: 2.7025880813598633\n",
      "Time for training: 70.60496258735657\n",
      "Time for training: 124.18813967704773\n",
      "Time for training: 1851.771847486496\n",
      "Time for training: 8.050553321838379\n",
      "Time for training: 32.07500410079956\n",
      "Time for training: 163.8547487258911\n",
      "Time for training: 2034.0960218906403\n",
      "Time for training: 1.2199928760528564\n",
      "Time for training: 66.44282174110413\n",
      "Time for training: 168.96974086761475\n",
      "Time for training: 2157.6479272842407\n",
      "Time for training: 3.1624109745025635\n",
      "Time for training: 4.496329069137573\n",
      "Time for training: 54.83301067352295\n",
      "Time for training: 214.10609555244446\n",
      "Time for training: 2333.1819174289703\n"
     ]
    },
    {
     "name": "stderr",
     "output_type": "stream",
     "text": [
      "[Parallel(n_jobs=-1)]: Done  12 out of  14 | elapsed: 46.2min remaining:  7.7min\n"
     ]
    },
    {
     "name": "stdout",
     "output_type": "stream",
     "text": [
      "Time for training: 8.864545583724976\n",
      "Time for training: 32.00957226753235\n",
      "Time for training: 249.57732844352722\n",
      "Time for training: 2660.7360785007477\n",
      "Time for training: 1.3632218837738037\n",
      "Time for training: 1.4735798835754395\n",
      "Time for training: 3.948514223098755\n",
      "Time for training: 41.13131070137024\n",
      "Time for training: 274.3105070590973\n",
      "Time for training: 3184.0419986248016\n"
     ]
    },
    {
     "name": "stderr",
     "output_type": "stream",
     "text": [
      "[Parallel(n_jobs=-1)]: Done  14 out of  14 | elapsed: 64.7min finished\n"
     ]
    },
    {
     "name": "stdout",
     "output_type": "stream",
     "text": [
      "Time for training: 2.6583516597747803\n",
      "Time for training: 6.2402732372283936\n",
      "Time for training: 39.17485165596008\n",
      "Time for training: 299.82994556427\n",
      "Time for training: 3738.694814682007\n"
     ]
    }
   ],
   "source": [
    "'''\n",
    "Recent train season\n",
    "'''\n",
    "for recent_train_seasons in recentTrainSeasons_all:\n",
    "    print(\"No. of recent train seasons: \", recent_train_seasons)\n",
    "    \n",
    "    # train test for each test season in parallel\n",
    "    result = Parallel(n_jobs=-1, verbose=1)(delayed(train_test_season)(test_season, recent_train_seasons) for test_season in Test_Seasons)\n",
    "\n",
    "    # get results\n",
    "    seasons, actual_all, predict_all = zip(*result)\n",
    "\n",
    "    '''\n",
    "    Micro-average over seasons\n",
    "    '''\n",
    "    actual  = np.concatenate(actual_all)\n",
    "    predict = np.concatenate(predict_all)\n",
    "\n",
    "    # Test scores\n",
    "    cols       = ['mut_mat', 'model', 'metadata', 'recent_train_seasons', 'season']\n",
    "    col_values = [mut_mat, model_name, metadata, str(recent_train_seasons), 'Average']\n",
    "    utilities.compute_scores(actual, predict, results_fn, col=cols, col_val=col_values)\n",
    "    \n",
    "\n",
    "    ####################################\n",
    "    # loop over missed_train_Seasons end\n",
    "    ####################################"
   ]
  },
  {
   "cell_type": "markdown",
   "id": "ad9e672c",
   "metadata": {},
   "source": [
    "## Imports and configuration for plotting"
   ]
  },
  {
   "cell_type": "code",
   "execution_count": 4,
   "id": "55bba4c8",
   "metadata": {},
   "outputs": [],
   "source": [
    "import matplotlib.pyplot as plt\n",
    "import seaborn as sns\n",
    "%matplotlib inline\n",
    "\n",
    "sns.set_context(rc={\"axes.labelsize\":9,\n",
    "                    \"xtick.labelsize\":8,\n",
    "                    \"ytick.labelsize\":8,\n",
    "                    \"legend.fontsize\":8,\n",
    "                    \"legend.title_fontsize\":8})"
   ]
  },
  {
   "cell_type": "markdown",
   "id": "75e31743",
   "metadata": {},
   "source": [
    "## Read test scores and prepare data for plots"
   ]
  },
  {
   "cell_type": "code",
   "execution_count": 6,
   "id": "614e4032",
   "metadata": {},
   "outputs": [],
   "source": [
    "scores = pd.read_csv(results_fn)\n",
    "# convert to int\n",
    "scores['recent_train_seasons'] = [int(n) if n!='all' else n for n in scores.recent_train_seasons]\n",
    "scores = scores[scores.recent_train_seasons.isin([1, 2, 3, 4, 5, 'all'])].copy()"
   ]
  },
  {
   "cell_type": "markdown",
   "id": "608f2b6a",
   "metadata": {},
   "source": [
    "## Plot MAE vs. number of recent seasons for training"
   ]
  },
  {
   "cell_type": "code",
   "execution_count": 11,
   "id": "b5976ba5",
   "metadata": {},
   "outputs": [
    {
     "data": {
      "image/png": "[encoded data removed]",
      "text/plain": [
       "<Figure size 400x300 with 1 Axes>"
      ]
     },
     "metadata": {},
     "output_type": "display_data"
    }
   ],
   "source": [
    "fig, ax = plt.subplots(figsize=(4,3))\n",
    "\n",
    "plot = sns.boxplot(x='recent_train_seasons', y='MAE', data=scores[scores.season!='Average'],\n",
    "                   width=0.5,\n",
    "                   color=\"C0\",\n",
    "                   ax=ax)\n",
    "\n",
    "# annotate\n",
    "for (xtick, label) in zip(plot.get_xticks(), scores[scores.season=='Average'].MAE):\n",
    "    ax.text(xtick,\n",
    "            1.05,\n",
    "            f\"{label:.3f}\",\n",
    "            horizontalalignment='center',\n",
    "            fontsize=8,\n",
    "            rotation=0)\n",
    "\n",
    "ax.text(2.5, 1.09, \"Average MAE\", fontsize=9, horizontalalignment='center')\n",
    "\n",
    "# configurations for figure\n",
    "ax.set_xlabel('No. of recent seasons in training dataset', fontsize=9)\n",
    "ax.set_ylabel('MAE', fontsize=9)\n",
    "ax.set_ylim(bottom=0.5, top=1.15)\n",
    "\n",
    "sns.despine(trim=True)\n",
    "\n",
    "# save figure\n",
    "fig.savefig(fig_fn, format='svg', bbox_inches='tight')"
   ]
  },
  {
   "cell_type": "code",
   "execution_count": null,
   "id": "626de232",
   "metadata": {},
   "outputs": [],
   "source": []
  }
 ],
 "metadata": {
  "kernelspec": {
   "display_name": "Python [conda env:seasonal_ag_pred_tf]",
   "language": "python",
   "name": "conda-env-seasonal_ag_pred_tf-py"
  },
  "language_info": {
   "codemirror_mode": {
    "name": "ipython",
    "version": 3
   },
   "file_extension": ".py",
   "mimetype": "text/x-python",
   "name": "python",
   "nbconvert_exporter": "python",
   "pygments_lexer": "ipython3",
   "version": "3.8.12"
  }
 },
 "nbformat": 4,
 "nbformat_minor": 5
}
