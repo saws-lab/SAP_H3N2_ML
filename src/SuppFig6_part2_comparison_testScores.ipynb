{
 "cells": [
  {
   "cell_type": "markdown",
   "id": "c370c635",
   "metadata": {},
   "source": [
    "# Comparison of multiple models\n",
    "We will evaluate the performance of multiple optimized models over 14 test seasons from 204NH to 2020SH.\n",
    "- AdaBoost (NextFlu matched params)\n",
    "    - mut_mat = 'binary'\n",
    "    - meta_features = ['virus', 'serum']\n",
    "    - metadata = 'a+p'\n",
    "    - model_name = 'AdaBoost_binary'\n",
    "- Random forest (RF)\n",
    "    - mut_mat = 'AZAE970101'\n",
    "    - meta_features = ['virus', 'serum', 'virusPassCat', 'serumPassCat']\n",
    "    - metadata = 'a+p+vPC+sPC'\n",
    "    - model_name = 'RF'\n",
    "- eXtreme Gradient Boosting (XGBoost)\n",
    "    - mut_mat = 'GIAG010101'\n",
    "    - meta_features = ['virus', 'serum', 'virusPassCat', 'serumPassCat']\n",
    "    - metadata = 'a+p+vPC+sPC'\n",
    "    - model_name = 'XGBoost'\n",
    "- Multilayer perceptron (MLP)\n",
    "    - mut_mat = 'WEIL970102'\n",
    "    - meta_features = ['virus', 'serum', 'virusPassCat', 'serumPassCat']\n",
    "    - metadata = 'a+p+vPC+sPC'\n",
    "    - model_name = 'MLP'\n",
    "- Residual neural network (ResNet)\n",
    "    - mut_mat = 'MUET010101'\n",
    "    - meta_features = ['virus', 'serum', 'virusPassCat', 'serumPassCat']\n",
    "    - metadata = 'a+p+vPC+sPC'\n",
    "    - model_name = 'ResNet'"
   ]
  },
  {
   "cell_type": "markdown",
   "id": "7ac425dc",
   "metadata": {},
   "source": [
    "## Imports"
   ]
  },
  {
   "cell_type": "code",
   "execution_count": 1,
   "id": "b26c0440",
   "metadata": {},
   "outputs": [],
   "source": [
    "from pathlib import Path\n",
    "import pandas as pd\n",
    "import numpy as np\n",
    "from ast import literal_eval\n",
    "import random\n",
    "\n",
    "# self defined functions and models\n",
    "import utilities\n",
    "import model_utilities\n",
    "\n",
    "# for encoding of metadata information\n",
    "from sklearn.preprocessing import OneHotEncoder\n",
    "\n",
    "# for parallel computation\n",
    "from joblib import Parallel, delayed\n",
    "\n",
    "# for reproduciblility, fix the randomly generated numbers\n",
    "SEED = 100\n",
    "random.seed(SEED)\n",
    "np.random.seed(SEED)"
   ]
  },
  {
   "cell_type": "markdown",
   "id": "1c06ca5e",
   "metadata": {},
   "source": [
    "## Variables"
   ]
  },
  {
   "cell_type": "code",
   "execution_count": 2,
   "id": "e85ba08b",
   "metadata": {},
   "outputs": [],
   "source": [
    "mut_mat      = 'WEIL970102'   # mutation matrix\n",
    "Test_Seasons = [str(year)+s for year in range (2014, 2021) for s in [\"NH\", \"SH\"]]   # seasons from 2014NH to 2020SH\n",
    "\n",
    "HA1_features  = [f\"HA1_{x}\" for x in range(1,329+1)]\n",
    "meta_features = [\n",
    "                 'virus',   # virus avidity\n",
    "                 'serum',   # antiserum potency\n",
    "                 'virusPassCat',\n",
    "                 'serumPassCat'\n",
    "                 ]   # metadata features\n",
    "\n",
    "metadata   = 'a+p+vPC+sPC'   # label to record which metadata is being used\n",
    "model_name = 'MLP'   # the type of model to be used"
   ]
  },
  {
   "cell_type": "markdown",
   "id": "a8a1fab9",
   "metadata": {},
   "source": [
    "## Paths and filenames"
   ]
  },
  {
   "cell_type": "code",
   "execution_count": 3,
   "id": "ef3f210d",
   "metadata": {},
   "outputs": [],
   "source": [
    "# paths\n",
    "path_data   = \"../data/\"   # path of data\n",
    "path_result = \"../results/SuppFig6_comparison/\"   # results will be saved in this directory\n",
    "Path(path_result).mkdir(parents=True, exist_ok=True)   # make directory if it does not exist already\n",
    "\n",
    "# filenames\n",
    "data_fn    = path_data + f\"nhts_ha1_{mut_mat}.csv\"   # input data\n",
    "results_fn = path_result + \"SuppFig6_testScores.csv\"   # to save performance scores for test dataset"
   ]
  },
  {
   "cell_type": "markdown",
   "id": "1a1ec4cd",
   "metadata": {},
   "source": [
    "## Read data\n",
    "- Genetic difference (seq_diff) encoded as per the mutation matrix\n",
    "- Converter is used to load the genetic difference saved as a list of floats"
   ]
  },
  {
   "cell_type": "code",
   "execution_count": 4,
   "id": "fefa423e",
   "metadata": {},
   "outputs": [],
   "source": [
    "data = pd.read_csv(data_fn, converters={\"seq_diff\": literal_eval})"
   ]
  },
  {
   "cell_type": "markdown",
   "id": "d33635a8",
   "metadata": {},
   "source": [
    "## Function to compute performance of model for a given season\n",
    "- Split the data into training and validation datasets\n",
    "- Prepare encoded inputs (genetic difference and metadata features)\n",
    "- Train and validate the model\n",
    "- Compute predictive performance\n",
    "\n",
    "> **Parameters**\n",
    "> - season (str): identifier for the Northern of Southern Hemisphere season such as \"2015NH\"\n",
    "\n",
    "> **Returns**\n",
    "> - (numpy array): actual NHTs for the given season\n",
    "> - (numpy array): predicted NHTs for the given season"
   ]
  },
  {
   "cell_type": "code",
   "execution_count": 5,
   "id": "e0cff6c6",
   "metadata": {},
   "outputs": [],
   "source": [
    "def train_test_season(season):\n",
    "    print(season)\n",
    "    \n",
    "    '''\n",
    "    Train Test Split\n",
    "        - based on seasonal framework\n",
    "        - Train: past virus isolates paired with past sera\n",
    "        - Test: circulating virus isolates paired with past sera\n",
    "    '''\n",
    "    ind_train, ind_test = utilities.seasonal_trainTestSplit(data[['virus', 'serum', 'virusDate', 'serumDate']], season)\n",
    "    \n",
    "    # training dataset\n",
    "    data_train = data.iloc[ind_train].copy()\n",
    "    data_train.reset_index(drop=True, inplace=True)\n",
    "    \n",
    "    # test dataset\n",
    "    data_test = data.iloc[ind_test].copy()\n",
    "    data_test.reset_index(drop=True, inplace=True)\n",
    "    \n",
    "\n",
    "    '''\n",
    "    Input features (genetic difference)\n",
    "    '''\n",
    "    # training dataset\n",
    "    X_train = pd.DataFrame(data_train.seq_diff.to_list(),\n",
    "                           index=data_train.index,\n",
    "                           columns=HA1_features)\n",
    "    X_train.fillna(0, inplace=True)   # replace nan with 0\n",
    "    \n",
    "    # test dataset\n",
    "    X_test = pd.DataFrame(data_test.seq_diff.to_list(),\n",
    "                          index=data_test.index,\n",
    "                          columns=HA1_features)\n",
    "    X_test.fillna(0, inplace=True)   # replace nan with 0\n",
    "    \n",
    "    \n",
    "    '''\n",
    "    Input features (metadata features)\n",
    "    '''\n",
    "    X_train_meta = data_train[meta_features].fillna('None').astype('str')\n",
    "    X_test_meta  = data_test[meta_features].fillna('None').astype('str')\n",
    "    \n",
    "    \n",
    "    # one hot encoding\n",
    "    ohe = OneHotEncoder(handle_unknown='ignore')\n",
    "    X_train_meta = ohe.fit_transform(X_train_meta).toarray()\n",
    "    X_test_meta  = ohe.transform(X_test_meta).toarray()\n",
    "      \n",
    "    X_train = np.hstack((X_train.values, X_train_meta))\n",
    "    X_test  = np.hstack((X_test.values, X_test_meta))\n",
    "\n",
    "\n",
    "    del X_train_meta, X_test_meta\n",
    "    \n",
    "    \n",
    "    '''\n",
    "    Target (NHT)\n",
    "    '''\n",
    "    y_train = data_train.nht.values\n",
    "    y_test  = data_test.nht.values\n",
    "    \n",
    "    del data_train, data_test\n",
    "        \n",
    "    \n",
    "    '''\n",
    "    Training and testing\n",
    "    '''\n",
    "    # baseline model\n",
    "    model = getattr(model_utilities, f\"model_{model_name}\")\n",
    "    results = model(X_train,\n",
    "                    y_train,\n",
    "                    X_test = X_test)\n",
    "    \n",
    "    \n",
    "    '''\n",
    "    Test Scores\n",
    "    '''\n",
    "    cols       = ['mut_mat', 'model', 'metadata', 'season']\n",
    "    col_values = [mut_mat, model_name, metadata, season]\n",
    "    utilities.compute_scores(y_test, results['pred_test'], results_fn, col=cols, col_val=col_values)\n",
    "    \n",
    "    \n",
    "    return season, y_test, results['pred_test']"
   ]
  },
  {
   "cell_type": "markdown",
   "id": "56ac7b16",
   "metadata": {},
   "source": [
    "## Performance of the model\n",
    "- For each test season from 2014NH to 2020SH\n",
    "    - Split the data into training and test datasets\n",
    "    - Prepare encoded inputs (genetic difference and metadata features)\n",
    "    - Train and evaluate the model\n",
    "    - Compute predictive performance\n",
    "    - Save the predictions\n",
    "- Compute average predictive performance"
   ]
  },
  {
   "cell_type": "code",
   "execution_count": 6,
   "id": "5ec5b1f9",
   "metadata": {
    "scrolled": true
   },
   "outputs": [
    {
     "name": "stderr",
     "output_type": "stream",
     "text": [
      "[Parallel(n_jobs=1)]: Using backend SequentialBackend with 1 concurrent workers.\n"
     ]
    },
    {
     "name": "stdout",
     "output_type": "stream",
     "text": [
      "2014NH\n",
      "Time for training: 1268.380601644516\n",
      "Training and testing completed\n"
     ]
    },
    {
     "name": "stderr",
     "output_type": "stream",
     "text": [
      "[Parallel(n_jobs=1)]: Done   1 out of   1 | elapsed: 21.3min finished\n"
     ]
    }
   ],
   "source": [
    "# train test for each test season in parallel\n",
    "result = Parallel(n_jobs=1, verbose=1)(delayed(train_test_season)(test_season) for test_season in Test_Seasons)\n",
    "\n",
    "# get results\n",
    "_, actual_all, predict_all = zip(*result)\n",
    "\n",
    "'''\n",
    "Micro-average over seasons\n",
    "'''\n",
    "actual  = np.concatenate(actual_all)\n",
    "predict = np.concatenate(predict_all)\n",
    "\n",
    "# Test scores\n",
    "cols       = ['mut_mat', 'model', 'metadata', 'season']\n",
    "col_values = [mut_mat, model_name, metadata, 'Average']\n",
    "utilities.compute_scores(actual, predict, results_fn, col=cols, col_val=col_values)\n",
    "\n",
    "\n",
    "print(\"Training and testing completed\")"
   ]
  },
  {
   "cell_type": "code",
   "execution_count": null,
   "id": "474b842d",
   "metadata": {},
   "outputs": [],
   "source": []
  }
 ],
 "metadata": {
  "kernelspec": {
   "display_name": "Python [conda env:seasonal_ag_pred_tf]",
   "language": "python",
   "name": "conda-env-seasonal_ag_pred_tf-py"
  },
  "language_info": {
   "codemirror_mode": {
    "name": "ipython",
    "version": 3
   },
   "file_extension": ".py",
   "mimetype": "text/x-python",
   "name": "python",
   "nbconvert_exporter": "python",
   "pygments_lexer": "ipython3",
   "version": "3.8.12"
  }
 },
 "nbformat": 4,
 "nbformat_minor": 5
}
