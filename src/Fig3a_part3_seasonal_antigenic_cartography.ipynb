{
 "cells": [
  {
   "cell_type": "markdown",
   "id": "1bde9411",
   "metadata": {},
   "source": [
    "# Seasonal antigenic cartography\n",
    "Using 2D coordinates of virus isolates provided by [racmacs](https://acorg.github.io/Racmacs/), we will perform seasonal antigenic cartography."
   ]
  },
  {
   "cell_type": "markdown",
   "id": "b5d84059",
   "metadata": {},
   "source": [
    "## Imports and configuration for plotting"
   ]
  },
  {
   "cell_type": "code",
   "execution_count": 29,
   "id": "dd52fd78",
   "metadata": {},
   "outputs": [],
   "source": [
    "import pandas as pd\n",
    "import matplotlib.pyplot as plt\n",
    "import seaborn as sns\n",
    "\n",
    "sns.set_context(rc={\"axes.labelsize\":9,\n",
    "                    \"xtick.labelsize\":8,\n",
    "                    \"ytick.labelsize\":8,\n",
    "                    \"legend.fontsize\":8,\n",
    "                    \"legend.title_fontsize\":8})"
   ]
  },
  {
   "cell_type": "markdown",
   "id": "6c15c052",
   "metadata": {},
   "source": [
    "## Variables"
   ]
  },
  {
   "cell_type": "code",
   "execution_count": 30,
   "id": "c6fe3c82",
   "metadata": {},
   "outputs": [],
   "source": [
    "seasons = [\"2019SH\", \"2020NH\", \"2020SH\"]   # required seasons for cartography"
   ]
  },
  {
   "cell_type": "markdown",
   "id": "de4f5eb9",
   "metadata": {},
   "source": [
    "## Paths and filenames"
   ]
  },
  {
   "cell_type": "code",
   "execution_count": 31,
   "id": "a7a0d838",
   "metadata": {},
   "outputs": [],
   "source": [
    "# paths\n",
    "path_result   = \"../results/Fig3a_seasonal_antigenic_cartography/\"   # results will be saved in this directory\n",
    "\n",
    "# filenames\n",
    "coords_fn = path_result + \"titer_matrix_racmacs_coords.csv\"   # coordinates filename provided by racmacs\n",
    "fig_fn    = path_result + f\"Fig3a_antigenic_cartography_{seasons[0]}_{seasons[2]}.svg\""
   ]
  },
  {
   "cell_type": "markdown",
   "id": "77b17f28",
   "metadata": {},
   "source": [
    "## Read data"
   ]
  },
  {
   "cell_type": "code",
   "execution_count": 32,
   "id": "354a589e",
   "metadata": {},
   "outputs": [],
   "source": [
    "ag_map = pd.read_csv(coords_fn)\n",
    "ag_map.rename(columns={\"name\": \"virus\", \"Unnamed: 2\": \"x\", \"Unnamed: 3\": \"y\"}, inplace=True)\n",
    "\n",
    "# keep only antigens\n",
    "ag_map = ag_map[ag_map.type==\"antigen\"]\n",
    "ag_map = ag_map[[\"virus\", \"x\", \"y\"]]"
   ]
  },
  {
   "cell_type": "markdown",
   "id": "f2e23dee",
   "metadata": {},
   "source": [
    "## Compile metadata information"
   ]
  },
  {
   "cell_type": "code",
   "execution_count": 33,
   "id": "aef28f27",
   "metadata": {},
   "outputs": [],
   "source": [
    "virus         = ag_map.virus.str.split('=', expand=True)\n",
    "virus.columns = ['virusDate', 'virusName', 'virusPassage']\n",
    "\n",
    "# indicate virus with name and passage only\n",
    "ag_map[\"virus\"] = virus.virusName + \"=\" + virus.virusPassage\n",
    "\n",
    "# add date information\n",
    "ag_map[\"virusName\"] = virus.virusName\n",
    "ag_map[\"virusDate\"] = virus.virusDate\n",
    "\n",
    "# get relevant columns\n",
    "ag_map = ag_map[[\"virus\", \"virusDate\", \"x\", \"y\", \"virusName\"]]"
   ]
  },
  {
   "cell_type": "markdown",
   "id": "2e717dff",
   "metadata": {},
   "source": [
    "## Assign seasons and filter virus isolates of required seasons"
   ]
  },
  {
   "cell_type": "code",
   "execution_count": 34,
   "id": "f5e5e5c4",
   "metadata": {},
   "outputs": [],
   "source": [
    "for ind, row in ag_map.iterrows():\n",
    "    if row.virusDate[5:] <= \"01-31\":\n",
    "        ag_map.loc[ind, \"season\"] = row.virusDate[:4] + \"NH\"\n",
    "    \n",
    "    elif (row.virusDate[5:] >= \"02-01\") and (row.virusDate[5:] <= \"08-31\"):\n",
    "        ag_map.loc[ind, \"season\"] = row.virusDate[:4] + \"SH\"\n",
    "    \n",
    "    elif (row.virusDate[5:] >= \"09-01\") and (row.virusDate[5:] <= \"12-31\"):\n",
    "        season_year = int(row.virusDate[:4])\n",
    "        ag_map.loc[ind, \"season\"] = str(season_year+1) +\"NH\"\n",
    "\n",
    "'''\n",
    "filter required seasons\n",
    "'''\n",
    "ag_map = ag_map[ag_map.season.isin(seasons)]"
   ]
  },
  {
   "cell_type": "markdown",
   "id": "2cf41626",
   "metadata": {},
   "source": [
    "## Antigenic cartography"
   ]
  },
  {
   "cell_type": "code",
   "execution_count": 35,
   "id": "5738d710",
   "metadata": {},
   "outputs": [
    {
     "data": {
      "image/png": "[encoded data removed]",
      "text/plain": [
       "<Figure size 300x220 with 1 Axes>"
      ]
     },
     "metadata": {},
     "output_type": "display_data"
    }
   ],
   "source": [
    "fig, ax = plt.subplots(figsize=(3,2.2))\n",
    "\n",
    "ax.plot(ag_map[ag_map.season==seasons[0]].x, ag_map[ag_map.season==seasons[0]].y,\n",
    "        'o', fillstyle='full', markersize=4, color='silver', label=seasons[0])\n",
    "\n",
    "ax.plot(ag_map[ag_map.season==seasons[1]].x, ag_map[ag_map.season==seasons[1]].y,\n",
    "        'o', fillstyle='full', markersize=4, color='silver', label=seasons[1])\n",
    "\n",
    "ax.plot(ag_map[ag_map.season==seasons[2]].x, ag_map[ag_map.season==seasons[2]].y,\n",
    "        'o', fillstyle='none', markersize=4, color='tab:red', label=seasons[2])\n",
    "\n",
    "\n",
    "# configurations for figure\n",
    "ax.legend(ncol=3, \n",
    "          loc=\"upper left\", \n",
    "          bbox_to_anchor=(-0.06,1.17), \n",
    "          frameon=False, \n",
    "          handletextpad=0.05)\n",
    "\n",
    "# ax.get_legend().remove()\n",
    "\n",
    "ax.set_xticks(range(-6,7,2))\n",
    "ax.set_yticks(range(-4,5,2))\n",
    "ax.grid()\n",
    "ax.set_axisbelow(True)\n",
    "ax.set_xlabel(\"\")\n",
    "ax.set_ylabel(\"\")\n",
    "\n",
    "sns.despine(trim=True)\n",
    "\n",
    "fig.savefig(fig_fn, format='svg', bbox_inches='tight')"
   ]
  },
  {
   "cell_type": "markdown",
   "id": "ba08e778",
   "metadata": {},
   "source": [
    "## Repeat for different seasons (set of 3) by modifying variable \"seasons\""
   ]
  },
  {
   "cell_type": "code",
   "execution_count": null,
   "id": "5b2da490",
   "metadata": {},
   "outputs": [],
   "source": []
  }
 ],
 "metadata": {
  "kernelspec": {
   "display_name": "Python [conda env:seasonal_ag_pred]",
   "language": "python",
   "name": "conda-env-seasonal_ag_pred-py"
  },
  "language_info": {
   "codemirror_mode": {
    "name": "ipython",
    "version": 3
   },
   "file_extension": ".py",
   "mimetype": "text/x-python",
   "name": "python",
   "nbconvert_exporter": "python",
   "pygments_lexer": "ipython3",
   "version": "3.8.12"
  }
 },
 "nbformat": 4,
 "nbformat_minor": 5
}
