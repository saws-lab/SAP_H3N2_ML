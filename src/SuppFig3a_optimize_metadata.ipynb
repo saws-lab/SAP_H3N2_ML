{
 "cells": [
  {
   "cell_type": "markdown",
   "id": "7db15031",
   "metadata": {},
   "source": [
    "# Optimize metadata features\n",
    "We will analyze the effect of metadata features on the MAE performance of the baseline model. We will use the baseline model (RF with default/unopitimized hyper-parameters) and binary encoded genetic difference. The selection of features will be based on the performance of model over four validation seasons from 2012NH to 2013SH."
   ]
  },
  {
   "cell_type": "markdown",
   "id": "96e3004b",
   "metadata": {},
   "source": [
    "## Imports"
   ]
  },
  {
   "cell_type": "code",
   "execution_count": 2,
   "id": "c54e20f3",
   "metadata": {},
   "outputs": [],
   "source": [
    "from pathlib import Path\n",
    "import pandas as pd\n",
    "import numpy as np\n",
    "import utilities   # self defined functions\n",
    "import model_utilities   # self defined models\n",
    "from ast import literal_eval\n",
    "from sklearn.preprocessing import OneHotEncoder\n",
    "\n",
    "# (for reproduciblility) fix the randomly generated numbers\n",
    "SEED = 100\n",
    "np.random.seed(SEED)"
   ]
  },
  {
   "cell_type": "markdown",
   "id": "9d04915d",
   "metadata": {},
   "source": [
    "## Variables"
   ]
  },
  {
   "cell_type": "code",
   "execution_count": 3,
   "id": "c5bef616",
   "metadata": {},
   "outputs": [],
   "source": [
    "mut_mat       = \"binary\"   # mutation matrix\n",
    "Valid_Seasons = ['2012NH', '2012SH', '2013NH', '2013SH'] # seasons from 2012NH to 2013SH\n",
    "\n",
    "HA1_features  = [f\"HA1_{x}\" for x in range(1,329+1)]\n",
    "meta_features = [\n",
    "                 # 'virus',   # virus avidity\n",
    "                 'serum',   # antiserum potency\n",
    "                 # 'virusPassCat',\n",
    "                 # 'serumPassCat'\n",
    "                 ]   # metadata features\n",
    "\n",
    "metadata   = 'antiserum potency (p)'   # label to record which metadata is being used\n",
    "model_name = 'baseline'   # the type of model to be used"
   ]
  },
  {
   "cell_type": "markdown",
   "id": "c3cd6b0e",
   "metadata": {},
   "source": [
    "## Paths and filenames"
   ]
  },
  {
   "cell_type": "code",
   "execution_count": 4,
   "id": "0f475e77",
   "metadata": {},
   "outputs": [],
   "source": [
    "# paths\n",
    "path_data   = \"../data/\"   # path of data\n",
    "path_result = \"../results/SuppFig3_optimization_RFmodel/\"   # results will be saved in this directory\n",
    "Path(path_result).mkdir(parents=True, exist_ok=True)   # make directory if it does not exist already\n",
    "\n",
    "# filenames\n",
    "data_fn  = path_data + f\"nhts_ha1_{mut_mat}.csv\"   # input data\n",
    "train_fn = path_result + \"SuppFig3a_optimize_metadata_trainScores.csv\"   # to save performance scores for training dataset\n",
    "valid_fn = path_result + \"SuppFig3a_optimize_metadata_validScores.csv\"   # to save performance scores for validation dataset\n",
    "fig_fn   = path_result + \"SuppFig3a_optimize_metadata_MAE_barplot.svg\"   # to save figure"
   ]
  },
  {
   "cell_type": "markdown",
   "id": "40975b3f",
   "metadata": {},
   "source": [
    "## Read data\n",
    "- Genetic difference (seq_diff) encoded as per the mutation matrix\n",
    "- Converter is used to load the genetic difference saved as a list of floats"
   ]
  },
  {
   "cell_type": "code",
   "execution_count": null,
   "id": "b71ed52f",
   "metadata": {},
   "outputs": [],
   "source": [
    "data = pd.read_csv(data_fn, converters={\"seq_diff\": literal_eval})"
   ]
  },
  {
   "cell_type": "markdown",
   "id": "46e52084",
   "metadata": {},
   "source": [
    "## Performance of the model\n",
    "- For each validation season from 2012NH to 2013SH\n",
    "    - Split the data into training and validation datasets\n",
    "    - Prepare encoded inputs (genetic difference and metadata features)\n",
    "    - Train and validate the model\n",
    "    - Compute predictive performance\n",
    "    - Save the predictions\n",
    "- Compute average predictive performance"
   ]
  },
  {
   "cell_type": "code",
   "execution_count": null,
   "id": "3b6ccd66",
   "metadata": {},
   "outputs": [],
   "source": [
    "# to collect actuals and predictions for micro-averaged scores over all seasons\n",
    "actual_train_all  = {}\n",
    "predict_train_all = {}\n",
    "\n",
    "actual_valid_all  = {}\n",
    "predict_valid_all = {}\n",
    "\n",
    "\n",
    "# loop through validation seasons\n",
    "for valid_season in Valid_Seasons:\n",
    "    print(\"Validation Season: \", valid_season)\n",
    "\n",
    "    '''\n",
    "    Train Test Split\n",
    "        - based on seasonal framework\n",
    "        - Train: past virus isolates paired with past sera\n",
    "        - Test: circulating virus isolates paired with past sera\n",
    "    '''\n",
    "    ind_train, ind_valid = utilities.seasonal_trainTestSplit(data.copy(), valid_season)\n",
    "    \n",
    "    # training dataset\n",
    "    data_train = data.iloc[ind_train].copy()\n",
    "    data_train.reset_index(drop=True, inplace=True)\n",
    "    \n",
    "    # validation dataset\n",
    "    data_valid = data.iloc[ind_valid].copy()\n",
    "    data_valid.reset_index(drop=True, inplace=True)\n",
    "\n",
    "\n",
    "    '''\n",
    "    Input features (genetic difference)\n",
    "    '''\n",
    "    # training dataset\n",
    "    X_train = pd.DataFrame(data_train.seq_diff.to_list(),\n",
    "                           index=data_train.index,\n",
    "                           columns=HA1_features)\n",
    "    X_train.fillna(0, inplace=True)   # replace nan with 0\n",
    "    \n",
    "    # validation dataset\n",
    "    X_valid = pd.DataFrame(data_valid.seq_diff.to_list(),\n",
    "                           index=data_valid.index,\n",
    "                           columns=HA1_features)\n",
    "    X_valid.fillna(0, inplace=True)   # replace nan with 0\n",
    "    \n",
    "    \n",
    "    '''\n",
    "    Input features (metadata features)\n",
    "    '''\n",
    "    X_train_meta = data_train[meta_features].fillna('None').astype('str')\n",
    "    X_valid_meta = data_valid[meta_features].fillna('None').astype('str')\n",
    "    \n",
    "    \n",
    "    # one hot encoding\n",
    "    ohe = OneHotEncoder(handle_unknown='ignore')\n",
    "    X_train_meta = ohe.fit_transform(X_train_meta).toarray()\n",
    "    X_valid_meta = ohe.transform(X_valid_meta).toarray()\n",
    "      \n",
    "    X_train = np.hstack((X_train.values, X_train_meta))\n",
    "    X_valid = np.hstack((X_valid.values, X_valid_meta))\n",
    "\n",
    "\n",
    "    del X_train_meta, X_valid_meta\n",
    "        \n",
    "    \n",
    "    '''\n",
    "    Training and validation\n",
    "    '''\n",
    "    # baseline model\n",
    "    model = getattr(model_utilities, f\"model_{model_name}\")\n",
    "    results = model(X_train,\n",
    "                    data_train.nht.values,\n",
    "                    X_test = X_valid)\n",
    "    \n",
    "    \n",
    "    '''\n",
    "    Training Scores\n",
    "    '''\n",
    "    cols       = ['mut_mat', 'model', 'metadata', 'season']\n",
    "    col_values = [mut_mat, model_name, metadata, valid_season]\n",
    "    utilities.compute_scores(data_train.nht.values, results['pred_train'], train_fn, col=cols, col_val=col_values)\n",
    "    \n",
    "    \n",
    "    '''\n",
    "    Validation Scores\n",
    "    '''\n",
    "    utilities.compute_scores(data_valid.nht.values, results['pred_test'], valid_fn, col=cols, col_val=col_values)\n",
    "    \n",
    "    \n",
    "    '''\n",
    "    Save actuals and predictions\n",
    "    '''\n",
    "    actual_train_all[f'{valid_season}']  = data_train.nht.values\n",
    "    predict_train_all[f'{valid_season}'] = results['pred_train']\n",
    "    \n",
    "    actual_valid_all[f'{valid_season}']  = data_valid.nht.values\n",
    "    predict_valid_all[f'{valid_season}'] = results['pred_test']\n",
    "    \n",
    "    #################\n",
    "    # End season loop\n",
    "    #################\n",
    "\n",
    "\n",
    "'''\n",
    "Micro-average over seasons\n",
    "'''\n",
    "actual_train  = np.concatenate(list(actual_train_all.values()))\n",
    "predict_train = np.concatenate(list(predict_train_all.values()))\n",
    "\n",
    "actual_valid  = np.concatenate(list(actual_valid_all.values()))\n",
    "predict_valid = np.concatenate(list(predict_valid_all.values()))\n",
    "\n",
    "\n",
    "# Training scores\n",
    "col_values = [mut_mat, model_name, metadata, 'Average']\n",
    "utilities.compute_scores(actual_train, predict_train, train_fn, col=cols, col_val=col_values)\n",
    "\n",
    "\n",
    "# Validation scores\n",
    "utilities.compute_scores(actual_valid, predict_valid, valid_fn, col=cols, col_val=col_values)\n",
    "\n",
    "print(\"Training and testing completed\")"
   ]
  },
  {
   "cell_type": "markdown",
   "id": "fa1a9987",
   "metadata": {},
   "source": [
    "## Repeat for different metadata features\n",
    "Repeat the code cells first under heading \"Variables\" and then \"Performance of the model\" for following values of the variables \"meta_features\", and \"metadata\":\n",
    "- **meta_features**=['virus'], **metadata**=\"virus avidity (a)\"\n",
    "- **meta_features**=['serum'], **metadata**=\"antiserum potency (p)\"\n",
    "- **meta_features**=['virusPassCat'], **metadata**=\"virus passage category (vPC)\"\n",
    "- **meta_features**=['serumPassCat'], **metadata**=\"antiserum PC (sPC)\"\n",
    "- **meta_features**=['virus', 'serum'], **metadata**=\"a+p\"\n",
    "- **meta_features**=['virusPassCat', 'serumPassCat'], **metadata**=\"vPC+sPC\"\n",
    "- **meta_features**=['virus', ''virusPassCat], **metadata**=\"a+vPC\"\n",
    "- **meta_features**=['serum', ''serumPassCat], **metadata**=\"p+sPC\"\n",
    "- **meta_features**=['virus', 'serum', 'virusPassCat', 'serumPassCat'], **metadata**=\"a+p+vPC+sPC\""
   ]
  },
  {
   "cell_type": "markdown",
   "id": "1de348b5",
   "metadata": {},
   "source": [
    "## Imports and configuration for plotting"
   ]
  },
  {
   "cell_type": "code",
   "execution_count": 5,
   "id": "a3dab826",
   "metadata": {},
   "outputs": [],
   "source": [
    "import matplotlib.pyplot as plt\n",
    "import seaborn as sns\n",
    "%matplotlib inline\n",
    "\n",
    "sns.set_context(rc={\"axes.labelsize\":9,\n",
    "                    \"xtick.labelsize\":8,\n",
    "                    \"ytick.labelsize\":8,\n",
    "                    \"legend.fontsize\":8,\n",
    "                    \"legend.title_fontsize\":8})"
   ]
  },
  {
   "cell_type": "markdown",
   "id": "7bd73d35",
   "metadata": {},
   "source": [
    "## Read validation scores and prepare data for plots"
   ]
  },
  {
   "cell_type": "code",
   "execution_count": 6,
   "id": "9911cbd0",
   "metadata": {},
   "outputs": [],
   "source": [
    "scores = pd.read_csv(valid_fn)\n",
    "scores = scores[(scores.season==\"Average\")]\n",
    "scores.drop(columns=['mut_mat', 'model', 'season'], inplace=True)"
   ]
  },
  {
   "cell_type": "markdown",
   "id": "36fe3c49",
   "metadata": {},
   "source": [
    "## Plot average MAE per metadata"
   ]
  },
  {
   "cell_type": "code",
   "execution_count": 7,
   "id": "6b2d52e0",
   "metadata": {},
   "outputs": [
    {
     "data": {
      "image/png": "[encoded data removed]",
      "text/plain": [
       "<Figure size 240x220 with 1 Axes>"
      ]
     },
     "metadata": {},
     "output_type": "display_data"
    }
   ],
   "source": [
    "fig, ax = plt.subplots(figsize=(2.4,2.2))\n",
    "\n",
    "plot = sns.barplot(x='MAE', y='metadata', data=scores,\n",
    "                   color=\"C0\",\n",
    "                   ax=ax)\n",
    "\n",
    "# configurations for figure\n",
    "ax.set_ylabel(\"Metadata\", fontsize=9)\n",
    "ax.set_xlabel(\"Validation average MAE\", fontsize=9)\n",
    "ax.set_xlim(left=0.7)\n",
    "\n",
    "sns.despine(trim=True)\n",
    "\n",
    "# save figure\n",
    "fig.savefig(fig_fn, format='svg', bbox_inches='tight')"
   ]
  },
  {
   "cell_type": "code",
   "execution_count": null,
   "id": "e676015e",
   "metadata": {},
   "outputs": [],
   "source": []
  }
 ],
 "metadata": {
  "kernelspec": {
   "display_name": "Python [conda env:seasonal_ag_pred]",
   "language": "python",
   "name": "conda-env-seasonal_ag_pred-py"
  },
  "language_info": {
   "codemirror_mode": {
    "name": "ipython",
    "version": 3
   },
   "file_extension": ".py",
   "mimetype": "text/x-python",
   "name": "python",
   "nbconvert_exporter": "python",
   "pygments_lexer": "ipython3",
   "version": "3.8.12"
  }
 },
 "nbformat": 4,
 "nbformat_minor": 5
}
