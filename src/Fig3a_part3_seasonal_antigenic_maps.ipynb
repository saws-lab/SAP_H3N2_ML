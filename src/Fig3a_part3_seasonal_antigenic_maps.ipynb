{
 "cells": [
  {
   "cell_type": "markdown",
   "id": "1bde9411",
   "metadata": {},
   "source": [
    "# Seasonal antigenic cartography\n",
    "Using 2D coordinates of virus isolates provided by [racmacs](https://acorg.github.io/Racmacs/), we will perform seasonal antigenic cartography."
   ]
  },
  {
   "cell_type": "markdown",
   "id": "b5d84059",
   "metadata": {},
   "source": [
    "## Imports and configuration for plotting"
   ]
  },
  {
   "cell_type": "code",
   "execution_count": 1,
   "id": "dd52fd78",
   "metadata": {},
   "outputs": [],
   "source": [
    "import pandas as pd\n",
    "import matplotlib.pyplot as plt\n",
    "import seaborn as sns\n",
    "\n",
    "sns.set_context(rc={\"axes.labelsize\":9,\n",
    "                    \"xtick.labelsize\":8,\n",
    "                    \"ytick.labelsize\":8,\n",
    "                    \"legend.fontsize\":8,\n",
    "                    \"legend.title_fontsize\":8})"
   ]
  },
  {
   "cell_type": "markdown",
   "id": "6c15c052",
   "metadata": {},
   "source": [
    "## Variables"
   ]
  },
  {
   "cell_type": "code",
   "execution_count": 1,
   "id": "c6fe3c82",
   "metadata": {},
   "outputs": [],
   "source": [
    "seasons = [\"2016SH\", \"2017NH\", \"2017SH\"]   # required seasons for antigenic maps"
   ]
  },
  {
   "cell_type": "markdown",
   "id": "de4f5eb9",
   "metadata": {},
   "source": [
    "## Paths and filenames"
   ]
  },
  {
   "cell_type": "code",
   "execution_count": 1,
   "id": "a7a0d838",
   "metadata": {},
   "outputs": [
    {
     "ename": "NameError",
     "evalue": "name 'seasons' is not defined",
     "output_type": "error",
     "traceback": [
      "\u001b[1;31m---------------------------------------------------------------------------\u001b[0m",
      "\u001b[1;31mNameError\u001b[0m                                 Traceback (most recent call last)",
      "Cell \u001b[1;32mIn[1], line 7\u001b[0m\n\u001b[0;32m      5\u001b[0m \u001b[38;5;66;03m# filenames\u001b[39;00m\n\u001b[0;32m      6\u001b[0m coords_fn \u001b[38;5;241m=\u001b[39m path_data \u001b[38;5;241m+\u001b[39m \u001b[38;5;124m\"\u001b[39m\u001b[38;5;124mtitre_matrix_racmacs_coords.csv\u001b[39m\u001b[38;5;124m\"\u001b[39m   \u001b[38;5;66;03m# coordinates filename provided by racmacs\u001b[39;00m\n\u001b[1;32m----> 7\u001b[0m fig_fn    \u001b[38;5;241m=\u001b[39m path_result \u001b[38;5;241m+\u001b[39m \u001b[38;5;124mf\u001b[39m\u001b[38;5;124m\"\u001b[39m\u001b[38;5;124mFig3a_antigenic_cartography_\u001b[39m\u001b[38;5;132;01m{\u001b[39;00mseasons[\u001b[38;5;241m0\u001b[39m]\u001b[38;5;132;01m}\u001b[39;00m\u001b[38;5;124m_\u001b[39m\u001b[38;5;132;01m{\u001b[39;00mseasons[\u001b[38;5;241m-\u001b[39m\u001b[38;5;241m1\u001b[39m]\u001b[38;5;132;01m}\u001b[39;00m\u001b[38;5;124m.svg\u001b[39m\u001b[38;5;124m\"\u001b[39m\n",
      "\u001b[1;31mNameError\u001b[0m: name 'seasons' is not defined"
     ]
    }
   ],
   "source": [
    "# paths\n",
    "path_data     = \"../data/\" \n",
    "path_result   = \"../results/Fig3_antigenicMaps_withWithoutCircIsolatesTrain/\"   # results will be saved in this directory\n",
    "\n",
    "# filenames\n",
    "coords_fn = path_data + \"titre_matrix_racmacs_coords.csv\"   # coordinates filename provided by racmacs\n",
    "fig_fn    = path_result + f\"Fig3a_antigenic_cartography_{seasons[0]}_{seasons[-1]}.svg\""
   ]
  },
  {
   "cell_type": "markdown",
   "id": "77b17f28",
   "metadata": {},
   "source": [
    "## Read data"
   ]
  },
  {
   "cell_type": "code",
   "execution_count": 4,
   "id": "354a589e",
   "metadata": {},
   "outputs": [],
   "source": [
    "ag_map = pd.read_csv(coords_fn)\n",
    "ag_map.rename(columns={\"name\": \"virus\", \"Unnamed: 2\": \"x\", \"Unnamed: 3\": \"y\"}, inplace=True)\n",
    "\n",
    "# keep only antigens\n",
    "ag_map = ag_map[ag_map.type==\"antigen\"]\n",
    "# keep non NaN values\n",
    "ag_map = ag_map[ag_map.x.notnull() & ag_map.y.notnull()].copy()\n",
    "# keep relevant columns\n",
    "ag_map = ag_map[[\"virus\", \"x\", \"y\"]]"
   ]
  },
  {
   "cell_type": "markdown",
   "id": "f2e23dee",
   "metadata": {},
   "source": [
    "## Compile metadata information"
   ]
  },
  {
   "cell_type": "code",
   "execution_count": 5,
   "id": "aef28f27",
   "metadata": {},
   "outputs": [],
   "source": [
    "virus = ag_map.virus.str.split('=', expand=True)\n",
    "# this should result in three columns with date, name, and passage\n",
    "\n",
    "# if more than 3 columns\n",
    "# resolve issue with passage for some isolates i.e., passage includes =\n",
    "if virus.shape[1] > 3:\n",
    "    virus_adjust_ind = virus[3].notnull()\n",
    "    virus_adjust     = virus[virus_adjust_ind].copy()\n",
    "    virus.loc[virus_adjust_ind, 2] = virus_adjust[2] + '=' + virus_adjust[3]\n",
    "\n",
    "virus         = virus[[0,1,2]]\n",
    "virus.columns = ['virusDate', 'virusName', 'virusPassage']\n",
    "\n",
    "\n",
    "# indicate virus with name and passage only\n",
    "ag_map[\"virus\"] = virus.virusName + \"=\" + virus.virusPassage\n",
    "\n",
    "# add date information\n",
    "ag_map[\"virusName\"] = virus.virusName\n",
    "ag_map[\"virusDate\"] = virus.virusDate\n",
    "\n",
    "# get relevant columns\n",
    "ag_map = ag_map[[\"virus\", \"virusDate\", \"x\", \"y\", \"virusName\"]]"
   ]
  },
  {
   "cell_type": "markdown",
   "id": "2e717dff",
   "metadata": {},
   "source": [
    "## Assign seasons and filter virus isolates of required seasons"
   ]
  },
  {
   "cell_type": "code",
   "execution_count": 6,
   "id": "f5e5e5c4",
   "metadata": {},
   "outputs": [],
   "source": [
    "def assign_season(date):\n",
    "    # if less than 31st January, then NH season\n",
    "    if date[5:] <= \"01-31\":\n",
    "        return date[:4] + \"NH\"\n",
    "    # if between 1st February and 31st August, then SH\n",
    "    elif (date[5:] >= \"02-01\") and (date[5:] <= \"08-31\"):\n",
    "        return date[:4] + \"SH\"\n",
    "    # if between 1st September and 31st December, then next year's NH\n",
    "    elif (date[5:] >= \"09-01\") and (date[5:] <= \"12-31\"):\n",
    "        season_year = int(date[:4])\n",
    "        return str(season_year+1) +\"NH\"\n",
    "    else:\n",
    "        return None\n",
    "\n",
    "'''\n",
    "Assign season based on virusDate \n",
    "'''\n",
    "ag_map['season'] = ag_map.virusDate.apply(assign_season)\n",
    "\n",
    "'''\n",
    "filter required seasons\n",
    "'''\n",
    "ag_map = ag_map[ag_map.season.isin(seasons)]"
   ]
  },
  {
   "cell_type": "markdown",
   "id": "2cf41626",
   "metadata": {},
   "source": [
    "## Antigenic maps"
   ]
  },
  {
   "cell_type": "code",
   "execution_count": 8,
   "id": "5738d710",
   "metadata": {},
   "outputs": [
    {
     "data": {
      "image/png": "[encoded data removed]",
      "text/plain": [
       "<Figure size 300x220 with 1 Axes>"
      ]
     },
     "metadata": {},
     "output_type": "display_data"
    }
   ],
   "source": [
    "fig, ax = plt.subplots(figsize=(3,2.2))\n",
    "\n",
    "#base = pyplot.gca().transData\n",
    "#rot  = transforms.Affine2D().rotate_deg(0)\n",
    "\n",
    "ax.plot(ag_map[ag_map.season==seasons[0]].x, ag_map[ag_map.season==seasons[0]].y,\n",
    "        'o', fillstyle='full', markersize=4, color='silver', label=seasons[0],\n",
    "        #transform=base+rot\n",
    "        )\n",
    "\n",
    "ax.plot(ag_map[ag_map.season==seasons[1]].x, ag_map[ag_map.season==seasons[1]].y,\n",
    "        'o', fillstyle='full', markersize=4, color='silver', label=seasons[1],\n",
    "        #transform=base+rot\n",
    "        )\n",
    "\n",
    "ax.plot(ag_map[ag_map.season==seasons[2]].x, ag_map[ag_map.season==seasons[2]].y,\n",
    "        'o', fillstyle='none', markersize=4, color='tab:red', label=seasons[2],\n",
    "        #transform=base+rot\n",
    "        )\n",
    "\n",
    "#plt.gca().invert_yaxis()\n",
    "\n",
    "\n",
    "# configurations for figure\n",
    "ax.legend(ncol=3, \n",
    "          loc=\"upper left\", \n",
    "          bbox_to_anchor=(-0.06,1.17), \n",
    "          frameon=False, \n",
    "          handletextpad=0.05)\n",
    "\n",
    "# ax.get_legend().remove()\n",
    "\n",
    "ax.set_xticks(range(-6,5,2))\n",
    "ax.set_yticks(range(-4,7,2))\n",
    "ax.grid()\n",
    "ax.set_axisbelow(True)\n",
    "ax.set_xlabel(\"\")\n",
    "ax.set_ylabel(\"\")\n",
    "\n",
    "sns.despine(trim=True)\n",
    "\n",
    "fig.savefig(fig_fn, format='svg', bbox_inches='tight')"
   ]
  },
  {
   "cell_type": "markdown",
   "id": "ba08e778",
   "metadata": {},
   "source": [
    "## Repeat for different seasons (set of 3) by modifying variable \"seasons\""
   ]
  },
  {
   "cell_type": "code",
   "execution_count": null,
   "id": "5b2da490",
   "metadata": {},
   "outputs": [],
   "source": []
  }
 ],
 "metadata": {
  "kernelspec": {
   "display_name": "Python (seasonal_ag_pred_tf)",
   "language": "python",
   "name": "seasonal_ag_pred_tf"
  },
  "language_info": {
   "codemirror_mode": {
    "name": "ipython",
    "version": 3
   },
   "file_extension": ".py",
   "mimetype": "text/x-python",
   "name": "python",
   "nbconvert_exporter": "python",
   "pygments_lexer": "ipython3",
   "version": "3.8.12"
  }
 },
 "nbformat": 4,
 "nbformat_minor": 5
}
