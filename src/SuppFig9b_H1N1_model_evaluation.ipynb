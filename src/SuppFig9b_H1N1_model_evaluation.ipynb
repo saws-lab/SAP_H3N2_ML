{
 "cells": [
  {
   "cell_type": "markdown",
   "id": "144f233c",
   "metadata": {},
   "source": [
    "# Evaluate the AdaBoost model\n",
    "We will evaluate the performance of the AdaBoost model with optimized hyperparameters, all four metadata features (virus avidity, antiserum potency, and passage category (egg or cell) of virus isolates and antisera) and best-performing amino acid mutation matrix 'GIAG010101' over 18 test seasons from 2001NH to 2009SH."
   ]
  },
  {
   "cell_type": "markdown",
   "id": "2b28cc4a",
   "metadata": {},
   "source": [
    "## Imports"
   ]
  },
  {
   "cell_type": "code",
   "execution_count": 1,
   "id": "225be48c",
   "metadata": {},
   "outputs": [],
   "source": [
    "from pathlib import Path\n",
    "import pandas as pd\n",
    "import numpy as np\n",
    "from ast import literal_eval\n",
    "import random\n",
    "import gc\n",
    "\n",
    "# self defined functions and models\n",
    "import utilities\n",
    "import model_utilities\n",
    "\n",
    "# for encoding of metadata information\n",
    "from sklearn.preprocessing import OneHotEncoder\n",
    "\n",
    "# for parallel computation\n",
    "from functools import partial\n",
    "from joblib import Parallel, delayed\n",
    "\n",
    "# for reproduciblility, fix the randomly generated numbers\n",
    "SEED = 100\n",
    "random.seed(SEED)\n",
    "np.random.seed(SEED)"
   ]
  },
  {
   "cell_type": "markdown",
   "id": "ab848db4",
   "metadata": {},
   "source": [
    "## Variables"
   ]
  },
  {
   "cell_type": "code",
   "execution_count": 2,
   "id": "37964fe8",
   "metadata": {},
   "outputs": [],
   "source": [
    "mut_mat       = 'GIAG010101'   # mutation matrix\n",
    "Test_Seasons = [str(year)+s for year in range (2001, 2010) for s in ['NH', 'SH']]   # seasons from 2001NH to 2009SH\n",
    "\n",
    "HA1_features  = [f\"HA1_{x}\" for x in range(1,326+1)]\n",
    "meta_features = [\n",
    "                 'virusName',   # virus avidity\n",
    "                 'serumName',   # antiserum potency\n",
    "                 #'virusPassCat',   # virus passage category\n",
    "                 #'serumPassCat'   # serum passage category\n",
    "                 ]   # metadata features\n",
    "\n",
    "metadata   = 'a+p'   # label to record which metadata is being used\n",
    "model_name = 'AdaBoost'   # the type of model to be used"
   ]
  },
  {
   "cell_type": "markdown",
   "id": "e7369f44",
   "metadata": {},
   "source": [
    "## Paths and filenames"
   ]
  },
  {
   "cell_type": "code",
   "execution_count": 3,
   "id": "1a7a34ad",
   "metadata": {},
   "outputs": [],
   "source": [
    "# paths\n",
    "path_data   = \"../data/\"   # path of data\n",
    "path_result = \"../results/SuppFig9_H1N1/\"   # results will be saved in this directory\n",
    "Path(path_result).mkdir(parents=True, exist_ok=True)   # make directory if it does not exist already\n",
    "\n",
    "# filenames\n",
    "data_fn    = path_data + f\"H1N1_NHTs_{mut_mat}.csv\"   # input data\n",
    "results_fn = path_result + \"SuppFig9b_performance_testScores.csv\"   # to save performance scores for test dataset\n",
    "\n",
    "# filenames for figures are mentioned within the codes for figures"
   ]
  },
  {
   "cell_type": "markdown",
   "id": "ac5cb60c",
   "metadata": {},
   "source": [
    "## Read data\n",
    "- Genetic difference (seq_diff) encoded as per the mutation matrix\n",
    "- Converter is used to load the genetic difference saved as a list of floats"
   ]
  },
  {
   "cell_type": "code",
   "execution_count": 4,
   "id": "b490717c",
   "metadata": {},
   "outputs": [],
   "source": [
    "data = pd.read_csv(data_fn, converters={'seq_diff': literal_eval})"
   ]
  },
  {
   "cell_type": "markdown",
   "id": "9440f5ac",
   "metadata": {},
   "source": [
    "## Function to compute performance of model for a given season\n",
    "- Split the data into training and validation datasets\n",
    "- Prepare encoded inputs (genetic difference and metadata features)\n",
    "- Train and validate the model\n",
    "- Compute predictive performance\n",
    "\n",
    "> **Parameters**\n",
    "> - season (str): identifier for the Northern of Southern Hemisphere season such as \"2015NH\"\n",
    "\n",
    "> **Returns**\n",
    "> - (numpy array): actual NHTs for the given season\n",
    "> - (numpy array): predicted NHTs for the given season"
   ]
  },
  {
   "cell_type": "code",
   "execution_count": 5,
   "id": "21ebe3e8",
   "metadata": {},
   "outputs": [],
   "source": [
    "def train_test_season(season):\n",
    "    '''\n",
    "    Train Test Split\n",
    "        - based on seasonal framework\n",
    "        - Train: past virus isolates paired with past sera\n",
    "        - Test: circulating virus isolates paired with past sera\n",
    "    '''\n",
    "    ind_train, ind_test = utilities.seasonal_trainTestSplit(data[['virusDate', 'serumDate']], season)\n",
    "    \n",
    "    # training dataset\n",
    "    data_train = data.iloc[ind_train].copy()\n",
    "    data_train.reset_index(drop=True, inplace=True)\n",
    "    \n",
    "    # test dataset\n",
    "    data_test = data.iloc[ind_test].copy()\n",
    "    data_test.reset_index(drop=True, inplace=True)\n",
    "\n",
    "\n",
    "    '''\n",
    "    Input features (genetic difference)\n",
    "    '''\n",
    "    # training dataset\n",
    "    X_train = pd.DataFrame(data_train.seq_diff.to_list(),\n",
    "                           index=data_train.index,\n",
    "                           columns=HA1_features)\n",
    "    X_train.fillna(0, inplace=True)   # replace nan with 0\n",
    "    \n",
    "    # test dataset\n",
    "    X_test = pd.DataFrame(data_test.seq_diff.to_list(),\n",
    "                          index=data_test.index,\n",
    "                          columns=HA1_features)\n",
    "    X_test.fillna(0, inplace=True)   # replace nan with 0\n",
    "    \n",
    "    \n",
    "    '''\n",
    "    Input features (metadata features)\n",
    "    '''\n",
    "    X_train_meta = data_train[meta_features].fillna('None').astype('str')\n",
    "    X_test_meta  = data_test[meta_features].fillna('None').astype('str')\n",
    "    \n",
    "    \n",
    "    # one hot encoding\n",
    "    ohe = OneHotEncoder(handle_unknown='ignore')\n",
    "    X_train_meta = ohe.fit_transform(X_train_meta).toarray()\n",
    "    X_test_meta  = ohe.transform(X_test_meta).toarray()\n",
    "      \n",
    "    X_train = np.hstack((X_train.values, X_train_meta))\n",
    "    X_test  = np.hstack((X_test.values, X_test_meta))\n",
    "\n",
    "\n",
    "    del X_train_meta, X_test_meta\n",
    "    gc.collect()\n",
    "        \n",
    "    \n",
    "    '''\n",
    "    Training and testing\n",
    "    '''\n",
    "    model = getattr(model_utilities, f\"model_{model_name}\")\n",
    "    results = model(X_train,\n",
    "                    data_train.nht.values,\n",
    "                    X_test = X_test)\n",
    "    \n",
    "    \n",
    "    '''\n",
    "    Test Scores\n",
    "    '''\n",
    "    cols       = ['mut_mat', 'model', 'metadata', 'season']\n",
    "    col_values = [mut_mat, model_name, metadata, season]\n",
    "    utilities.compute_scores(data_test.nht.values, results['pred_test'], results_fn, col=cols, col_val=col_values)\n",
    "    \n",
    "    \n",
    "    return season, data_test.nht.values, results['pred_test']"
   ]
  },
  {
   "cell_type": "markdown",
   "id": "1f082a91",
   "metadata": {},
   "source": [
    "## Performance of the model\n",
    "- For each test season\n",
    "    - Split the data into training and test datasets\n",
    "    - Prepare encoded inputs (genetic difference and metadata features)\n",
    "    - Train and evaluate the model\n",
    "    - Compute predictive performance\n",
    "    - Save the predictions\n",
    "- Compute average predictive performance"
   ]
  },
  {
   "cell_type": "code",
   "execution_count": 6,
   "id": "6ce1efcb",
   "metadata": {},
   "outputs": [
    {
     "name": "stderr",
     "output_type": "stream",
     "text": [
      "[Parallel(n_jobs=-1)]: Using backend LokyBackend with 12 concurrent workers.\n",
      "[Parallel(n_jobs=-1)]: Done  14 out of  18 | elapsed:   56.6s remaining:   16.1s\n"
     ]
    },
    {
     "name": "stdout",
     "output_type": "stream",
     "text": [
      "Training and testing completed\n"
     ]
    },
    {
     "name": "stderr",
     "output_type": "stream",
     "text": [
      "[Parallel(n_jobs=-1)]: Done  18 out of  18 | elapsed:  1.5min finished\n"
     ]
    }
   ],
   "source": [
    "# train test for each test season in parallel\n",
    "result = Parallel(n_jobs=-1, verbose=1)(delayed(train_test_season)(test_season) for test_season in Test_Seasons)\n",
    "\n",
    "# get results\n",
    "seasons, actual_all, predict_all = zip(*result)\n",
    "\n",
    "'''\n",
    "Micro-average over seasons\n",
    "'''\n",
    "actual  = np.concatenate(actual_all)\n",
    "predict = np.concatenate(predict_all)\n",
    "\n",
    "# Test scores\n",
    "cols       = ['mut_mat', 'model', 'metadata', 'season']\n",
    "col_values = [mut_mat, model_name, metadata, 'Average']\n",
    "utilities.compute_scores(actual, predict, results_fn, col=cols, col_val=col_values)\n",
    "\n",
    "print(\"Training and testing completed\")"
   ]
  },
  {
   "cell_type": "markdown",
   "id": "9823e252",
   "metadata": {},
   "source": [
    "## Imports and configuration for plotting"
   ]
  },
  {
   "cell_type": "code",
   "execution_count": 7,
   "id": "3a30be52",
   "metadata": {},
   "outputs": [],
   "source": [
    "import matplotlib.pyplot as plt\n",
    "import seaborn as sns\n",
    "%matplotlib inline\n",
    "\n",
    "sns.set_context(rc={'axes.labelsize':9,\n",
    "                    'xtick.labelsize':8,\n",
    "                    'ytick.labelsize':8,\n",
    "                    'legend.fontsize':8,\n",
    "                    'legend.title_fontsize':8})"
   ]
  },
  {
   "cell_type": "markdown",
   "id": "b5858cf4",
   "metadata": {},
   "source": [
    "## Read test scores and prepare data for plots"
   ]
  },
  {
   "cell_type": "code",
   "execution_count": 8,
   "id": "4e00b500",
   "metadata": {},
   "outputs": [],
   "source": [
    "metrics = ['MAE', 'AUROC']\n",
    "\n",
    "scores = pd.read_csv(results_fn)\n",
    "scores = scores[['season']+metrics]\n",
    "\n",
    "'''\n",
    "for heatmap change to matrix form\n",
    "'''\n",
    "# set season as index\n",
    "df = scores.set_index('season')\n",
    "\n",
    "# transpose index and columns\n",
    "df = df.transpose()"
   ]
  },
  {
   "cell_type": "markdown",
   "id": "07a53d4a",
   "metadata": {},
   "source": [
    "## Plot MAE per season"
   ]
  },
  {
   "cell_type": "code",
   "execution_count": 11,
   "id": "569a80e4",
   "metadata": {},
   "outputs": [
    {
     "data": {
      "image/png": "[encoded data removed]",
      "text/plain": [
       "<Figure size 680x35 with 1 Axes>"
      ]
     },
     "metadata": {},
     "output_type": "display_data"
    },
    {
     "data": {
      "image/png": "[encoded data removed]",
      "text/plain": [
       "<Figure size 200x10 with 1 Axes>"
      ]
     },
     "metadata": {},
     "output_type": "display_data"
    }
   ],
   "source": [
    "fig, ax = plt.subplots(figsize=(6.8,0.35))\n",
    "fig_cbar, ax_cbar = plt.subplots(figsize=(2,0.1))   # separate figure for colorbar\n",
    "\n",
    "tmp = sns.heatmap(df[df.index == 'MAE'],\n",
    "                  annot=True, annot_kws={'size':8}, fmt='.2f',\n",
    "                  vmin=0.4,\n",
    "                  vmax=1.0,\n",
    "                  cmap=sns.color_palette('Blues_r', 3),\n",
    "                  cbar_ax=ax_cbar,\n",
    "                  cbar_kws={'shrink':0.85, 'orientation':'horizontal'},\n",
    "                  linewidths=1,\n",
    "                  # square=True,\n",
    "                  ax=ax)\n",
    "\n",
    "# configurations for figure\n",
    "tmp.set_xticklabels(tmp.get_xticklabels(), rotation=45)\n",
    "cbar = tmp.collections[0].colorbar\n",
    "cbar.ax.tick_params(labelsize=8)\n",
    "cbar.ax.set_xticks([cbar.ax.get_xticks()[0], cbar.ax.get_xticks()[-1]])\n",
    "cbar.ax.xaxis.set_ticks_position('top')\n",
    "ax.set_yticklabels(ax.get_yticklabels(), rotation = 0)\n",
    "ax.set_xlabel(\"\")\n",
    "ax.set_ylabel(\"\")\n",
    "\n",
    "# save figure\n",
    "fig_fn = path_result + \"SuppFig9b_testScores_MAE_heatmap.svg\"\n",
    "fig.savefig(fig_fn, format='svg', bbox_inches='tight')\n",
    "\n",
    "# save figure for colorbar\n",
    "fig_cbar_fn = path_result+\"SuppFig9b_testScores_MAE_heatmap_colorbar.svg\"\n",
    "fig_cbar.savefig(fig_cbar_fn, format='svg', bbox_inches='tight')"
   ]
  },
  {
   "cell_type": "markdown",
   "id": "ce668154",
   "metadata": {},
   "source": [
    "## Plot AUROC per season"
   ]
  },
  {
   "cell_type": "code",
   "execution_count": 14,
   "id": "4927c5fb",
   "metadata": {},
   "outputs": [
    {
     "data": {
      "image/png": "[encoded data removed]",
      "text/plain": [
       "<Figure size 680x35 with 1 Axes>"
      ]
     },
     "metadata": {},
     "output_type": "display_data"
    },
    {
     "data": {
      "image/png": "[encoded data removed]",
      "text/plain": [
       "<Figure size 200x10 with 1 Axes>"
      ]
     },
     "metadata": {},
     "output_type": "display_data"
    }
   ],
   "source": [
    "fig, ax = plt.subplots(figsize=(6.8,0.35))\n",
    "fig_cbar, ax_cbar = plt.subplots(figsize=(2,0.1))\n",
    "\n",
    "tmp = sns.heatmap(df[df.index == 'AUROC'],\n",
    "                  annot=True, annot_kws={'size':8}, fmt='.2f',\n",
    "                  vmin=0.7,\n",
    "                  vmax=1,\n",
    "                  cmap=sns.light_palette('seagreen', 3),\n",
    "                  cbar_ax=ax_cbar,\n",
    "                  cbar_kws={'shrink':0.85, 'orientation':'horizontal'},\n",
    "                  linewidths=1,\n",
    "                  # square=True,\n",
    "                  ax=ax)\n",
    "\n",
    "# configurations for figure\n",
    "tmp.set_xticklabels(tmp.get_xticklabels(), rotation=45)\n",
    "cbar = tmp.collections[0].colorbar\n",
    "cbar.ax.tick_params(labelsize=8) \n",
    "cbar.ax.set_xticks([cbar.ax.get_xticks()[0], cbar.ax.get_xticks()[-1]])\n",
    "cbar.ax.xaxis.set_ticks_position('top')\n",
    "ax.set_yticklabels(ax.get_yticklabels(), rotation = 0)\n",
    "ax.set_xlabel('')\n",
    "ax.set_ylabel('')\n",
    "\n",
    "# save figure\n",
    "fig_fn = path_result + \"SuppFig9b_testScores_AUROC.svg\"\n",
    "fig.savefig(fig_fn, format='svg', bbox_inches='tight')\n",
    "\n",
    "# save figure for colorbar\n",
    "fig_cbar_fn = path_result + \"SuppFig9b_testScores_AUROC_colorbar.svg\"\n",
    "fig_cbar.savefig(fig_cbar_fn, format='svg', bbox_inches='tight')"
   ]
  },
  {
   "cell_type": "code",
   "execution_count": null,
   "id": "3f1edb25",
   "metadata": {},
   "outputs": [],
   "source": []
  }
 ],
 "metadata": {
  "kernelspec": {
   "display_name": "Python (seasonal_ag_pred_tf)",
   "language": "python",
   "name": "seasonal_ag_pred_tf"
  },
  "language_info": {
   "codemirror_mode": {
    "name": "ipython",
    "version": 3
   },
   "file_extension": ".py",
   "mimetype": "text/x-python",
   "name": "python",
   "nbconvert_exporter": "python",
   "pygments_lexer": "ipython3",
   "version": "3.8.12"
  }
 },
 "nbformat": 4,
 "nbformat_minor": 5
}
