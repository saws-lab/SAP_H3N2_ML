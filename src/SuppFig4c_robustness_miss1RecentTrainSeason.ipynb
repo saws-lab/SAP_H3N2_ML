{
 "cells": [
  {
   "cell_type": "markdown",
   "id": "18343178",
   "metadata": {},
   "source": [
    "# Robustness of model (missed one train season)\n",
    "We will evaluate the performance of the proposed RF model over 14 test seasons from 2014NH to 2020SH, where data of one season is excluded from model training."
   ]
  },
  {
   "cell_type": "markdown",
   "id": "f515330b",
   "metadata": {},
   "source": [
    "## Imports"
   ]
  },
  {
   "cell_type": "code",
   "execution_count": 1,
   "id": "f047f4e3",
   "metadata": {},
   "outputs": [],
   "source": [
    "from pathlib import Path\n",
    "import pandas as pd\n",
    "import numpy as np\n",
    "import utilities   # self defined functions\n",
    "import model_utilities   # self defined models\n",
    "from ast import literal_eval\n",
    "from sklearn.preprocessing import OneHotEncoder\n",
    "\n",
    "# (for reproduciblility) fix the randomly generated numbers\n",
    "SEED = 100\n",
    "np.random.seed(SEED)"
   ]
  },
  {
   "cell_type": "markdown",
   "id": "1e32c2b3",
   "metadata": {},
   "source": [
    "## Variables"
   ]
  },
  {
   "cell_type": "code",
   "execution_count": 2,
   "id": "b1a6ca7a",
   "metadata": {},
   "outputs": [],
   "source": [
    "mut_mat       = \"AZAE970101\"   # mutation matrix\n",
    "Test_Seasons = [str(year)+s for year in range (2014, 2021) for s in [\"NH\", \"SH\"]]   # seasons from 2014NH to 2020SH\n",
    "\n",
    "HA1_features  = [f\"HA1_{x}\" for x in range(1,329+1)]\n",
    "meta_features = [\n",
    "                 'virus',   # virus avidity\n",
    "                 'serum',   # antiserum potency\n",
    "                 'virusPassCat',\n",
    "                 'serumPassCat'\n",
    "                 ]   # metadata features\n",
    "\n",
    "metadata   = 'a+p+vPC+sPC'   # label to record which metadata is being used\n",
    "model_name = 'optimized_RF'   # the type of model to be used\n",
    "\n",
    "missed_train_Seasons = ['Reference', '2013SH', '2014NH', '2014SH', '2015NH', '2015SH',  '2016NH', '2016SH',\n",
    "                        '2017NH', '2017SH', '2018NH', '2018SH', '2019NH', '2019SH', '2020NH']   # missed train seasons"
   ]
  },
  {
   "cell_type": "markdown",
   "id": "34f3c567",
   "metadata": {},
   "source": [
    "## Paths and filenames"
   ]
  },
  {
   "cell_type": "code",
   "execution_count": 3,
   "id": "88a8d739",
   "metadata": {},
   "outputs": [],
   "source": [
    "# paths\n",
    "path_data   = \"../data/\"   # path of data\n",
    "path_result = \"../results/SuppFig4_robustness/\"   # results will be saved in this directory\n",
    "Path(path_result).mkdir(parents=True, exist_ok=True)   # make directory if it does not exist already\n",
    "\n",
    "# filenames\n",
    "data_fn = path_data + f\"nhts_ha1_{mut_mat}.csv\"   # input data\n",
    "test_fn = path_result + \"SuppFig4c_robustness_miss1TrainSeason.csv\"   # to save performance scores for test dataset\n",
    "\n",
    "# filenames for figures are mentioned within the codes for figures"
   ]
  },
  {
   "cell_type": "markdown",
   "id": "72b5824e",
   "metadata": {},
   "source": [
    "## Read data\n",
    "- Genetic difference (seq_diff) encoded as per the mutation matrix\n",
    "- Converter is used to load the genetic difference saved as a list of floats"
   ]
  },
  {
   "cell_type": "code",
   "execution_count": null,
   "id": "71246940",
   "metadata": {},
   "outputs": [],
   "source": [
    "data = pd.read_csv(data_fn, converters={\"seq_diff\": literal_eval})"
   ]
  },
  {
   "cell_type": "markdown",
   "id": "da09a9da",
   "metadata": {},
   "source": [
    "## Performance of the model\n",
    "- For each missed season from training dataset\n",
    "    - For each test season from 2014NH to 2020SH\n",
    "        - Split the data into training and test datasets\n",
    "        - Prepare encoded inputs (genetic difference and metadata features)\n",
    "        - Train and evaluate the model\n",
    "        - Compute predictive performance\n",
    "        - Save the predictions\n",
    "    - Compute average predictive performance"
   ]
  },
  {
   "cell_type": "code",
   "execution_count": null,
   "id": "807e1a50",
   "metadata": {},
   "outputs": [],
   "source": [
    "'''\n",
    "Missed train season\n",
    "'''\n",
    "for missed_train_season in missed_train_Seasons:\n",
    "    \n",
    "    '''\n",
    "    Test Seasons\n",
    "    '''\n",
    "    # to collect actuals and predictions for micro-averaged scores over all test seasons\n",
    "    actual_all  = {}\n",
    "    predict_all = {}\n",
    "\n",
    "    # loop through test seasons\n",
    "    for test_season in Test_Seasons:\n",
    "        print(\"Missed train season: \", missed_train_season,\n",
    "              \"%,   test season: \", test_season)\n",
    "\n",
    "        '''\n",
    "        Train Test Split\n",
    "            - based on seasonal framework\n",
    "            - Train: past virus isolates paired with past sera\n",
    "            - Test: circulating virus isolates paired with past sera\n",
    "        '''\n",
    "        ind_train, ind_test = utilities.miss1TrainSeason_seasonal_trainTestSplit(data.copy(),\n",
    "                                                                                test_season,\n",
    "                                                                                missed_season=missed_train_season)\n",
    "\n",
    "        # training dataset\n",
    "        data_train = data.iloc[ind_train].copy()\n",
    "        data_train.reset_index(drop=True, inplace=True)\n",
    "\n",
    "        # test dataset\n",
    "        data_test = data.iloc[ind_test].copy()\n",
    "        data_test.reset_index(drop=True, inplace=True)\n",
    "\n",
    "\n",
    "        '''\n",
    "        Input features (genetic difference)\n",
    "        '''\n",
    "        # training dataset\n",
    "        X_train = pd.DataFrame(data_train.seq_diff.to_list(),\n",
    "                               index=data_train.index,\n",
    "                               columns=HA1_features)\n",
    "        X_train.fillna(0, inplace=True)   # replace nan with 0\n",
    "\n",
    "        # test dataset\n",
    "        X_test = pd.DataFrame(data_test.seq_diff.to_list(),\n",
    "                               index=data_test.index,\n",
    "                               columns=HA1_features)\n",
    "        X_test.fillna(0, inplace=True)   # replace nan with 0\n",
    "\n",
    "\n",
    "        '''\n",
    "        Input features (metadata features)\n",
    "        '''\n",
    "        X_train_meta = data_train[meta_features].fillna('None').astype('str')\n",
    "        X_test_meta  = data_test[meta_features].fillna('None').astype('str')\n",
    "\n",
    "\n",
    "        # one hot encoding\n",
    "        ohe = OneHotEncoder(handle_unknown='ignore')\n",
    "        X_train_meta = ohe.fit_transform(X_train_meta).toarray()\n",
    "        X_test_meta = ohe.transform(X_test_meta).toarray()\n",
    "\n",
    "        X_train = np.hstack((X_train.values, X_train_meta))\n",
    "        X_test  = np.hstack((X_test.values, X_test_meta))\n",
    "\n",
    "\n",
    "        del X_train_meta, X_test_meta\n",
    "\n",
    "\n",
    "        '''\n",
    "        Training and evaluation\n",
    "        '''\n",
    "        # optimized model\n",
    "        model = getattr(model_utilities, f\"model_{model_name}\")\n",
    "        results = model(X_train,\n",
    "                        data_train.nht.values,\n",
    "                        X_test = X_test)\n",
    "\n",
    "\n",
    "        '''\n",
    "        Test Scores\n",
    "        '''\n",
    "        cols       = ['mut_mat', 'model', 'metadata', 'missed_train_season', 'season']\n",
    "        col_values = [mut_mat, model_name, metadata, f'{missed_train_season}%', test_season]\n",
    "        utilities.compute_scores(data_test.nht.values, results['pred_test'], test_fn, col=cols, col_val=col_values)\n",
    "\n",
    "\n",
    "        '''\n",
    "        Save actuals and predictions\n",
    "        '''\n",
    "        actual_all[f'{test_season}']  = data_test.nht.values\n",
    "        predict_all[f'{test_season}'] = results['pred_test']\n",
    "\n",
    "\n",
    "        #################\n",
    "        # End season loop\n",
    "        #################\n",
    "\n",
    "\n",
    "    '''\n",
    "    Micro-average over seasons\n",
    "    '''\n",
    "    actual  = np.concatenate(list(actual_all.values()))\n",
    "    predict = np.concatenate(list(predict_all.values()))\n",
    "\n",
    "    # Test scores\n",
    "    col_values = [mut_mat, model_name, metadata, f'{missed_train_season}%', 'Average']\n",
    "    utilities.compute_scores(actual, predict, test_fn, col=cols, col_val=col_values)\n",
    "\n",
    "    ####################################\n",
    "    # loop over missed_train_Seasons end\n",
    "    ####################################"
   ]
  },
  {
   "cell_type": "markdown",
   "id": "96ba6b4c",
   "metadata": {},
   "source": [
    "## Imports and configuration for plotting"
   ]
  },
  {
   "cell_type": "code",
   "execution_count": 4,
   "id": "f88d1455",
   "metadata": {},
   "outputs": [],
   "source": [
    "import matplotlib.pyplot as plt\n",
    "import seaborn as sns\n",
    "from matplotlib.colors import ListedColormap\n",
    "%matplotlib inline\n",
    "\n",
    "sns.set_context(rc={\"axes.labelsize\":9,\n",
    "                    \"xtick.labelsize\":8,\n",
    "                    \"ytick.labelsize\":8,\n",
    "                    \"legend.fontsize\":8,\n",
    "                    \"legend.title_fontsize\":8})"
   ]
  },
  {
   "cell_type": "markdown",
   "id": "1d8fce24",
   "metadata": {},
   "source": [
    "## Read test scores and prepare data for plots"
   ]
  },
  {
   "cell_type": "code",
   "execution_count": 5,
   "id": "016040d0",
   "metadata": {},
   "outputs": [],
   "source": [
    "scores = pd.read_csv(test_fn)\n",
    "scores = scores[[\"missed_train_season\", \"season\", \"MAE\"]]\n",
    "\n",
    "'''\n",
    "for heatmap change to matrix form\n",
    "'''\n",
    "df = scores.pivot(index='missed_train_season', columns='season', values='MAE')\n",
    "\n",
    "mask = np.ones_like(df[df.index!=\"Reference\"])\n",
    "mask[np.triu_indices_from(mask)] = False\n",
    "\n",
    "# difference of MAE values w.r.t Reference\n",
    "diff_df = df - df[df.index==\"Reference\"].to_numpy()"
   ]
  },
  {
   "cell_type": "markdown",
   "id": "93288b09",
   "metadata": {},
   "source": [
    "## Plot heatmap of difference of MAE values w.r.t reference vs. test seasons"
   ]
  },
  {
   "cell_type": "code",
   "execution_count": 6,
   "id": "62eb0843",
   "metadata": {},
   "outputs": [
    {
     "data": {
      "image/png": "[encoded data removed]",
      "text/plain": [
       "<Figure size 614x25 with 1 Axes>"
      ]
     },
     "metadata": {},
     "output_type": "display_data"
    },
    {
     "data": {
      "image/png": "[encoded data removed]",
      "text/plain": [
       "<Figure size 614x400 with 1 Axes>"
      ]
     },
     "metadata": {},
     "output_type": "display_data"
    },
    {
     "data": {
      "image/png": "[encoded data removed]",
      "text/plain": [
       "<Figure size 10x250 with 1 Axes>"
      ]
     },
     "metadata": {},
     "output_type": "display_data"
    }
   ],
   "source": [
    "# Reference\n",
    "fig, ax = plt.subplots(figsize=(6.14,0.25))\n",
    "\n",
    "tmp = sns.heatmap(df[df.index == 'Reference'],\n",
    "                  annot=True, annot_kws={\"size\":8}, fmt='.2f',\n",
    "                  vmin=0,\n",
    "                  vmax=0,\n",
    "                  cmap=ListedColormap(['silver']),\n",
    "                  cbar=False,\n",
    "                  linewidths=1,\n",
    "                  ax=ax)\n",
    "\n",
    "tmp.tick_params(bottom=False)\n",
    "tmp.set_xticklabels(\"\")\n",
    "tmp.set_yticklabels([\"Reference\"], rotation=0)\n",
    "\n",
    "ax.set_xlabel(\"\")\n",
    "ax.set_ylabel(\"\")\n",
    "\n",
    "\n",
    "fig_fn = path_result + \"SuppFig4c_Reference_NoMissedTrainSeason_heatmap.svg\"\n",
    "fig.savefig(fig_fn, format='svg', bbox_inches='tight')\n",
    "\n",
    "\n",
    "# missed train season\n",
    "fig, ax = plt.subplots(figsize=(6.14,4))\n",
    "\n",
    "fig_cbar, ax_cbar = plt.subplots(figsize=(0.1,2.5))\n",
    "\n",
    "tmp = sns.heatmap(diff_df[diff_df.index != 'Reference'],\n",
    "                  mask=mask,\n",
    "                  annot=True, annot_kws={\"size\":8}, fmt='.2f',\n",
    "                  vmin=0.0,\n",
    "                  vmax=0.25,\n",
    "                  cmap=sns.light_palette(\"sandybrown\", 5),\n",
    "                  cbar_ax=ax_cbar,\n",
    "                  cbar_kws={\"shrink\":0.85, \"orientation\":\"vertical\",\n",
    "                            \"label\": \"Difference from reference\"},\n",
    "                  linewidths=1,\n",
    "                  # square=True,\n",
    "                  ax=ax)\n",
    "\n",
    "# update the 0.00 and -0.00 text annotations\n",
    "for text in ax.texts:\n",
    "    if text.get_text() == '0.00' or text.get_text() == '-0.00':\n",
    "        text.set_text('0')\n",
    "\n",
    "tmp.set_xticklabels(tmp.get_xticklabels(), rotation=45)\n",
    "\n",
    "cbar = tmp.collections[0].colorbar\n",
    "cbar.ax.tick_params(labelsize=8)\n",
    "cbar.ax.yaxis.label.set_size(9)\n",
    "cbar.ax.set_yticks([cbar.ax.get_yticks()[0], cbar.ax.get_yticks()[-1]])\n",
    "# cbar.ax.xaxis.set_ticks_position('bottom')\n",
    "\n",
    "ax.set_xlabel(\"Test Season\", fontsize=9)\n",
    "ax.set_ylabel(\"Excluded season from training data\", fontsize=9)\n",
    "\n",
    "\n",
    "fig_fn = path_result+\"SuppFig4c_miss1TrainSeason_heatmap.svg\"\n",
    "fig.savefig(fig_fn, format='svg', bbox_inches='tight')\n",
    "\n",
    "\n",
    "fig_cbar_fn = path_result+\"SuppFig4c_miss1TrainSeason_heatmap_colorbar.svg\"\n",
    "fig_cbar.savefig(fig_cbar_fn, format='svg', bbox_inches='tight')"
   ]
  },
  {
   "cell_type": "code",
   "execution_count": null,
   "id": "88068817",
   "metadata": {},
   "outputs": [],
   "source": []
  }
 ],
 "metadata": {
  "kernelspec": {
   "display_name": "Python [conda env:seasonal_ag_pred]",
   "language": "python",
   "name": "conda-env-seasonal_ag_pred-py"
  },
  "language_info": {
   "codemirror_mode": {
    "name": "ipython",
    "version": 3
   },
   "file_extension": ".py",
   "mimetype": "text/x-python",
   "name": "python",
   "nbconvert_exporter": "python",
   "pygments_lexer": "ipython3",
   "version": "3.8.12"
  }
 },
 "nbformat": 4,
 "nbformat_minor": 5
}
