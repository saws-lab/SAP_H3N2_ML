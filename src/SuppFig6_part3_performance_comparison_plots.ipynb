{
 "cells": [
  {
   "cell_type": "markdown",
   "id": "333cacdd",
   "metadata": {},
   "source": [
    "# Plot for supplementary figure 6\n",
    "Comparison of the proposed RF model, NextFlu substitution model, and RF (NextFlu-matched-params) model.\n",
    "\n",
    "**Note**: Run this notebook after running notebooks \"Fig2_performance_RF\", \"SuppFig6_part1_performance_NextFlu\", and \"SuppFig6_part2_performance_RF_NextFlu_matched_params\"."
   ]
  },
  {
   "cell_type": "markdown",
   "id": "334684e0",
   "metadata": {},
   "source": [
    "## Imports and configuration for plotting"
   ]
  },
  {
   "cell_type": "code",
   "execution_count": 1,
   "id": "fef022f4",
   "metadata": {},
   "outputs": [],
   "source": [
    "import pandas as pd\n",
    "import matplotlib.pyplot as plt\n",
    "import seaborn as sns\n",
    "%matplotlib inline\n",
    "\n",
    "sns.set_context(rc={\"axes.labelsize\":9,\n",
    "                    \"xtick.labelsize\":8,\n",
    "                    \"ytick.labelsize\":8,\n",
    "                    \"legend.fontsize\":8,\n",
    "                    \"legend.title_fontsize\":8})"
   ]
  },
  {
   "cell_type": "markdown",
   "id": "ceaac3aa",
   "metadata": {},
   "source": [
    "## Read test scores and prepare data for plots"
   ]
  },
  {
   "cell_type": "code",
   "execution_count": 2,
   "id": "f989e541",
   "metadata": {},
   "outputs": [],
   "source": [
    "# test scores of proposed RF model\n",
    "scores_rf = pd.read_csv(\"../results/Fig2_performance_RF/Fig2_performance_RF_testScores.csv\")\n",
    "scores_rf = scores_rf[['season', 'MAE']]\n",
    "scores_rf['Model'] = \"RF\"\n",
    "\n",
    "# test scores of NextFlu substitution model\n",
    "scores_nextflu = pd.read_csv(\"../results/SuppFig6_comparison/SuppFig6a_testScores_NextFlu.csv\")\n",
    "scores_nextflu = scores_nextflu[['season', 'MAE']]\n",
    "scores_nextflu['Model'] = \"NextFlu\"\n",
    "\n",
    "# test scores of RF (NextFlu-matched-params) model\n",
    "scores_matched = pd.read_csv(\"../results/SuppFig6_comparison/SuppFig6b_testScores_RF_NextFlu_matched_params.csv\")\n",
    "scores_matched = scores_matched[['season', 'MAE']]\n",
    "scores_matched['Model'] = \"RF\\n(NextFlu-matched-params)\"\n",
    "\n",
    "\n",
    "'''\n",
    "Combine results and melt\n",
    "'''\n",
    "# combine results\n",
    "scores = pd.concat((scores_rf, scores_nextflu, scores_matched), ignore_index=True)\n",
    "\n",
    "# melt by variable MAE\n",
    "scores = scores.melt(id_vars=['Model', 'season'], var_name=['MAE'])\n",
    "\n",
    "# remove average MAE\n",
    "scores = scores[scores.season != 'Average']"
   ]
  },
  {
   "cell_type": "markdown",
   "id": "72285dc9",
   "metadata": {},
   "source": [
    "## Plot MAE of 3 models over boxplot varying over 14 test seasons"
   ]
  },
  {
   "cell_type": "code",
   "execution_count": 3,
   "id": "f92c914d",
   "metadata": {},
   "outputs": [
    {
     "data": {
      "image/png": "[encoded data removed]",
      "text/plain": [
       "<Figure size 320x220 with 1 Axes>"
      ]
     },
     "metadata": {},
     "output_type": "display_data"
    },
    {
     "data": {
      "image/png": "[encoded data removed]",
      "text/plain": [
       "<Figure size 160x220 with 1 Axes>"
      ]
     },
     "metadata": {},
     "output_type": "display_data"
    }
   ],
   "source": [
    "# for RF and NextFlu\n",
    "fig, ax = plt.subplots(figsize=(3.2,2.2))\n",
    "\n",
    "sns.boxplot(x='Model', y='value', data=scores,\n",
    "            order=['RF', 'NextFlu'],\n",
    "            palette=['C0', '#94CDBA'],\n",
    "            width=0.5,\n",
    "            ax=ax)\n",
    "\n",
    "# configurations for figure\n",
    "ax.set_ylim(bottom=0.6, top=1)\n",
    "ax.set_xlabel(\"\")\n",
    "ax.set_ylabel(\"MAE\", fontsize=9)\n",
    "\n",
    "sns.despine(trim=True, bottom=True)\n",
    "\n",
    "# save figure\n",
    "fig_fn = '../results/SuppFig6_comparison/SuppFig6_performance_comparison.svg'\n",
    "fig.savefig(fig_fn, format='svg', bbox_inches='tight')\n",
    "\n",
    "\n",
    "# for RF (NextFlu-matched-params) model\n",
    "fig, ax = plt.subplots(figsize=(1.6,2.2))\n",
    "\n",
    "sns.boxplot(x='Model', y='value', data=scores,\n",
    "            order=['RF\\n(NextFlu-matched-params)'],\n",
    "            palette=['C7'],\n",
    "            width=0.5,\n",
    "            ax=ax)\n",
    "\n",
    "# configurations for figure\n",
    "ax.set_ylim(bottom=0.6, top=1)\n",
    "ax.set_xlabel(\"\")\n",
    "ax.set_ylabel(\"MAE\", fontsize=9)\n",
    "\n",
    "sns.despine(trim=True, bottom=True)\n",
    "\n",
    "fig_fn = '../results/SuppFig6_comparison/SuppFig6_performance_comparison_RFNextFluMatched.svg'\n",
    "fig.savefig(fig_fn, format='svg', bbox_inches='tight')"
   ]
  },
  {
   "cell_type": "code",
   "execution_count": null,
   "id": "4ecb8ff3",
   "metadata": {},
   "outputs": [],
   "source": []
  }
 ],
 "metadata": {
  "kernelspec": {
   "display_name": "Python [conda env:seasonal_ag_pred]",
   "language": "python",
   "name": "conda-env-seasonal_ag_pred-py"
  },
  "language_info": {
   "codemirror_mode": {
    "name": "ipython",
    "version": 3
   },
   "file_extension": ".py",
   "mimetype": "text/x-python",
   "name": "python",
   "nbconvert_exporter": "python",
   "pygments_lexer": "ipython3",
   "version": "3.8.12"
  }
 },
 "nbformat": 4,
 "nbformat_minor": 5
}
