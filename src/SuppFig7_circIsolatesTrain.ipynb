{
 "cells": [
  {
   "cell_type": "markdown",
   "id": "b2152a0e",
   "metadata": {},
   "source": [
    "# Partial information of circulating isolates\n",
    "The model will be trained on dataset consisting of genetic and antigenic information of historical isolates as well as x% of randomly selected circulating isolates, where x was varied from 10% to 50%. The simulations will be repeated for 50 Monte Carlo runs. The MAE performance of the model will be computed for 14 test seasons from 2014NH to 2020SH"
   ]
  },
  {
   "cell_type": "markdown",
   "id": "adc385ba",
   "metadata": {},
   "source": [
    "## Imports"
   ]
  },
  {
   "cell_type": "code",
   "execution_count": 2,
   "id": "23c1522a",
   "metadata": {},
   "outputs": [],
   "source": [
    "from pathlib import Path\n",
    "import pandas as pd\n",
    "import numpy as np\n",
    "import utilities   # self defined functions\n",
    "import model_utilities   # self defined models\n",
    "from ast import literal_eval\n",
    "from sklearn.preprocessing import OneHotEncoder\n",
    "\n",
    "# (for reproduciblility) fix the randomly generated numbers\n",
    "SEED = 100\n",
    "np.random.seed(SEED)"
   ]
  },
  {
   "cell_type": "markdown",
   "id": "3941c0c5",
   "metadata": {},
   "source": [
    "## Variables"
   ]
  },
  {
   "cell_type": "code",
   "execution_count": 3,
   "id": "f0598fa8",
   "metadata": {},
   "outputs": [],
   "source": [
    "mut_mat       = \"AZAE970101\"   # mutation matrix\n",
    "Test_Seasons = [str(year)+s for year in range (2014, 2021) for s in [\"NH\", \"SH\"]]   # seasons from 2014NH to 2020SH\n",
    "\n",
    "HA1_features  = [f\"HA1_{x}\" for x in range(1,329+1)]\n",
    "meta_features = [\n",
    "                 'virus',   # virus avidity\n",
    "                 'serum',   # antiserum potency\n",
    "                 'virusPassCat',\n",
    "                 'serumPassCat'\n",
    "                 ]   # metadata features\n",
    "\n",
    "metadata   = 'a+p+vPC+sPC'   # label to record which metadata is being used\n",
    "model_name = 'optimized_RF'   # the type of model to be used\n",
    "\n",
    "perc_circ_train_all = [10, 20, 30, 40, 50]  # percentage of circulating isolates in training dataset\n",
    "\n",
    "n_run_start = 0     # No. of simulation runs as well as\n",
    "n_run_end   = 50    # random selection of circulating isolates"
   ]
  },
  {
   "cell_type": "markdown",
   "id": "a92dcbed",
   "metadata": {},
   "source": [
    "## Paths and filenames"
   ]
  },
  {
   "cell_type": "code",
   "execution_count": 4,
   "id": "cff06c0d",
   "metadata": {},
   "outputs": [],
   "source": [
    "# paths\n",
    "path_data   = \"../data/\"   # path of data\n",
    "path_result = \"../results/SuppFig7_circIsolatesTrain/\"   # results will be saved in this directory\n",
    "Path(path_result).mkdir(parents=True, exist_ok=True)   # make directory if it does not exist already\n",
    "\n",
    "# filenames\n",
    "data_fn = path_data + f\"nhts_ha1_{mut_mat}.csv\"   # input data\n",
    "test_fn = path_result + \"SuppFig7_circIsolatesTrain.csv\"   # to save performance scores for test dataset\n",
    "fig_fn  = path_result + 'SuppFig7_circIsolatesTrain.svg'   # to save figure"
   ]
  },
  {
   "cell_type": "markdown",
   "id": "ca97afb2",
   "metadata": {},
   "source": [
    "## Read data\n",
    "- Genetic difference (seq_diff) encoded as per the mutation matrix\n",
    "- Converter is used to load the genetic difference saved as a list of floats"
   ]
  },
  {
   "cell_type": "code",
   "execution_count": null,
   "id": "16180e48",
   "metadata": {},
   "outputs": [],
   "source": [
    "data = pd.read_csv(data_fn, converters={\"seq_diff\": literal_eval})"
   ]
  },
  {
   "cell_type": "markdown",
   "id": "0e5a3bf0",
   "metadata": {},
   "source": [
    "## Performance of the model\n",
    "- For each of the 50 runs\n",
    "    - For each percent of circulating isolates for training\n",
    "        - For each test season from 2014NH to 2020SH\n",
    "            - Split the data into training and test datasets\n",
    "            - Prepare encoded inputs (genetic difference and metadata features)\n",
    "            - Train and evaluate the model\n",
    "            - Compute predictive performance\n",
    "            - Save the predictions\n",
    "        - Compute average predictive performance"
   ]
  },
  {
   "cell_type": "code",
   "execution_count": null,
   "id": "4fcb71c4",
   "metadata": {},
   "outputs": [],
   "source": [
    "'''\n",
    "Number of simulation (Monte-carlo) runs and\n",
    "Random selection of titers per season in training dataset depends on this number used as SEED\n",
    "'''\n",
    "for run in range(n_run_start, n_run_end):\n",
    "    \n",
    "    '''\n",
    "    Percentage of circulating virus isolates in training dataset\n",
    "    '''\n",
    "    for perc_circ_train in perc_circ_train_all:\n",
    "\n",
    "        '''\n",
    "        Test Seasons\n",
    "        '''\n",
    "        # to collect actuals and predictions for micro-averaged scores over all test seasons\n",
    "        actual_all  = {}\n",
    "        predict_all = {}\n",
    "\n",
    "        # loop through test seasons\n",
    "        for test_season in Test_Seasons:\n",
    "            print(\"run: \", run,\n",
    "                  \",   % circulating train: \", perc_circ_train,\n",
    "                  \"%,   test season: \", test_season)\n",
    "\n",
    "            '''\n",
    "            Train Test Split\n",
    "                - based on seasonal framework\n",
    "                - Train: past virus isolates paired with past sera\n",
    "                - Test: circulating virus isolates paired with past sera\n",
    "            '''\n",
    "            ind_train, ind_test = utilities.circIsolatesTrain_seasonal_trainTestSplit(data.copy(),\n",
    "                                                                                      test_season,\n",
    "                                                                                      circ_train=perc_circ_train,\n",
    "                                                                                      random_state=run)\n",
    "\n",
    "            # training dataset\n",
    "            data_train = data.iloc[ind_train].copy()\n",
    "            data_train.reset_index(drop=True, inplace=True)\n",
    "\n",
    "            # test dataset\n",
    "            data_test = data.iloc[ind_test].copy()\n",
    "            data_test.reset_index(drop=True, inplace=True)\n",
    "\n",
    "\n",
    "            '''\n",
    "            Input features (genetic difference)\n",
    "            '''\n",
    "            # training dataset\n",
    "            X_train = pd.DataFrame(data_train.seq_diff.to_list(),\n",
    "                                   index=data_train.index,\n",
    "                                   columns=HA1_features)\n",
    "            X_train.fillna(0, inplace=True)   # replace nan with 0\n",
    "\n",
    "            # test dataset\n",
    "            X_test = pd.DataFrame(data_test.seq_diff.to_list(),\n",
    "                                   index=data_test.index,\n",
    "                                   columns=HA1_features)\n",
    "            X_test.fillna(0, inplace=True)   # replace nan with 0\n",
    "\n",
    "\n",
    "            '''\n",
    "            Input features (metadata features)\n",
    "            '''\n",
    "            X_train_meta = data_train[meta_features].fillna('None').astype('str')\n",
    "            X_test_meta  = data_test[meta_features].fillna('None').astype('str')\n",
    "\n",
    "\n",
    "            # one hot encoding\n",
    "            ohe = OneHotEncoder(handle_unknown='ignore')\n",
    "            X_train_meta = ohe.fit_transform(X_train_meta).toarray()\n",
    "            X_test_meta = ohe.transform(X_test_meta).toarray()\n",
    "\n",
    "            X_train = np.hstack((X_train.values, X_train_meta))\n",
    "            X_test  = np.hstack((X_test.values, X_test_meta))\n",
    "\n",
    "\n",
    "            del X_train_meta, X_test_meta\n",
    "\n",
    "\n",
    "            '''\n",
    "            Training and evaluation\n",
    "            '''\n",
    "            # optimized model\n",
    "            model = getattr(model_utilities, f\"model_{model_name}\")\n",
    "            results = model(X_train,\n",
    "                            data_train.nht.values,\n",
    "                            X_test = X_test)\n",
    "\n",
    "\n",
    "            '''\n",
    "            Test Scores\n",
    "            '''\n",
    "            cols       = ['mut_mat', 'model', 'metadata', 'run', 'circ_train', 'season']\n",
    "            col_values = [mut_mat, model_name, metadata, run, f'{perc_circ_train}%', test_season]\n",
    "            utilities.compute_scores(data_test.nht.values, results['pred_test'], test_fn, col=cols, col_val=col_values)\n",
    "\n",
    "\n",
    "            '''\n",
    "            Save actuals and predictions\n",
    "            '''\n",
    "            actual_all[f'{test_season}']  = data_test.nht.values\n",
    "            predict_all[f'{test_season}'] = results['pred_test']\n",
    "            \n",
    "\n",
    "            #################\n",
    "            # End season loop\n",
    "            #################\n",
    "\n",
    "\n",
    "        '''\n",
    "        Micro-average over seasons\n",
    "        '''\n",
    "        actual  = np.concatenate(list(actual_all.values()))\n",
    "        predict = np.concatenate(list(predict_all.values()))\n",
    "\n",
    "        # Test scores\n",
    "        col_values = [mut_mat, model_name, metadata, run, f'{perc_circ_train}%', 'avg.']\n",
    "        utilities.compute_scores(actual, predict, test_fn, col=cols, col_val=col_values)\n",
    "        \n",
    "        #################################\n",
    "        # loop over perc_circ_train end\n",
    "        #################################\n",
    "    \n",
    "    \n",
    "    ######################\n",
    "    # loop over n_runs end\n",
    "    ######################"
   ]
  },
  {
   "cell_type": "markdown",
   "id": "dbe5c0f7",
   "metadata": {},
   "source": [
    "## Imports and configuration for plotting"
   ]
  },
  {
   "cell_type": "code",
   "execution_count": 5,
   "id": "50b2dda3",
   "metadata": {},
   "outputs": [],
   "source": [
    "import matplotlib.pyplot as plt\n",
    "import seaborn as sns\n",
    "%matplotlib inline\n",
    "\n",
    "sns.set_context(rc={\"axes.labelsize\":9,\n",
    "                    \"xtick.labelsize\":8,\n",
    "                    \"ytick.labelsize\":8,\n",
    "                    \"legend.fontsize\":8,\n",
    "                    \"legend.title_fontsize\":8})"
   ]
  },
  {
   "cell_type": "markdown",
   "id": "9bb0f179",
   "metadata": {},
   "source": [
    "## Read test scores"
   ]
  },
  {
   "cell_type": "code",
   "execution_count": 6,
   "id": "fd66ace8",
   "metadata": {},
   "outputs": [],
   "source": [
    "scores = pd.read_csv(test_fn)"
   ]
  },
  {
   "cell_type": "markdown",
   "id": "0fc20a51",
   "metadata": {},
   "source": [
    "## Plot MAE vs. percentage of circulating isolates for training"
   ]
  },
  {
   "cell_type": "code",
   "execution_count": 13,
   "id": "7b07869c",
   "metadata": {},
   "outputs": [
    {
     "data": {
      "image/png": "[encoded data removed]",
      "text/plain": [
       "<Figure size 400x300 with 1 Axes>"
      ]
     },
     "metadata": {},
     "output_type": "display_data"
    }
   ],
   "source": [
    "fig, ax = plt.subplots(figsize=(4,3))\n",
    "\n",
    "plot = sns.boxplot(x='circ_train', y='MAE', data=scores[scores.season!='avg.'],\n",
    "                   width=0.5,\n",
    "                   color=\"C0\",\n",
    "                   ax=ax)\n",
    "\n",
    "# annotate\n",
    "for (xtick, label) in zip(plot.get_xticks(), scores[scores.season=='avg.'].groupby(['circ_train']).mean().MAE):\n",
    "    ax.text(xtick,\n",
    "            1.01,\n",
    "            f\"{label:.3f}\",\n",
    "            horizontalalignment='center',\n",
    "            fontsize=8,\n",
    "            rotation=0)\n",
    "\n",
    "ax.text(2.5, 1.05, \"Average MAE\", fontsize=9, horizontalalignment='center')\n",
    "\n",
    "# configurations for figure\n",
    "ax.set_xlabel('Circulating isolates in training dataset', fontsize=9)\n",
    "ax.set_ylabel('MAE', fontsize=9)\n",
    "ax.set_ylim(bottom=0.35, top=1)\n",
    "\n",
    "sns.despine(trim=True)\n",
    "\n",
    "# save figure\n",
    "fig.savefig(fig_fn, format='svg', bbox_inches='tight')"
   ]
  },
  {
   "cell_type": "code",
   "execution_count": null,
   "id": "9459f2d7",
   "metadata": {},
   "outputs": [],
   "source": []
  }
 ],
 "metadata": {
  "kernelspec": {
   "display_name": "Python [conda env:seasonal_ag_pred]",
   "language": "python",
   "name": "conda-env-seasonal_ag_pred-py"
  },
  "language_info": {
   "codemirror_mode": {
    "name": "ipython",
    "version": 3
   },
   "file_extension": ".py",
   "mimetype": "text/x-python",
   "name": "python",
   "nbconvert_exporter": "python",
   "pygments_lexer": "ipython3",
   "version": "3.8.12"
  }
 },
 "nbformat": 4,
 "nbformat_minor": 5
}
