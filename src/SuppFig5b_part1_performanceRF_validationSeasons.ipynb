{
 "cells": [
  {
   "cell_type": "markdown",
   "id": "d3b4aeb1",
   "metadata": {},
   "source": [
    "# Performance of the model over validation seasons\n",
    "We will collect the predictions of the proposed RF model on the validation dataset for four seasons from 2012NH to 2013SH. These predictions will be saved and later used to optimize the classification threshold."
   ]
  },
  {
   "cell_type": "markdown",
   "id": "73413c08",
   "metadata": {},
   "source": [
    "## Imports"
   ]
  },
  {
   "cell_type": "code",
   "execution_count": 1,
   "id": "2f72a716",
   "metadata": {},
   "outputs": [],
   "source": [
    "from pathlib import Path\n",
    "import pandas as pd\n",
    "import numpy as np\n",
    "import utilities   # self defined functions\n",
    "import model_utilities   # self defined models\n",
    "from ast import literal_eval\n",
    "from sklearn.preprocessing import OneHotEncoder\n",
    "\n",
    "# (for reproduciblility) fix the randomly generated numbers\n",
    "SEED = 100\n",
    "np.random.seed(SEED)"
   ]
  },
  {
   "cell_type": "markdown",
   "id": "2cf203ac",
   "metadata": {},
   "source": [
    "## Variables"
   ]
  },
  {
   "cell_type": "code",
   "execution_count": 2,
   "id": "c2b51b80",
   "metadata": {},
   "outputs": [],
   "source": [
    "mut_mat       = \"AZAE970101\"   # mutation matrix\n",
    "Valid_Seasons = ['2012NH', '2012SH', '2013NH', '2013SH'] # seasons from 2012NH to 2013SH\n",
    "\n",
    "HA1_features  = [f\"HA1_{x}\" for x in range(1,329+1)]\n",
    "meta_features = [\n",
    "                 'virus',   # virus avidity\n",
    "                 'serum',   # antiserum potency\n",
    "                 'virusPassCat',\n",
    "                 'serumPassCat'\n",
    "                 ]   # metadata features\n",
    "\n",
    "metadata   = 'a+p+vPC+sPC'   # label to record which metadata is being used\n",
    "model_name = 'optimized_RF'   # the type of model to be used"
   ]
  },
  {
   "cell_type": "markdown",
   "id": "6cb4a0c3",
   "metadata": {},
   "source": [
    "## Paths and filenames"
   ]
  },
  {
   "cell_type": "code",
   "execution_count": 3,
   "id": "9712fa7b",
   "metadata": {},
   "outputs": [],
   "source": [
    "# paths\n",
    "path_data   = \"../data/\"   # path of data\n",
    "path_result = \"../results/SuppFig5b_optimize_threshold/\"   # results will be saved in this directory\n",
    "Path(path_result).mkdir(parents=True, exist_ok=True)   # make directory if it does not exist already\n",
    "\n",
    "# filenames\n",
    "data_fn   = path_data + f\"nhts_ha1_{mut_mat}.csv\"   # input data\n",
    "valid_fn  = path_result + \"validScores.csv\"   # to save performance scores for validation dataset\n",
    "output_fn = path_result + f\"output_validSeasons_{mut_mat}.csv\"   # to save virus-antiserum info., actual and predicted NHTs"
   ]
  },
  {
   "cell_type": "markdown",
   "id": "a97a828b",
   "metadata": {},
   "source": [
    "## Read data\n",
    "- Genetic difference (seq_diff) encoded as per the mutation matrix\n",
    "- Converter is used to load the genetic difference saved as a list of floats"
   ]
  },
  {
   "cell_type": "code",
   "execution_count": 4,
   "id": "5d9dfbff",
   "metadata": {},
   "outputs": [],
   "source": [
    "data = pd.read_csv(data_fn, converters={\"seq_diff\": literal_eval})"
   ]
  },
  {
   "cell_type": "markdown",
   "id": "c6d74b88",
   "metadata": {},
   "source": [
    "## Performance of the model\n",
    "- For each validation season from 2012NH to 2013SH\n",
    "    - Split the data into training and validation datasets\n",
    "    - Prepare encoded inputs (genetic difference and metadata features)\n",
    "    - Train and evaluate the model\n",
    "    - Compute predictive performance\n",
    "    - Save the predictions\n",
    "- Compute average predictive performance"
   ]
  },
  {
   "cell_type": "code",
   "execution_count": 5,
   "id": "e9f8bd18",
   "metadata": {},
   "outputs": [
    {
     "name": "stdout",
     "output_type": "stream",
     "text": [
      "Validation Season:  2012NH\n",
      "Time for training: 0.9129602909088135\n",
      "Validation Season:  2012SH\n",
      "Time for training: 3.0288445949554443\n",
      "Validation Season:  2013NH\n",
      "Time for training: 12.691310405731201\n",
      "Validation Season:  2013SH\n",
      "Time for training: 30.855534076690674\n",
      "Training and validation completed\n"
     ]
    }
   ],
   "source": [
    "# to collect actuals and predictions for micro-averaged scores over all validation seasons\n",
    "actual_all  = {}\n",
    "predict_all = {}\n",
    "output      = pd.DataFrame()\n",
    "\n",
    "# loop through each validation season\n",
    "for valid_season in Valid_Seasons:\n",
    "    print(\"Validation Season: \", valid_season)\n",
    "\n",
    "    '''\n",
    "    Train Test Split\n",
    "        - based on seasonal framework\n",
    "        - Train: past virus isolates paired with past sera\n",
    "        - Test: circulating virus isolates paired with past sera\n",
    "    '''\n",
    "    ind_train, ind_valid = utilities.seasonal_trainTestSplit(data.copy(), valid_season)\n",
    "    \n",
    "    # training dataset\n",
    "    data_train = data.iloc[ind_train].copy()\n",
    "    data_train.reset_index(drop=True, inplace=True)\n",
    "    \n",
    "    # validation dataset\n",
    "    data_valid = data.iloc[ind_valid].copy()\n",
    "    data_valid.reset_index(drop=True, inplace=True)\n",
    "\n",
    "\n",
    "    '''\n",
    "    Input features (genetic difference)\n",
    "    '''\n",
    "    # training dataset\n",
    "    X_train = pd.DataFrame(data_train.seq_diff.to_list(),\n",
    "                           index=data_train.index,\n",
    "                           columns=HA1_features)\n",
    "    X_train.fillna(0, inplace=True)   # replace nan with 0\n",
    "    \n",
    "    # validation dataset\n",
    "    X_valid = pd.DataFrame(data_valid.seq_diff.to_list(),\n",
    "                           index=data_valid.index,\n",
    "                           columns=HA1_features)\n",
    "    X_valid.fillna(0, inplace=True)   # replace nan with 0\n",
    "    \n",
    "    \n",
    "    '''\n",
    "    Input features (metadata features)\n",
    "    '''\n",
    "    X_train_meta = data_train[meta_features].fillna('None').astype('str')\n",
    "    X_valid_meta = data_valid[meta_features].fillna('None').astype('str')\n",
    "    \n",
    "    \n",
    "    # one hot encoding\n",
    "    ohe = OneHotEncoder(handle_unknown='ignore')\n",
    "    X_train_meta = ohe.fit_transform(X_train_meta).toarray()\n",
    "    X_valid_meta = ohe.transform(X_valid_meta).toarray()\n",
    "      \n",
    "    X_train = np.hstack((X_train.values, X_train_meta))\n",
    "    X_valid = np.hstack((X_valid.values, X_valid_meta))\n",
    "\n",
    "\n",
    "    del X_train_meta, X_valid_meta\n",
    "        \n",
    "    \n",
    "    '''\n",
    "    Training and evaluation\n",
    "    '''\n",
    "    # optimized model\n",
    "    model = getattr(model_utilities, f\"model_{model_name}\")\n",
    "    results = model(X_train,\n",
    "                    data_train.nht.values,\n",
    "                    X_test = X_valid)\n",
    "    \n",
    "   \n",
    "    '''\n",
    "    Validation Scores\n",
    "    '''\n",
    "    cols       = ['mut_mat', 'model', 'metadata', 'season']\n",
    "    col_values = [mut_mat, model_name, metadata, valid_season]\n",
    "    utilities.compute_scores(data_valid.nht.values, results['pred_test'], valid_fn, col=cols, col_val=col_values)\n",
    "    \n",
    "    \n",
    "    '''\n",
    "    Save actuals and predictions\n",
    "    '''\n",
    "    actual_all[f'{valid_season}']  = data_valid.nht.values\n",
    "    predict_all[f'{valid_season}'] = results['pred_test']\n",
    "    \n",
    "    \n",
    "    '''\n",
    "    Save data info. and output\n",
    "    '''\n",
    "    output_tmp = data_valid[[\"virus\", \"virusPassCat\", \"virusDate\",\n",
    "                             \"serum\", \"serumPassCat\", \"serumDate\",\n",
    "                             \"nht\"]].copy()\n",
    "    output_tmp.loc[:, \"predict\"]      = results['pred_test']\n",
    "    output_tmp.loc[:, \"variant\"]      = data_valid[\"variant\"].values\n",
    "    output_tmp.loc[:, \"pred_variant\"] = (results['pred_test'] > 2) * 1\n",
    "    output_tmp.loc[:, \"season\"]       = valid_season\n",
    "    \n",
    "    output = pd.concat((output, output_tmp), ignore_index=True)\n",
    "    \n",
    "    #################\n",
    "    # End season loop\n",
    "    #################\n",
    "\n",
    "\n",
    "'''\n",
    "Micro-average over seasons\n",
    "'''\n",
    "actual  = np.concatenate(list(actual_all.values()))\n",
    "predict = np.concatenate(list(predict_all.values()))\n",
    "\n",
    "# Validation scores\n",
    "col_values = [mut_mat, model_name, metadata, 'Average']\n",
    "utilities.compute_scores(actual, predict, valid_fn, col=cols, col_val=col_values)\n",
    "\n",
    "\n",
    "'''\n",
    "Save output\n",
    "'''\n",
    "output.to_csv(output_fn, index=False)\n",
    "\n",
    "\n",
    "print(\"Training and validation completed\")"
   ]
  }
 ],
 "metadata": {
  "kernelspec": {
   "display_name": "Python [conda env:seasonal_ag_pred]",
   "language": "python",
   "name": "conda-env-seasonal_ag_pred-py"
  },
  "language_info": {
   "codemirror_mode": {
    "name": "ipython",
    "version": 3
   },
   "file_extension": ".py",
   "mimetype": "text/x-python",
   "name": "python",
   "nbconvert_exporter": "python",
   "pygments_lexer": "ipython3",
   "version": "3.8.12"
  }
 },
 "nbformat": 4,
 "nbformat_minor": 5
}
