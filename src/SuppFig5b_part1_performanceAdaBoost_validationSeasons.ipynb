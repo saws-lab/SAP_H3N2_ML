{
 "cells": [
  {
   "cell_type": "markdown",
   "id": "d3b4aeb1",
   "metadata": {},
   "source": [
    "# Performance of the model over validation seasons\n",
    "We will collect the predictions of the proposed AdaBoost model on the validation dataset for four seasons from 2012NH to 2013SH. These predictions will be saved and later used to optimize the classification threshold."
   ]
  },
  {
   "cell_type": "markdown",
   "id": "73413c08",
   "metadata": {},
   "source": [
    "## Imports"
   ]
  },
  {
   "cell_type": "code",
   "execution_count": 1,
   "id": "2f72a716",
   "metadata": {},
   "outputs": [],
   "source": [
    "from pathlib import Path\n",
    "import pandas as pd\n",
    "import numpy as np\n",
    "from ast import literal_eval\n",
    "import random\n",
    "import gc\n",
    "\n",
    "# self defined functions and models\n",
    "import utilities\n",
    "import model_utilities\n",
    "\n",
    "# for encoding of metadata information\n",
    "from sklearn.preprocessing import OneHotEncoder\n",
    "\n",
    "# for parallel computation\n",
    "from functools import partial\n",
    "from joblib import Parallel, delayed\n",
    "\n",
    "# for reproduciblility, fix the randomly generated numbers\n",
    "SEED = 100\n",
    "random.seed(SEED)\n",
    "np.random.seed(SEED)"
   ]
  },
  {
   "cell_type": "markdown",
   "id": "2cf203ac",
   "metadata": {},
   "source": [
    "## Variables"
   ]
  },
  {
   "cell_type": "code",
   "execution_count": 2,
   "id": "c2b51b80",
   "metadata": {},
   "outputs": [],
   "source": [
    "mut_mat       = \"GIAG010101\"   # mutation matrix\n",
    "Valid_Seasons = ['2012NH', '2012SH', '2013NH', '2013SH'] # seasons from 2012NH to 2013SH\n",
    "\n",
    "HA1_features  = [f\"HA1_{x}\" for x in range(1,329+1)]\n",
    "meta_features = [\n",
    "                 'virus',   # virus avidity\n",
    "                 'serum',   # antiserum potency\n",
    "                 'virusPassCat',   # virus passage category\n",
    "                 'serumPassCat'   # serum passage category\n",
    "                 ]   # metadata features\n",
    "\n",
    "metadata   = 'a+p+vPC+sPC'   # label to record which metadata is being used\n",
    "model_name = 'AdaBoost'   # the type of model to be used"
   ]
  },
  {
   "cell_type": "markdown",
   "id": "6cb4a0c3",
   "metadata": {},
   "source": [
    "## Paths and filenames"
   ]
  },
  {
   "cell_type": "code",
   "execution_count": 3,
   "id": "9712fa7b",
   "metadata": {},
   "outputs": [],
   "source": [
    "# paths\n",
    "path_data   = \"../data/\"   # path of data\n",
    "path_result = \"../results/SuppFig5b_optimize_threshold/\"   # results will be saved in this directory\n",
    "Path(path_result).mkdir(parents=True, exist_ok=True)   # make directory if it does not exist already\n",
    "\n",
    "# filenames\n",
    "data_fn    = path_data + f\"nhts_ha1_{mut_mat}.csv\"   # input data\n",
    "results_fn = path_result + \"validScores.csv\"   # to save performance scores for validation dataset\n",
    "output_fn  = path_result + f\"output_validSeasons_{mut_mat}.csv\"   # to save virus-antiserum info., actual and predicted NHTs"
   ]
  },
  {
   "cell_type": "markdown",
   "id": "a97a828b",
   "metadata": {},
   "source": [
    "## Read data\n",
    "- Genetic difference (seq_diff) encoded as per the mutation matrix\n",
    "- Converter is used to load the genetic difference saved as a list of floats"
   ]
  },
  {
   "cell_type": "code",
   "execution_count": 4,
   "id": "5d9dfbff",
   "metadata": {},
   "outputs": [],
   "source": [
    "data = pd.read_csv(data_fn, converters={\"seq_diff\": literal_eval})"
   ]
  },
  {
   "cell_type": "markdown",
   "id": "ac9502e8",
   "metadata": {},
   "source": [
    "## Function to compute performance of model for a given season\n",
    "- Split the data into training and validation datasets\n",
    "- Prepare encoded inputs (genetic difference and metadata features)\n",
    "- Train and validate the model\n",
    "- Compute predictive performance\n",
    "\n",
    "> **Parameters**\n",
    "> - season (str): identifier for the Northern of Southern Hemisphere season such as \"2015NH\"\n",
    "\n",
    "> **Returns**\n",
    "> - (numpy array): actual NHTs for the given season\n",
    "> - (numpy array): predicted NHTs for the given season"
   ]
  },
  {
   "cell_type": "code",
   "execution_count": null,
   "id": "0a2b6aaa",
   "metadata": {},
   "outputs": [],
   "source": [
    "def train_test_season(season):\n",
    "    '''\n",
    "    Train Test Split\n",
    "        - based on seasonal framework\n",
    "        - Train: past virus isolates paired with past sera\n",
    "        - Test: circulating virus isolates paired with past sera\n",
    "    '''\n",
    "    ind_train, ind_test = utilities.seasonal_trainTestSplit(data[['virus', 'serum', 'virusDate', 'serumDate']], season)\n",
    "    \n",
    "    # training dataset\n",
    "    data_train = data.iloc[ind_train].copy()\n",
    "    data_train.reset_index(drop=True, inplace=True)\n",
    "    \n",
    "    # test dataset\n",
    "    data_test = data.iloc[ind_test].copy()\n",
    "    data_test.reset_index(drop=True, inplace=True)\n",
    "\n",
    "\n",
    "    '''\n",
    "    Input features (genetic difference)\n",
    "    '''\n",
    "    # training dataset\n",
    "    X_train = pd.DataFrame(data_train.seq_diff.to_list(),\n",
    "                           index=data_train.index,\n",
    "                           columns=HA1_features)\n",
    "    X_train.fillna(0, inplace=True)   # replace nan with 0\n",
    "    \n",
    "    # test dataset\n",
    "    X_test = pd.DataFrame(data_test.seq_diff.to_list(),\n",
    "                          index=data_test.index,\n",
    "                          columns=HA1_features)\n",
    "    X_test.fillna(0, inplace=True)   # replace nan with 0\n",
    "    \n",
    "    \n",
    "    '''\n",
    "    Input features (metadata features)\n",
    "    '''\n",
    "    X_train_meta = data_train[meta_features].fillna('None').astype('str')\n",
    "    X_test_meta  = data_test[meta_features].fillna('None').astype('str')\n",
    "    \n",
    "    \n",
    "    # one hot encoding\n",
    "    ohe = OneHotEncoder(handle_unknown='ignore')\n",
    "    X_train_meta = ohe.fit_transform(X_train_meta).toarray()\n",
    "    X_test_meta  = ohe.transform(X_test_meta).toarray()\n",
    "      \n",
    "    X_train = np.hstack((X_train.values, X_train_meta))\n",
    "    X_test  = np.hstack((X_test.values, X_test_meta))\n",
    "\n",
    "\n",
    "    del X_train_meta, X_test_meta\n",
    "    gc.collect()\n",
    "        \n",
    "    \n",
    "    '''\n",
    "    Training and testing\n",
    "    '''\n",
    "    model = getattr(model_utilities, f\"model_{model_name}\")\n",
    "    results = model(X_train,\n",
    "                    data_train.nht.values,\n",
    "                    X_test = X_test)\n",
    "    \n",
    "    \n",
    "    '''\n",
    "    Test Scores\n",
    "    '''\n",
    "    cols       = ['mut_mat', 'model', 'metadata', 'season']\n",
    "    col_values = [mut_mat, model_name, metadata, season]\n",
    "    utilities.compute_scores(data_test.nht.values, results['pred_test'], results_fn, col=cols, col_val=col_values)\n",
    "    \n",
    "    \n",
    "    '''\n",
    "    Save data info. and output\n",
    "    '''\n",
    "    output_tmp = data_test[['virus', 'virusPassCat', 'virusDate',\n",
    "                            'serum', 'serumPassCat', 'serumDate',\n",
    "                            'nht']].copy()\n",
    "    output_tmp.loc[:, 'predict']      = results['pred_test']\n",
    "    output_tmp.loc[:, 'variant']      = data_test['variant'].values\n",
    "    output_tmp.loc[:, 'pred_variant'] = (results['pred_test'] > 2) * 1\n",
    "    output_tmp.loc[:, 'season']       = season\n",
    "    \n",
    "    \n",
    "    return season, data_test.nht.values, results['pred_test'], output_tmp"
   ]
  },
  {
   "cell_type": "markdown",
   "id": "4b498708",
   "metadata": {},
   "source": [
    "## Performance of the model\n",
    "- For each valid season from 2012NH to 2013SH\n",
    "    - Split the data into training and test datasets\n",
    "    - Prepare encoded inputs (genetic difference and metadata features)\n",
    "    - Train and evaluate the model\n",
    "    - Compute predictive performance\n",
    "    - Save the predictions\n",
    "- Compute average predictive performance"
   ]
  },
  {
   "cell_type": "code",
   "execution_count": null,
   "id": "c7962a03",
   "metadata": {},
   "outputs": [],
   "source": [
    "# train test for each test season in parallel\n",
    "result = Parallel(n_jobs=-1, verbose=1)(delayed(train_test_season)(valid_season) for valid_season in Valid_Seasons)\n",
    "\n",
    "# get results\n",
    "seasons, actual_all, predict_all, output_all = zip(*result)\n",
    "\n",
    "'''\n",
    "Micro-average over seasons\n",
    "'''\n",
    "actual  = np.concatenate(actual_all)\n",
    "predict = np.concatenate(predict_all)\n",
    "\n",
    "# Valid scores\n",
    "cols       = ['mut_mat', 'model', 'metadata', 'season']\n",
    "col_values = [mut_mat, model_name, metadata, 'Average']\n",
    "utilities.compute_scores(actual, predict, results_fn, col=cols, col_val=col_values)\n",
    "\n",
    "'''\n",
    "Save output\n",
    "'''\n",
    "output = pd.concat(output_all, ignore_index=True)\n",
    "output.to_csv(output_fn, index=False)\n",
    "\n",
    "print(\"Training and validation completed\")"
   ]
  }
 ],
 "metadata": {
  "kernelspec": {
   "display_name": "Python [conda env:seasonal_ag_pred]",
   "language": "python",
   "name": "conda-env-seasonal_ag_pred-py"
  },
  "language_info": {
   "codemirror_mode": {
    "name": "ipython",
    "version": 3
   },
   "file_extension": ".py",
   "mimetype": "text/x-python",
   "name": "python",
   "nbconvert_exporter": "python",
   "pygments_lexer": "ipython3",
   "version": "3.8.12"
  }
 },
 "nbformat": 4,
 "nbformat_minor": 5
}
