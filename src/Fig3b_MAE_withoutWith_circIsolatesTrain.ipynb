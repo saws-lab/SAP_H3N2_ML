{
 "cells": [
  {
   "cell_type": "markdown",
   "id": "0a2ad106",
   "metadata": {},
   "source": [
    "# MAE performance without/with partial information of circulating isolates\n",
    "Plot MAE scores of our model without/with information of 10% of randomly selected circulating isolates over 14 test seasons from 2014NH to 2020SH.\n",
    "\n",
    "Note that, as it uses results from Fig. 2 and Supp. Fig. 7, first run the associated notebooks [Fig2_model_evaluation](Fig2_model_evaluation.ipynb) and [SuppFig7_circIsolatesTrain](SuppFig7_circIsolatesTrain.ipynb) before running this notebook."
   ]
  },
  {
   "cell_type": "markdown",
   "id": "532dc5ef",
   "metadata": {},
   "source": [
    "## Imports"
   ]
  },
  {
   "cell_type": "code",
   "execution_count": 1,
   "id": "31d36479",
   "metadata": {},
   "outputs": [],
   "source": [
    "from pathlib import Path\n",
    "import pandas as pd\n",
    "import matplotlib.pyplot as plt\n",
    "import seaborn as sns\n",
    "\n",
    "sns.set_context(rc={\"axes.labelsize\":9,\n",
    "                    \"xtick.labelsize\":8,\n",
    "                    \"ytick.labelsize\":8,\n",
    "                    \"legend.fontsize\":8,\n",
    "                    \"legend.title_fontsize\":8})"
   ]
  },
  {
   "cell_type": "markdown",
   "id": "2982b668",
   "metadata": {},
   "source": [
    "## Filenames"
   ]
  },
  {
   "cell_type": "code",
   "execution_count": 2,
   "id": "dc7c5024",
   "metadata": {},
   "outputs": [],
   "source": [
    "path_result = \"../results/Fig3_antigenicMaps_withWithoutCircIsolatesTrain/\"   # results will be saved in this directory\n",
    "Path(path_result).mkdir(parents=True, exist_ok=True)   # make directory if it does not exist already\n",
    "\n",
    "# filename for performance of our model\n",
    "scores_fn = \"../results/Fig2_model_evaluation/Fig2_performance_testScores.csv\"\n",
    "# filename for performance of our model with partial information of circulating isolates for training\n",
    "scores_circTrain_fn = \"../results/SuppFig7_circIsolatesTrain/SuppFig7_circIsolatesTrain.csv\"\n",
    "# output figure\n",
    "fig_fn    = path_result + \"Fig3b_MAE_withoutWith_circIsolatesTrain.svg\""
   ]
  },
  {
   "cell_type": "markdown",
   "id": "3f610026",
   "metadata": {},
   "source": [
    "## Read scores and prepare data for plotting"
   ]
  },
  {
   "cell_type": "code",
   "execution_count": 3,
   "id": "c1f97d48",
   "metadata": {},
   "outputs": [],
   "source": [
    "# prepare performance scores of our model\n",
    "scores = pd.read_csv(scores_fn)\n",
    "scores = scores[['season', 'MAE']]\n",
    "scores['circ_train'] = 0\n",
    "scores['run'] = 0\n",
    "\n",
    "# prepare performance scores of our model with partial information of circulating isolates for training\n",
    "# keep scores with only 10% of circulating isolates used for training\n",
    "scores_circTrain = pd.read_csv(scores_circTrain_fn)\n",
    "scores_circTrain = scores_circTrain[['run', 'circ_train', 'season', 'MAE']]\n",
    "scores_circTrain = scores_circTrain[scores_circTrain.circ_train == '10%']\n",
    "\n",
    "# combine scores\n",
    "scores = pd.concat([scores, scores_circTrain], ignore_index=True)\n",
    "\n",
    "# remove average scores\n",
    "scores = scores[scores.season != 'Average']\n",
    "\n",
    "# take average over runs\n",
    "scores_mean = scores.groupby(['season', 'circ_train'], as_index=True).mean()\n",
    "scores_mean.drop(columns=['run'], inplace=True)\n",
    "scores_mean = scores_mean.unstack(level=0)\n",
    "scores_mean.columns = scores_mean.columns.droplevel()"
   ]
  },
  {
   "cell_type": "markdown",
   "id": "3092f6f3",
   "metadata": {},
   "source": [
    "## Plot MAE per season"
   ]
  },
  {
   "cell_type": "code",
   "execution_count": 4,
   "id": "1ca610e6",
   "metadata": {},
   "outputs": [
    {
     "data": {
      "image/png": "[encoded data removed]",
      "text/plain": [
       "<Figure size 800x90 with 2 Axes>"
      ]
     },
     "metadata": {},
     "output_type": "display_data"
    }
   ],
   "source": [
    "fig, ax = plt.subplots(figsize=(8,0.9))\n",
    "\n",
    "tmp = sns.heatmap(scores_mean,\n",
    "                  annot=True, annot_kws={\"size\":8}, fmt='.2f',\n",
    "                  vmin=0.6,\n",
    "                  vmax=0.9,\n",
    "                  cmap=sns.color_palette(\"Blues\", 3),\n",
    "                  cbar_kws={\"shrink\":0.95,\n",
    "                            \"orientation\":\"vertical\",\n",
    "                            \"label\":\"MAE\",\n",
    "                            \"ticks\":[0.6,0.9],\n",
    "                            \"pad\":0.02},\n",
    "                  linewidths=1,\n",
    "                  # square=True,\n",
    "                  ax=ax)\n",
    "\n",
    "# configurations for figure\n",
    "cbar = tmp.collections[0].colorbar\n",
    "cbar.ax.tick_params(labelsize=8)\n",
    "cbar.ax.yaxis.label.set_size(8)\n",
    "\n",
    "ax.set_xticklabels(ax.get_xticklabels(), rotation=30)\n",
    "ax.get_yaxis().set_visible(False)\n",
    "                  \n",
    "\n",
    "ax.set_xlabel(\"\")\n",
    "ax.set_ylabel(\"\")\n",
    "\n",
    "# save figure\n",
    "fig.savefig(fig_fn, format='svg', bbox_inches='tight')"
   ]
  },
  {
   "cell_type": "code",
   "execution_count": null,
   "id": "f5966cbd",
   "metadata": {},
   "outputs": [],
   "source": []
  }
 ],
 "metadata": {
  "kernelspec": {
   "display_name": "Python (seasonal_ag_pred_tf)",
   "language": "python",
   "name": "seasonal_ag_pred_tf"
  },
  "language_info": {
   "codemirror_mode": {
    "name": "ipython",
    "version": 3
   },
   "file_extension": ".py",
   "mimetype": "text/x-python",
   "name": "python",
   "nbconvert_exporter": "python",
   "pygments_lexer": "ipython3",
   "version": "3.8.12"
  }
 },
 "nbformat": 4,
 "nbformat_minor": 5
}
