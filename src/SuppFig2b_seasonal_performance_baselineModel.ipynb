{
 "cells": [
  {
   "cell_type": "markdown",
   "id": "61b9dbcc",
   "metadata": {},
   "source": [
    "# Performance of baseline model over multiple influenza seasons\n",
    "We will analyze the performance of the baseline model for seasons from 2005NH to 2021NH."
   ]
  },
  {
   "cell_type": "markdown",
   "id": "14bb6c61",
   "metadata": {},
   "source": [
    "## Imports"
   ]
  },
  {
   "cell_type": "code",
   "execution_count": 1,
   "id": "96006d0f",
   "metadata": {},
   "outputs": [],
   "source": [
    "from pathlib import Path\n",
    "import pandas as pd\n",
    "import numpy as np\n",
    "import utilities   # self defined functions\n",
    "import model_utilities   # self defined models\n",
    "from ast import literal_eval\n",
    "from sklearn.preprocessing import OneHotEncoder\n",
    "\n",
    "# (for reproduciblility) fix the randomly generated numbers\n",
    "SEED = 100\n",
    "np.random.seed(SEED)"
   ]
  },
  {
   "cell_type": "markdown",
   "id": "6853385c",
   "metadata": {},
   "source": [
    "## Variables"
   ]
  },
  {
   "cell_type": "code",
   "execution_count": 2,
   "id": "f1ac029d",
   "metadata": {},
   "outputs": [],
   "source": [
    "mut_mat     = \"binary\"   # mutation matrix\n",
    "Seasons     = [str(year)+s for year in range (2005, 2021) for s in [\"NH\", \"SH\"]] + [\"2021NH\"] # seasons from 2005NH to 2021NH\n",
    "\n",
    "HA1_features  = [f\"HA1_{x}\" for x in range(1,329+1)]\n",
    "meta_features = [\n",
    "                 # 'virus',   # virus avidity\n",
    "                 # 'serum',   # antiserum potency\n",
    "                 # 'virusPassCat',\n",
    "                 # 'serumPassCat'\n",
    "                 ]   # metadata features\n",
    "\n",
    "metadata   = 'no metadata'   # label to record which metadata is being used\n",
    "model_name = 'baseline'   # the type of model to be used"
   ]
  },
  {
   "cell_type": "markdown",
   "id": "0f5df449",
   "metadata": {},
   "source": [
    "## Paths and filenames"
   ]
  },
  {
   "cell_type": "code",
   "execution_count": 3,
   "id": "018c6d37",
   "metadata": {},
   "outputs": [],
   "source": [
    "# paths\n",
    "path_data   = \"../data/\"   # path of data\n",
    "path_result = \"../results/SuppFig2b_seasonal_performance_baselineModel/\"   # results will be saved in this directory\n",
    "Path(path_result).mkdir(parents=True, exist_ok=True)   # make directory if it does not exist already\n",
    "\n",
    "# filenames\n",
    "data_fn  = path_data + f\"nhts_ha1_{mut_mat}.csv\"   # input data\n",
    "train_fn = path_result + \"SuppFig2b_trainScores_baseline.csv\"   # to save performance scores for training dataset\n",
    "test_fn  = path_result + \"SuppFig2b_testScores_baseline.csv\"   # to save performance scores for test dataset\n",
    "fig_fn   = path_result + 'SuppFig2b_baseline_seasons_MAE_scatterplot.svg'   # to save figure"
   ]
  },
  {
   "cell_type": "markdown",
   "id": "ea873abb",
   "metadata": {},
   "source": [
    "## Read data\n",
    "- Genetic difference (seq_diff) encoded as per the mutation matrix\n",
    "- Converter is used to load the genetic difference saved as a list of floats"
   ]
  },
  {
   "cell_type": "code",
   "execution_count": null,
   "id": "9fa34472",
   "metadata": {},
   "outputs": [],
   "source": [
    "data = pd.read_csv(data_fn, converters={\"seq_diff\": literal_eval})"
   ]
  },
  {
   "cell_type": "markdown",
   "id": "79679626",
   "metadata": {},
   "source": [
    "## Performance of the model\n",
    "- For each season from 2005NH to 2021NH\n",
    "    - Split the data into training and test datasets\n",
    "    - Prepare encoded inputs (genetic difference and metadata features)\n",
    "    - Train and test the model\n",
    "    - Compute predictive performance\n",
    "    - Save the predictions\n",
    "- Compute average predictive performance"
   ]
  },
  {
   "cell_type": "code",
   "execution_count": null,
   "id": "b4141172",
   "metadata": {},
   "outputs": [],
   "source": [
    "# to collect actuals and predictions for micro-averaged scores over all seasons\n",
    "actual_train_all  = {}\n",
    "predict_train_all = {}\n",
    "\n",
    "actual_test_all  = {}\n",
    "predict_test_all = {}\n",
    "\n",
    "\n",
    "# loop through each season\n",
    "for season in Seasons:\n",
    "    print(\"Season: \", season)\n",
    "\n",
    "    '''\n",
    "    Train Test Split\n",
    "        - based on seasonal framework\n",
    "        - Train: past virus isolates paired with past sera\n",
    "        - Test: circulating virus isolates paired with past sera\n",
    "    '''\n",
    "    ind_train, ind_test = utilities.seasonal_trainTestSplit(data.copy(), season)\n",
    "    \n",
    "    # training dataset\n",
    "    data_train = data.iloc[ind_train].copy()\n",
    "    data_train.reset_index(drop=True, inplace=True)\n",
    "    \n",
    "    # test dataset\n",
    "    data_test = data.iloc[ind_test].copy()\n",
    "    data_test.reset_index(drop=True, inplace=True)\n",
    "\n",
    "\n",
    "    '''\n",
    "    Input features (genetic difference)\n",
    "    '''\n",
    "    # training dataset\n",
    "    X_train = pd.DataFrame(data_train.seq_diff.to_list(),\n",
    "                           index=data_train.index,\n",
    "                           columns=HA1_features)\n",
    "    X_train.fillna(0, inplace=True)   # replace nan with 0\n",
    "    \n",
    "    # test dataset\n",
    "    X_test = pd.DataFrame(data_test.seq_diff.to_list(),\n",
    "                           index=data_test.index,\n",
    "                           columns=HA1_features)\n",
    "    X_test.fillna(0, inplace=True)   # replace nan with 0\n",
    "    \n",
    "    \n",
    "    '''\n",
    "    Input features (metadata features)\n",
    "    '''\n",
    "    X_train_meta = data_train[meta_features].fillna('None').astype('str')\n",
    "    X_test_meta  = data_test[meta_features].fillna('None').astype('str')\n",
    "    \n",
    "    \n",
    "    # one hot encoding\n",
    "    ohe = OneHotEncoder(handle_unknown='ignore')\n",
    "    X_train_meta = ohe.fit_transform(X_train_meta).toarray()\n",
    "    X_test_meta  = ohe.transform(X_test_meta).toarray()\n",
    "      \n",
    "    X_train = np.hstack((X_train.values, X_train_meta))\n",
    "    X_test  = np.hstack((X_test.values, X_test_meta))\n",
    "\n",
    "\n",
    "    del X_train_meta, X_test_meta\n",
    "        \n",
    "    \n",
    "    '''\n",
    "    Training and Testing\n",
    "    '''\n",
    "    # baseline model\n",
    "    model = getattr(model_utilities, f\"model_{model_name}\")\n",
    "    results = model(X_train,\n",
    "                    data_train.nht.values,\n",
    "                    X_test = X_test)\n",
    "    \n",
    "    \n",
    "    '''\n",
    "    Training Scores\n",
    "    '''\n",
    "    cols       = ['mut_mat', 'model', 'metadata', 'season']\n",
    "    col_values = [mut_mat, model_name, metadata, season]\n",
    "    utilities.compute_scores(data_train.nht.values, results['pred_train'], train_fn, col=cols, col_val=col_values)\n",
    "    \n",
    "    \n",
    "    '''\n",
    "    Test Scores\n",
    "    '''\n",
    "    utilities.compute_scores(data_test.nht.values, results['pred_test'], test_fn, col=cols, col_val=col_values)\n",
    "    \n",
    "    \n",
    "    '''\n",
    "    Save actuals and predictions\n",
    "    '''\n",
    "    actual_train_all[f'{season}']  = data_train.nht.values\n",
    "    predict_train_all[f'{season}'] = results['pred_train']\n",
    "    \n",
    "    actual_test_all[f'{season}']  = data_test.nht.values\n",
    "    predict_test_all[f'{season}'] = results['pred_test']\n",
    "    \n",
    "    #################\n",
    "    # End season loop\n",
    "    #################\n",
    "\n",
    "\n",
    "'''\n",
    "Micro-average over seasons\n",
    "'''\n",
    "actual_train  = np.concatenate(list(actual_train_all.values()))\n",
    "predict_train = np.concatenate(list(predict_train_all.values()))\n",
    "\n",
    "actual_test  = np.concatenate(list(actual_test_all.values()))\n",
    "predict_test = np.concatenate(list(predict_test_all.values()))\n",
    "\n",
    "\n",
    "# Training scores\n",
    "col_values = [mut_mat, model_name, metadata, 'Average']\n",
    "utilities.compute_scores(actual_train, predict_train, train_fn, col=cols, col_val=col_values)\n",
    "\n",
    "\n",
    "# Test scores\n",
    "utilities.compute_scores(actual_test, predict_test, test_fn, col=cols, col_val=col_values)\n",
    "\n",
    "print(\"Training and testing completed\")"
   ]
  },
  {
   "cell_type": "markdown",
   "id": "1c9ac02d",
   "metadata": {},
   "source": [
    "## Imports and configuration for plotting"
   ]
  },
  {
   "cell_type": "code",
   "execution_count": 4,
   "id": "2e8434fe",
   "metadata": {},
   "outputs": [],
   "source": [
    "import matplotlib.pyplot as plt\n",
    "import seaborn as sns\n",
    "%matplotlib inline\n",
    "\n",
    "sns.set_context(rc={\"axes.labelsize\":9,\n",
    "                    \"xtick.labelsize\":8,\n",
    "                    \"ytick.labelsize\":8,\n",
    "                    \"legend.fontsize\":8,\n",
    "                    \"legend.title_fontsize\":8})"
   ]
  },
  {
   "cell_type": "markdown",
   "id": "19859dbf",
   "metadata": {},
   "source": [
    "## Read test scores of baseline model and prepare data for plots"
   ]
  },
  {
   "cell_type": "code",
   "execution_count": 5,
   "id": "2aa647ed",
   "metadata": {},
   "outputs": [],
   "source": [
    "scores = pd.read_csv(test_fn)\n",
    "\n",
    "# remove average score over seasons\n",
    "scores = scores[scores.season != 'Average']\n",
    "\n",
    "dummy_scores = pd.DataFrame(None, index=range(4), columns=scores.columns)\n",
    "dummy_scores.loc[0, [\"season\", \"MAE\"]] = [\"2003NH\", -1]\n",
    "dummy_scores.loc[1, \"season\"] = \"2003SH\"\n",
    "dummy_scores.loc[2, \"season\"] = \"2004NH\"\n",
    "dummy_scores.loc[3, \"season\"] = \"2004SH\"\n",
    "\n",
    "scores = dummy_scores.append(scores, ignore_index=True)"
   ]
  },
  {
   "cell_type": "markdown",
   "id": "7fa4cdf9",
   "metadata": {},
   "source": [
    "## Plot MAE per season"
   ]
  },
  {
   "cell_type": "code",
   "execution_count": 6,
   "id": "65102581",
   "metadata": {},
   "outputs": [
    {
     "data": {
      "image/png": "[encoded data removed]",
      "text/plain": [
       "<Figure size 673x200 with 1 Axes>"
      ]
     },
     "metadata": {},
     "output_type": "display_data"
    }
   ],
   "source": [
    "fig, ax = plt.subplots(figsize=(6.73,2))\n",
    "\n",
    "sns.scatterplot(x='season', y='MAE', data=scores,\n",
    "                color='C3', ax=ax)\n",
    "\n",
    "# configurations for figure \n",
    "ax.set_axisbelow(True)\n",
    "ax.grid(axis='y')\n",
    "ax.tick_params(axis='x', rotation=90)\n",
    "ax.set_ylim(bottom=0, top=2.5)\n",
    "ax.set_xlabel(\"\")\n",
    "ax.set_ylabel(\"MAE\", fontsize=9)\n",
    "ax.set_xlim(left=-0.5)\n",
    "\n",
    "sns.despine(trim=True, bottom=True)\n",
    "\n",
    "# save figure\n",
    "fig.savefig(fig_fn, format='svg', bbox_inches='tight')"
   ]
  },
  {
   "cell_type": "code",
   "execution_count": null,
   "id": "59e48838",
   "metadata": {},
   "outputs": [],
   "source": []
  }
 ],
 "metadata": {
  "kernelspec": {
   "display_name": "Python [conda env:seasonal_ag_pred]",
   "language": "python",
   "name": "conda-env-seasonal_ag_pred-py"
  },
  "language_info": {
   "codemirror_mode": {
    "name": "ipython",
    "version": 3
   },
   "file_extension": ".py",
   "mimetype": "text/x-python",
   "name": "python",
   "nbconvert_exporter": "python",
   "pygments_lexer": "ipython3",
   "version": "3.8.12"
  }
 },
 "nbformat": 4,
 "nbformat_minor": 5
}
