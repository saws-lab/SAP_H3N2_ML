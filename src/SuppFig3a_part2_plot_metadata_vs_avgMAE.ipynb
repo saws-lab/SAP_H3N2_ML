{
 "cells": [
  {
   "cell_type": "markdown",
   "id": "79a387b3",
   "metadata": {},
   "source": [
    "# Plot Metadata vs. average MAE\n",
    "We will plot the average MAE performance of model over validation seasons (from 2012NH to 2013SH) vs. metadata information."
   ]
  },
  {
   "cell_type": "markdown",
   "id": "72001d1f",
   "metadata": {},
   "source": [
    "## Imports and configuration for plotting"
   ]
  },
  {
   "cell_type": "code",
   "execution_count": 1,
   "id": "908c8124",
   "metadata": {},
   "outputs": [],
   "source": [
    "import pandas as pd\n",
    "import matplotlib.pyplot as plt\n",
    "import seaborn as sns\n",
    "%matplotlib inline\n",
    "\n",
    "sns.set_context(rc={\"axes.labelsize\":9,\n",
    "                    \"xtick.labelsize\":8,\n",
    "                    \"ytick.labelsize\":8,\n",
    "                    \"legend.fontsize\":8,\n",
    "                    \"legend.title_fontsize\":8})"
   ]
  },
  {
   "cell_type": "markdown",
   "id": "63b6cafb",
   "metadata": {},
   "source": [
    "## Paths and filenames"
   ]
  },
  {
   "cell_type": "code",
   "execution_count": 2,
   "id": "28bf16a0",
   "metadata": {},
   "outputs": [],
   "source": [
    "# paths\n",
    "path_result = \"../results/SuppFig3_optimization/\"   # results will be saved in this directory\n",
    "\n",
    "# filenames\n",
    "results_fn = path_result + \"SuppFig3a_optimize_metadata_validScores.csv\"   # to save performance scores for validation dataset\n",
    "fig_fn     = path_result + \"SuppFig3a_optimize_metadata.svg\"   # to save figure"
   ]
  },
  {
   "cell_type": "markdown",
   "id": "82a83eee",
   "metadata": {},
   "source": [
    "## Read validation scores and prepare data for plots"
   ]
  },
  {
   "cell_type": "code",
   "execution_count": 3,
   "id": "e937e9fb",
   "metadata": {},
   "outputs": [],
   "source": [
    "scores = pd.read_csv(results_fn)\n",
    "scores = scores[(scores.season==\"Average\")]\n",
    "scores.drop(columns=['mut_mat', 'model', 'season'], inplace=True)"
   ]
  },
  {
   "cell_type": "markdown",
   "id": "40f5314c",
   "metadata": {},
   "source": [
    "## Plot average MAE per metadata"
   ]
  },
  {
   "cell_type": "code",
   "execution_count": 8,
   "id": "c4fe2a19",
   "metadata": {},
   "outputs": [
    {
     "data": {
      "image/png": "[encoded data removed]",
      "text/plain": [
       "<Figure size 240x220 with 1 Axes>"
      ]
     },
     "metadata": {},
     "output_type": "display_data"
    }
   ],
   "source": [
    "fig, ax = plt.subplots(figsize=(2.4,2.2))\n",
    "\n",
    "plot = sns.barplot(x='MAE', y='metadata', data=scores,\n",
    "                   color=\"C0\",\n",
    "                   ax=ax)\n",
    "\n",
    "# configurations for figure\n",
    "ax.set_ylabel(\"Metadata\", fontsize=9)\n",
    "ax.set_xlabel(\"Validation average MAE\", fontsize=9)\n",
    "ax.set_xlim(left=0.95)\n",
    "\n",
    "sns.despine(trim=True)\n",
    "\n",
    "# save figure\n",
    "fig.savefig(fig_fn, format='svg', bbox_inches='tight')"
   ]
  },
  {
   "cell_type": "code",
   "execution_count": null,
   "id": "0151c4a9",
   "metadata": {},
   "outputs": [],
   "source": []
  }
 ],
 "metadata": {
  "kernelspec": {
   "display_name": "Python [conda env:seasonal_ag_pred_tf]",
   "language": "python",
   "name": "conda-env-seasonal_ag_pred_tf-py"
  },
  "language_info": {
   "codemirror_mode": {
    "name": "ipython",
    "version": 3
   },
   "file_extension": ".py",
   "mimetype": "text/x-python",
   "name": "python",
   "nbconvert_exporter": "python",
   "pygments_lexer": "ipython3",
   "version": "3.8.12"
  }
 },
 "nbformat": 4,
 "nbformat_minor": 5
}
