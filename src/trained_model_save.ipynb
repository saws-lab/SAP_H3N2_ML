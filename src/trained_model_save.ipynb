{
 "cells": [
  {
   "cell_type": "markdown",
   "id": "ff2c91b3",
   "metadata": {},
   "source": [
    "# Trained model\n",
    "\n",
    "We will train the optimized RF model with all four metadata features and top mutation matrix over all the available data from 2003NH to 2020SH and save it."
   ]
  },
  {
   "cell_type": "markdown",
   "id": "7cad0b70",
   "metadata": {},
   "source": [
    "## Imports"
   ]
  },
  {
   "cell_type": "code",
   "execution_count": 1,
   "id": "fb6b72fb",
   "metadata": {},
   "outputs": [],
   "source": [
    "from pathlib import Path\n",
    "import pandas as pd\n",
    "import numpy as np\n",
    "import utilities   # self defined functions\n",
    "import model_utilities   # self defined models\n",
    "from ast import literal_eval\n",
    "from sklearn.preprocessing import OneHotEncoder\n",
    "import joblib\n",
    "\n",
    "# (for reproduciblility) fix the randomly generated numbers\n",
    "SEED = 100\n",
    "np.random.seed(SEED)"
   ]
  },
  {
   "cell_type": "markdown",
   "id": "b27ef29e",
   "metadata": {},
   "source": [
    "## Variables"
   ]
  },
  {
   "cell_type": "code",
   "execution_count": 2,
   "id": "8fc5490f",
   "metadata": {},
   "outputs": [],
   "source": [
    "mut_mat       = \"AZAE970101\"   # mutation matrix\n",
    "\n",
    "HA1_features  = [f\"HA1_{x}\" for x in range(1,329+1)]\n",
    "meta_features = [\n",
    "                 'virus',   # virus avidity\n",
    "                 'serum',   # antiserum potency\n",
    "                 'virusPassCat',\n",
    "                 'serumPassCat'\n",
    "                 ]   # metadata features\n",
    "\n",
    "metadata   = 'a+p+vPC+sPC'   # label to record which metadata is being used\n",
    "model_name = 'optimized_RF'   # the type of model to be used"
   ]
  },
  {
   "cell_type": "markdown",
   "id": "93adb607",
   "metadata": {},
   "source": [
    "## Paths and filenames"
   ]
  },
  {
   "cell_type": "code",
   "execution_count": 3,
   "id": "c0a3b351",
   "metadata": {},
   "outputs": [],
   "source": [
    "# paths\n",
    "path_data   = \"../data/\"   # path of data\n",
    "path_result = \"../results/Fig2_performance_RF/\"   # results will be saved in this directory\n",
    "Path(path_result).mkdir(parents=True, exist_ok=True)   # make directory if it does not exist already\n",
    "\n",
    "# filenames\n",
    "data_fn          = path_data + f\"nhts_ha1_{mut_mat}.csv\"   # input data\n",
    "trained_model_fn = path_result + \"optimized_rf_model_trainStart2003NH_trainEnd2020SH.joblib\"   # to save trained model"
   ]
  },
  {
   "cell_type": "markdown",
   "id": "72e44978",
   "metadata": {},
   "source": [
    "## Read data\n",
    "- Genetic difference (seq_diff) encoded as per the mutation matrix\n",
    "- Converter is used to load the genetic difference saved as a list of floats"
   ]
  },
  {
   "cell_type": "code",
   "execution_count": 4,
   "id": "25bfe776",
   "metadata": {},
   "outputs": [],
   "source": [
    "data = pd.read_csv(data_fn, converters={\"seq_diff\": literal_eval})"
   ]
  },
  {
   "cell_type": "markdown",
   "id": "de41984e",
   "metadata": {},
   "source": [
    "## Train the model\n",
    "- Consider the test season as 2021NH\n",
    "    - Split the data into training and test datasets\n",
    "    - Prepare encoded inputs (genetic difference and metadata features)\n",
    "    - Train and save the model"
   ]
  },
  {
   "cell_type": "code",
   "execution_count": 6,
   "id": "580a3b29",
   "metadata": {},
   "outputs": [
    {
     "name": "stdout",
     "output_type": "stream",
     "text": [
      "Time for training: 303.0454161167145\n"
     ]
    },
    {
     "data": {
      "text/plain": [
       "['../results/Fig2_performance_RF/optimized_rf_model_trainStart2003NH_trainEnd2020NH.joblib']"
      ]
     },
     "execution_count": 6,
     "metadata": {},
     "output_type": "execute_result"
    }
   ],
   "source": [
    "'''\n",
    "Train Test Split\n",
    "    - based on seasonal framework\n",
    "    - Train: past virus isolates paired with past sera\n",
    "    - Test: circulating virus isolates paired with past sera\n",
    "'''\n",
    "ind_train, _ = utilities.seasonal_trainTestSplit(data.copy(), \"2021NH\")\n",
    "\n",
    "# training dataset\n",
    "data_train = data.iloc[ind_train].copy()\n",
    "data_train.reset_index(drop=True, inplace=True)\n",
    "\n",
    "\n",
    "'''\n",
    "Input features (genetic difference)\n",
    "'''\n",
    "# training dataset\n",
    "X_train = pd.DataFrame(data_train.seq_diff.to_list(),\n",
    "                       index=data_train.index,\n",
    "                       columns=HA1_features)\n",
    "X_train.fillna(0, inplace=True)   # replace nan with 0\n",
    "\n",
    "\n",
    "'''\n",
    "Input features (metadata features)\n",
    "'''\n",
    "X_train_meta = data_train[meta_features].fillna('None').astype('str')\n",
    "\n",
    "# one hot encoding\n",
    "ohe = OneHotEncoder(handle_unknown='ignore')\n",
    "X_train_meta = ohe.fit_transform(X_train_meta).toarray()\n",
    "\n",
    "X_train = np.hstack((X_train.values, X_train_meta))\n",
    "\n",
    "del X_train_meta\n",
    "\n",
    "\n",
    "'''\n",
    "Training\n",
    "'''\n",
    "# optimized model\n",
    "model = getattr(model_utilities, f\"model_{model_name}\")\n",
    "results = model(X_train,\n",
    "                data_train.nht.values,\n",
    "               X_test=X_train) # we will not use these predictions, just passed to avoid argument error\n",
    "\n",
    "'''\n",
    "save RF model trained on data from 2003NH to 2020SH\n",
    "'''\n",
    "joblib.dump(results['model'], trained_model_fn)"
   ]
  },
  {
   "cell_type": "code",
   "execution_count": null,
   "id": "05547758",
   "metadata": {},
   "outputs": [],
   "source": []
  }
 ],
 "metadata": {
  "kernelspec": {
   "display_name": "Python [conda env:seasonal_ag_pred]",
   "language": "python",
   "name": "conda-env-seasonal_ag_pred-py"
  },
  "language_info": {
   "codemirror_mode": {
    "name": "ipython",
    "version": 3
   },
   "file_extension": ".py",
   "mimetype": "text/x-python",
   "name": "python",
   "nbconvert_exporter": "python",
   "pygments_lexer": "ipython3",
   "version": "3.8.12"
  }
 },
 "nbformat": 4,
 "nbformat_minor": 5
}
