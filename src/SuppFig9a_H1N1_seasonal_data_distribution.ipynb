{
 "cells": [
  {
   "cell_type": "markdown",
   "id": "ad641a2c",
   "metadata": {},
   "source": [
    "# Data distribution over multiple influenza seasons\n",
    "Analyze the distribution (the number of samples) of (former) IAV H1N1 data for each influenza season, under the seasonal framework as shown in Fig. 1a"
   ]
  },
  {
   "cell_type": "markdown",
   "id": "da0c2528",
   "metadata": {},
   "source": [
    "## Imports"
   ]
  },
  {
   "cell_type": "code",
   "execution_count": 1,
   "id": "3e20d933",
   "metadata": {},
   "outputs": [],
   "source": [
    "import os\n",
    "import pandas as pd\n",
    "\n",
    "# self defined functions\n",
    "import utilities"
   ]
  },
  {
   "cell_type": "markdown",
   "id": "9bd7c3d7",
   "metadata": {},
   "source": [
    "## Variables"
   ]
  },
  {
   "cell_type": "code",
   "execution_count": 2,
   "id": "592dcd7d",
   "metadata": {},
   "outputs": [],
   "source": [
    "Seasons = [str(year)+s for year in range (2000, 2010) for s in [\"NH\", \"SH\"]] # all the seasons"
   ]
  },
  {
   "cell_type": "markdown",
   "id": "b50fd1ba",
   "metadata": {},
   "source": [
    "## Paths and filenames"
   ]
  },
  {
   "cell_type": "code",
   "execution_count": 3,
   "id": "5d083755",
   "metadata": {},
   "outputs": [],
   "source": [
    "# paths\n",
    "path_data   = \"../data/\"   # path of data\n",
    "path_result = \"../results/SuppFig9_H1N1/\"   # results will be saved in this directory\n",
    "\n",
    "# filenames\n",
    "data_fn    = path_data + \"H1N1_NHTs_GIAG010101.csv\"   # input data\n",
    "results_fn = path_result + \"SuppFig9a_H1N1_seasonal_data_distribution.csv\"   # filename for data distribution\n",
    "fig_fn     = path_result + \"SuppFig9a_H1N1_seasonal_data_distribution.svg\"   # filename for figure"
   ]
  },
  {
   "cell_type": "markdown",
   "id": "65e8c9f9",
   "metadata": {},
   "source": [
    "## Read dataset"
   ]
  },
  {
   "cell_type": "code",
   "execution_count": 4,
   "id": "fc84bac0",
   "metadata": {},
   "outputs": [],
   "source": [
    "data = pd.read_csv(data_fn)"
   ]
  },
  {
   "cell_type": "markdown",
   "id": "dbf648a8",
   "metadata": {},
   "source": [
    "## Find no. of samples in train and test datasets for each season"
   ]
  },
  {
   "cell_type": "code",
   "execution_count": 5,
   "id": "d60a1529",
   "metadata": {},
   "outputs": [
    {
     "name": "stdout",
     "output_type": "stream",
     "text": [
      "Season:  2000NH\n",
      "Season:  2000SH\n",
      "Season:  2001NH\n",
      "Season:  2001SH\n",
      "Season:  2002NH\n",
      "Season:  2002SH\n",
      "Season:  2003NH\n",
      "Season:  2003SH\n",
      "Season:  2004NH\n",
      "Season:  2004SH\n",
      "Season:  2005NH\n",
      "Season:  2005SH\n",
      "Season:  2006NH\n",
      "Season:  2006SH\n",
      "Season:  2007NH\n",
      "Season:  2007SH\n",
      "Season:  2008NH\n",
      "Season:  2008SH\n",
      "Season:  2009NH\n",
      "Season:  2009SH\n"
     ]
    }
   ],
   "source": [
    "# to save nhts\n",
    "nhts_dict = {}\n",
    "\n",
    "# loop through each season\n",
    "for season in Seasons:\n",
    "    print(\"Season: \", season)\n",
    "    \n",
    "\n",
    "    '''\n",
    "    Train Test Split\n",
    "        based on seasonal framework\n",
    "        Train: past isolates paired with past sera\n",
    "        Test: circulating isolates paired with past sera\n",
    "    '''\n",
    "    ind_train, ind_test = utilities.seasonal_trainTestSplit(data[['virusDate', 'serumDate']], season)\n",
    "    \n",
    "    # training dataset\n",
    "    data_train = data.iloc[ind_train].copy()\n",
    "    data_train.reset_index(drop=True, inplace=True)\n",
    "    \n",
    "    # test dataset\n",
    "    data_test = data.iloc[ind_test].copy()\n",
    "    data_test.reset_index(drop=True, inplace=True)\n",
    "    \n",
    "    \n",
    "    '''\n",
    "    Number of data samples\n",
    "    '''\n",
    "    # compute and save data distribution for the training dataset\n",
    "    dist_cols    = ['season', 'dataset']   # information to be saved in CSV file\n",
    "    dist_col_val = [season, 'Train']\n",
    "    utilities.data_distribution(data_train.nht.values, results_fn, dist_cols, dist_col_val)\n",
    "\n",
    "    # compute and save data distribution for the test dataset\n",
    "    dist_col_val = [season, 'Test']\n",
    "    utilities.data_distribution(data_test.nht.values, results_fn, dist_cols, dist_col_val)"
   ]
  },
  {
   "cell_type": "markdown",
   "id": "189bea8e",
   "metadata": {},
   "source": [
    "## Imports and configuration for plots"
   ]
  },
  {
   "cell_type": "code",
   "execution_count": 6,
   "id": "875fa09b",
   "metadata": {},
   "outputs": [],
   "source": [
    "import pandas as pd\n",
    "import matplotlib.pyplot as plt\n",
    "import seaborn as sns\n",
    "\n",
    "\n",
    "sns.set_context(rc={\"axes.labelsize\":9,\n",
    "                    \"xtick.labelsize\":8,\n",
    "                    \"ytick.labelsize\":8,\n",
    "                    \"legend.fontsize\":8,\n",
    "                    \"legend.title_fontsize\":8,})"
   ]
  },
  {
   "cell_type": "markdown",
   "id": "9f9560a4",
   "metadata": {},
   "source": [
    "## Data distribution file\n"
   ]
  },
  {
   "cell_type": "code",
   "execution_count": 7,
   "id": "503dcb98",
   "metadata": {},
   "outputs": [],
   "source": [
    "data = pd.read_csv(results_fn)"
   ]
  },
  {
   "cell_type": "markdown",
   "id": "bf7695a7",
   "metadata": {},
   "source": [
    "## Plot no. of virus-antiserum pairs per season for train and test datasets and save figure"
   ]
  },
  {
   "cell_type": "code",
   "execution_count": 8,
   "id": "7d24e248",
   "metadata": {},
   "outputs": [
    {
     "data": {
      "image/png": "[encoded data removed]",
      "text/plain": [
       "<Figure size 650x400 with 2 Axes>"
      ]
     },
     "metadata": {},
     "output_type": "display_data"
    }
   ],
   "source": [
    "fig, axes = plt.subplots(2, 1, sharex=True, figsize=(6.5,4))\n",
    "\n",
    "# plot total no. of virus-antiserum pairs per season for train dataset\n",
    "sns.barplot(x='season', y='total', data=data[data.dataset == 'Train'],\n",
    "            ax=axes[0], color='#9DC3E6')\n",
    "\n",
    "# plot total no. of virus-antiserum pairs per season for test dataset\n",
    "sns.barplot(x='season', y='total', data=data[data.dataset == 'Test'],\n",
    "            ax=axes[1], color='#C9C9C9')\n",
    "\n",
    "# utils_plot.annotate_bars(plot.axes, fs=8, rot=90, decimal=0, gap=10)\n",
    "\n",
    "# configurations for figure\n",
    "axes[0].set_axisbelow(True)\n",
    "axes[1].set_axisbelow(True)\n",
    "axes[0].grid(axis='y', zorder=0)\n",
    "axes[1].grid(axis='y', zorder=0)\n",
    "axes[1].set_xticklabels(axes[1].get_xticklabels(),rotation=35)\n",
    "axes[0].set_title(\"Train\", fontsize=9, pad=-2)\n",
    "axes[1].set_title(\"Test\", fontsize=9, pad=-5)\n",
    "axes[0].set_xlabel(\"\")\n",
    "axes[1].set_xlabel(\"\")\n",
    "axes[0].set_ylabel(\"\")\n",
    "axes[1].set_ylabel(\"\")\n",
    "fig.supylabel(\"No. of virus-antiserum pairs\", fontsize=9)\n",
    "\n",
    "sns.despine(trim=True, bottom=True)\n",
    "\n",
    "# save figure\n",
    "fig.savefig(fig_fn, format='svg', bbox_inches='tight')"
   ]
  },
  {
   "cell_type": "code",
   "execution_count": null,
   "id": "54fc6458",
   "metadata": {},
   "outputs": [],
   "source": []
  }
 ],
 "metadata": {
  "kernelspec": {
   "display_name": "Python [conda env:seasonal_ag_pred_tf]",
   "language": "python",
   "name": "conda-env-seasonal_ag_pred_tf-py"
  },
  "language_info": {
   "codemirror_mode": {
    "name": "ipython",
    "version": 3
   },
   "file_extension": ".py",
   "mimetype": "text/x-python",
   "name": "python",
   "nbconvert_exporter": "python",
   "pygments_lexer": "ipython3",
   "version": "3.8.12"
  }
 },
 "nbformat": 4,
 "nbformat_minor": 5
}
