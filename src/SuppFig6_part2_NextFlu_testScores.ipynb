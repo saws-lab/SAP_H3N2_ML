{
 "cells": [
  {
   "cell_type": "markdown",
   "id": "f5e1c642",
   "metadata": {},
   "source": [
    "# Evaluate the NextFlu substitution model\n",
    "We will evaluate the performance of the adapted NextFlu substitution model over 14 test seasons from 2014NH to 2020SH."
   ]
  },
  {
   "cell_type": "markdown",
   "id": "a9f98a0b",
   "metadata": {},
   "source": [
    "## Imports"
   ]
  },
  {
   "cell_type": "code",
   "execution_count": 1,
   "id": "afe3be41",
   "metadata": {},
   "outputs": [],
   "source": [
    "from pathlib import Path\n",
    "import pandas as pd\n",
    "import numpy as np\n",
    "import random\n",
    "import utilities   # self defined functions\n",
    "from NextFlu_substitutionModel import nextflu_train, nextflu_predict\n",
    "\n",
    "# for reproduciblility, fix the randomly generated numbers\n",
    "SEED = 100\n",
    "random.seed(SEED)\n",
    "np.random.seed(SEED)"
   ]
  },
  {
   "cell_type": "markdown",
   "id": "97fd1c5c",
   "metadata": {},
   "source": [
    "## Variables"
   ]
  },
  {
   "cell_type": "code",
   "execution_count": null,
   "id": "674438a5",
   "metadata": {},
   "outputs": [],
   "source": [
    "mut_mat      = 'binary'   # mutation matrix\n",
    "Test_Seasons = [str(year)+s for year in range (2014, 2021) for s in [\"NH\", \"SH\"]]   # seasons from 2014NH to 2020SH\n",
    "metadata     = 'a+p'   # label to record which metadata is being used\n",
    "model_name   = 'NextFlu'   # the type of model to be used"
   ]
  },
  {
   "cell_type": "markdown",
   "id": "2960c3ec",
   "metadata": {},
   "source": [
    "## Paths and filenames"
   ]
  },
  {
   "cell_type": "code",
   "execution_count": 2,
   "id": "ce274750",
   "metadata": {},
   "outputs": [],
   "source": [
    "# paths\n",
    "path_data   = \"../data/\"   # path of data\n",
    "path_result = \"../results/SuppFig6_comparison/\"   # results will be saved in this directory\n",
    "Path(path_result).mkdir(parents=True, exist_ok=True)   # make directory if it does not exist already\n",
    "\n",
    "# filenames\n",
    "data_fn   = path_data + \"nhts_ha1_binary.csv\"   # input data\n",
    "test_fn   = path_result + \"testScores.csv\"   # to save performance scores for test dataset\n",
    "output_fn = path_result + \"output_test_NextFlu.csv\"   # to save virus-antiserum info., actual and predicted NHTs"
   ]
  },
  {
   "cell_type": "markdown",
   "id": "3c60e222",
   "metadata": {},
   "source": [
    "## Read data\n",
    "- Binary encoded genetic difference (seq_diff) (not used in NextFlu substitution model)"
   ]
  },
  {
   "cell_type": "code",
   "execution_count": null,
   "id": "00bf7cd2",
   "metadata": {},
   "outputs": [],
   "source": [
    "data = pd.read_csv(data_fn)"
   ]
  },
  {
   "cell_type": "markdown",
   "id": "04a6c068",
   "metadata": {},
   "source": [
    "## Performance of the model\n",
    "- For each test season from 2014NH to 2020SH\n",
    "    - Split the data into training and test datasets\n",
    "    - Train and evaluate the model\n",
    "    - Compute predictive performance\n",
    "    - Save the predictions\n",
    "- Compute average predictive performance"
   ]
  },
  {
   "cell_type": "code",
   "execution_count": null,
   "id": "76e378ac",
   "metadata": {},
   "outputs": [],
   "source": [
    "# to collect actuals and predictions for micro-averaged scores over all test seasons\n",
    "actual_all  = {}\n",
    "predict_all = {}\n",
    "output      = pd.DataFrame()\n",
    "\n",
    "# loop through test seasons\n",
    "for test_season in Test_Seasons:\n",
    "    print(\"Test Season: \", test_season)\n",
    "\n",
    "    '''\n",
    "    Train Test Split\n",
    "        - based on seasonal framework\n",
    "        - Train: past virus isolates paired with past sera\n",
    "        - Test: circulating virus isolates paired with past sera\n",
    "    '''\n",
    "    ind_train, ind_test = utilities.seasonal_trainTestSplit(data[['virus', 'serum', 'virusDate', 'serumDate']], test_season)\n",
    "    \n",
    "    # training dataset\n",
    "    data_train = data.iloc[ind_train].copy()\n",
    "    data_train.reset_index(drop=True, inplace=True)\n",
    "    \n",
    "    # test dataset\n",
    "    data_test = data.iloc[ind_test].copy()\n",
    "    data_test.reset_index(drop=True, inplace=True)\n",
    "\n",
    "    \n",
    "    '''\n",
    "    Training and evaluation\n",
    "    '''\n",
    "    mutation_effects, serum_potency, virus_effect = nextflu_train(data_train.copy(),\n",
    "                                                                  lam_HI=1,\n",
    "                                                                  lam_pot=0.2,\n",
    "                                                                  lam_avi=2)\n",
    "    \n",
    "    pred_nextflu = nextflu_predict(data_test.copy(), mutation_effects, serum_potency, virus_effect)\n",
    "    \n",
    "   \n",
    "    '''\n",
    "    Test Scores\n",
    "    '''\n",
    "    cols       = ['mut_mat', 'model', 'metadata', 'season']\n",
    "    col_values = [mut_mat, model_name, metadata, test_season]\n",
    "    utilities.compute_scores(data_test.nht.values, pred_nextflu, test_fn, col=cols, col_val=col_values)\n",
    "    \n",
    "    \n",
    "    '''\n",
    "    Save actuals and predictions\n",
    "    '''\n",
    "    actual_all[f'{test_season}']  = data_test.nht.values\n",
    "    predict_all[f'{test_season}'] = pred_nextflu\n",
    "    \n",
    "    \n",
    "    '''\n",
    "    Save data info. and output\n",
    "    '''\n",
    "    output_tmp = data_test[[\"virus\", \"virusPassCat\", \"virusDate\",\n",
    "                            \"serum\", \"serumPassCat\", \"serumDate\",\n",
    "                            \"nht\"]].copy()\n",
    "    output_tmp.loc[:, \"predict\"]      = pred_nextflu\n",
    "    output_tmp.loc[:, \"variant\"]      = data_test[\"variant\"].values\n",
    "    output_tmp.loc[:, \"pred_variant\"] = (pred_nextflu > 2) * 1\n",
    "    output_tmp.loc[:, \"season\"]       = test_season\n",
    "    \n",
    "    output = pd.concat((output, output_tmp), ignore_index=True)\n",
    "    \n",
    "    #################\n",
    "    # End season loop\n",
    "    #################\n",
    "\n",
    "\n",
    "'''\n",
    "Micro-average over seasons\n",
    "'''\n",
    "actual  = np.concatenate(list(actual_all.values()))\n",
    "predict = np.concatenate(list(predict_all.values()))\n",
    "\n",
    "# Test scores\n",
    "cols       = ['mut_mat', 'model', 'metadata', 'season']\n",
    "col_values = [mut_mat, model_name, metadata, 'Average']\n",
    "utilities.compute_scores(actual, predict, test_fn, col=cols, col_val=col_values)\n",
    "\n",
    "\n",
    "'''\n",
    "Save output\n",
    "'''\n",
    "output.to_csv(output_fn, index=False)\n",
    "\n",
    "\n",
    "print(\"Training and testing completed\")"
   ]
  }
 ],
 "metadata": {
  "kernelspec": {
   "display_name": "Python [conda env:seasonal_ag_pred]",
   "language": "python",
   "name": "conda-env-seasonal_ag_pred-py"
  },
  "language_info": {
   "codemirror_mode": {
    "name": "ipython",
    "version": 3
   },
   "file_extension": ".py",
   "mimetype": "text/x-python",
   "name": "python",
   "nbconvert_exporter": "python",
   "pygments_lexer": "ipython3",
   "version": "3.8.12"
  }
 },
 "nbformat": 4,
 "nbformat_minor": 5
}
