{
 "cells": [
  {
   "cell_type": "markdown",
   "id": "7db15031",
   "metadata": {},
   "source": [
    "# Optimize metadata features\n",
    "We will analyze the effect of metadata features on the MAE performance of the baseline model. We will use the baseline model (AdaBoost with default/unopitimized hyper-parameters) and binary encoded genetic difference. The selection of features will be based on the performance of model over four validation seasons from 2012NH to 2013SH."
   ]
  },
  {
   "cell_type": "markdown",
   "id": "96e3004b",
   "metadata": {},
   "source": [
    "## Imports"
   ]
  },
  {
   "cell_type": "code",
   "execution_count": 2,
   "id": "c54e20f3",
   "metadata": {},
   "outputs": [],
   "source": [
    "from pathlib import Path\n",
    "import pandas as pd\n",
    "import numpy as np\n",
    "import random\n",
    "from ast import literal_eval\n",
    "\n",
    "# self defined functions and models\n",
    "import utilities\n",
    "import model_utilities\n",
    "\n",
    "# for encoding of metadata information\n",
    "from sklearn.preprocessing import OneHotEncoder\n",
    "\n",
    "# for parallel computation\n",
    "from functools import partial\n",
    "from joblib import Parallel, delayed\n",
    "\n",
    "# for reproduciblility, fix the randomly generated numbers\n",
    "SEED = 100\n",
    "random.seed(SEED)\n",
    "np.random.seed(SEED)"
   ]
  },
  {
   "cell_type": "markdown",
   "id": "9d04915d",
   "metadata": {},
   "source": [
    "## Variables"
   ]
  },
  {
   "cell_type": "code",
   "execution_count": 3,
   "id": "c5bef616",
   "metadata": {},
   "outputs": [],
   "source": [
    "mut_mat       = \"binary\"   # mutation matrix\n",
    "Valid_Seasons = ['2012NH', '2012SH', '2013NH', '2013SH'] # seasons from 2012NH to 2013SH\n",
    "\n",
    "HA1_features  = [f\"HA1_{x}\" for x in range(1,329+1)]\n",
    "meta_features = [\n",
    "                 #'virus',   # virus avidity\n",
    "                 #'serum',   # antiserum potency\n",
    "                 #'virusPassCat',\n",
    "                 #'serumPassCat'\n",
    "                 ]   # metadata features\n",
    "\n",
    "metadata   = 'no metadata'   # label to record which metadata is being used\n",
    "model_name = 'baseline'   # the type of model to be used"
   ]
  },
  {
   "cell_type": "markdown",
   "id": "c3cd6b0e",
   "metadata": {},
   "source": [
    "## Paths and filenames"
   ]
  },
  {
   "cell_type": "code",
   "execution_count": 4,
   "id": "0f475e77",
   "metadata": {},
   "outputs": [],
   "source": [
    "# paths\n",
    "path_data   = \"../data/\"   # path of data\n",
    "path_result = \"../results/SuppFig3_optimization/\"   # results will be saved in this directory\n",
    "Path(path_result).mkdir(parents=True, exist_ok=True)   # make directory if it does not exist already\n",
    "\n",
    "# filenames\n",
    "data_fn    = path_data + f\"nhts_ha1_{mut_mat}.csv\"   # input data\n",
    "results_fn = path_result + \"SuppFig3a_optimize_metadata_validScores.csv\"   # to save performance scores for validation dataset"
   ]
  },
  {
   "cell_type": "markdown",
   "id": "40975b3f",
   "metadata": {},
   "source": [
    "## Read data\n",
    "- Genetic difference (seq_diff) encoded as per the mutation matrix\n",
    "- Converter is used to load the genetic difference saved as a list of floats"
   ]
  },
  {
   "cell_type": "code",
   "execution_count": null,
   "id": "b71ed52f",
   "metadata": {},
   "outputs": [],
   "source": [
    "data = pd.read_csv(data_fn, converters={\"seq_diff\": literal_eval})"
   ]
  },
  {
   "cell_type": "markdown",
   "id": "98fedf6d",
   "metadata": {},
   "source": [
    "## Function to compute performance of model for a given season\n",
    "- Split the data into training and validation datasets\n",
    "- Prepare encoded inputs (genetic difference and metadata features)\n",
    "- Train and validate the model\n",
    "- Compute predictive performance\n",
    "\n",
    "> **Parameters**\n",
    "> - season (str): identifier for the Northern of Southern Hemisphere season such as \"2015NH\"\n",
    "\n",
    "> **Returns**\n",
    "> - (numpy array): actual NHTs for the given season\n",
    "> - (numpy array): predicted NHTs for the given season"
   ]
  },
  {
   "cell_type": "code",
   "execution_count": null,
   "id": "e0404a0e",
   "metadata": {},
   "outputs": [],
   "source": [
    "def train_test_season(season):\n",
    "    '''\n",
    "    Train Test Split\n",
    "        - based on seasonal framework\n",
    "        - Train: past virus isolates paired with past sera\n",
    "        - Test: circulating virus isolates paired with past sera\n",
    "    '''\n",
    "    ind_train, ind_test = utilities.seasonal_trainTestSplit(data[['virus', 'serum', 'virusDate', 'serumDate']], season)\n",
    "    \n",
    "    # training dataset\n",
    "    data_train = data.iloc[ind_train].copy()\n",
    "    data_train.reset_index(drop=True, inplace=True)\n",
    "    \n",
    "    # test dataset\n",
    "    data_test = data.iloc[ind_test].copy()\n",
    "    data_test.reset_index(drop=True, inplace=True)\n",
    "\n",
    "\n",
    "    '''\n",
    "    Input features (genetic difference)\n",
    "    '''\n",
    "    # training dataset\n",
    "    X_train = pd.DataFrame(data_train.seq_diff.to_list(),\n",
    "                           index=data_train.index,\n",
    "                           columns=HA1_features)\n",
    "    X_train.fillna(0, inplace=True)   # replace nan with 0\n",
    "    \n",
    "    # test dataset\n",
    "    X_test = pd.DataFrame(data_test.seq_diff.to_list(),\n",
    "                          index=data_test.index,\n",
    "                          columns=HA1_features)\n",
    "    X_test.fillna(0, inplace=True)   # replace nan with 0\n",
    "    \n",
    "    \n",
    "    '''\n",
    "    Input features (metadata features)\n",
    "    '''\n",
    "    X_train_meta = data_train[meta_features].fillna('None').astype('str')\n",
    "    X_test_meta  = data_test[meta_features].fillna('None').astype('str')\n",
    "    \n",
    "    \n",
    "    # one hot encoding\n",
    "    ohe = OneHotEncoder(handle_unknown='ignore')\n",
    "    X_train_meta = ohe.fit_transform(X_train_meta).toarray()\n",
    "    X_test_meta  = ohe.transform(X_test_meta).toarray()\n",
    "      \n",
    "    X_train = np.hstack((X_train.values, X_train_meta))\n",
    "    X_test  = np.hstack((X_test.values, X_test_meta))\n",
    "\n",
    "\n",
    "    del X_train_meta, X_test_meta\n",
    "        \n",
    "    \n",
    "    '''\n",
    "    Training and testing\n",
    "    '''\n",
    "    # baseline model\n",
    "    model = getattr(model_utilities, f\"model_{model_name}\")\n",
    "    results = model(X_train,\n",
    "                    data_train.nht.values,\n",
    "                    X_test = X_test)\n",
    "    \n",
    "    \n",
    "    '''\n",
    "    Test Scores\n",
    "    '''\n",
    "    cols       = ['mut_mat', 'model', 'metadata', 'season']\n",
    "    col_values = [mut_mat, model_name, metadata, season]\n",
    "    utilities.compute_scores(data_test.nht.values, results['pred_test'], results_fn, col=cols, col_val=col_values)\n",
    "    \n",
    "    return season, data_test.nht.values, results['pred_test']"
   ]
  },
  {
   "cell_type": "markdown",
   "id": "46e52084",
   "metadata": {},
   "source": [
    "## Performance of the model over validation seasons\n",
    "- For each validation season from 2012NH to 2013SH\n",
    "    - Split the data into training and validation datasets\n",
    "    - Prepare encoded inputs (genetic difference and metadata features)\n",
    "    - Train and validate the model\n",
    "    - Compute predictive performance\n",
    "    - Save the predictions\n",
    "- Compute average predictive performance"
   ]
  },
  {
   "cell_type": "code",
   "execution_count": null,
   "id": "3b6ccd66",
   "metadata": {},
   "outputs": [],
   "source": [
    "# train test for each validation season in parallel\n",
    "result = Parallel(n_jobs=-1, verbose=1)(delayed(train_test_season)(valid_season) for valid_season in Valid_Seasons)\n",
    "\n",
    "# get results\n",
    "seasons, actual_valid_all, predict_valid_all = zip(*result)\n",
    "\n",
    "'''\n",
    "Micro-average over seasons\n",
    "'''\n",
    "actual_valid  = np.concatenate(actual_valid_all)\n",
    "predict_valid = np.concatenate(predict_valid_all)\n",
    "\n",
    "# Validation scores\n",
    "cols       = ['mut_mat', 'model', 'metadata', 'season']\n",
    "col_values = [mut_mat, model_name, metadata, 'Average']\n",
    "utilities.compute_scores(actual_valid, predict_valid, results_fn, col=cols, col_val=col_values)\n",
    "\n",
    "print(\"Training and testing completed\")"
   ]
  },
  {
   "cell_type": "markdown",
   "id": "fa1a9987",
   "metadata": {},
   "source": [
    "## Repeat for different metadata features\n",
    "Repeat the code cells first under heading \"Variables\" and then \"Performance of the model\" for following values of the variables \"meta_features\", and \"metadata\":\n",
    "- **meta_features**=['virus'], **metadata**=\"virus avidity (a)\"\n",
    "- **meta_features**=['serum'], **metadata**=\"antiserum potency (p)\"\n",
    "- **meta_features**=['virusPassCat'], **metadata**=\"virus passage category (vPC)\"\n",
    "- **meta_features**=['serumPassCat'], **metadata**=\"antiserum PC (sPC)\"\n",
    "- **meta_features**=['virus', 'serum'], **metadata**=\"a+p\"\n",
    "- **meta_features**=['virusPassCat', 'serumPassCat'], **metadata**=\"vPC+sPC\"\n",
    "- **meta_features**=['virus', ''virusPassCat], **metadata**=\"a+vPC\"\n",
    "- **meta_features**=['serum', ''serumPassCat], **metadata**=\"p+sPC\"\n",
    "- **meta_features**=['virus', 'serum', 'virusPassCat', 'serumPassCat'], **metadata**=\"a+p+vPC+sPC\""
   ]
  }
 ],
 "metadata": {
  "kernelspec": {
   "display_name": "Python [conda env:seasonal_ag_pred_tf]",
   "language": "python",
   "name": "conda-env-seasonal_ag_pred_tf-py"
  },
  "language_info": {
   "codemirror_mode": {
    "name": "ipython",
    "version": 3
   },
   "file_extension": ".py",
   "mimetype": "text/x-python",
   "name": "python",
   "nbconvert_exporter": "python",
   "pygments_lexer": "ipython3",
   "version": "3.8.12"
  }
 },
 "nbformat": 4,
 "nbformat_minor": 5
}
