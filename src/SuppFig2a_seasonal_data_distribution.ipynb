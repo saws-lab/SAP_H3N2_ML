{
 "cells": [
  {
   "attachments": {
    "Fig1_Framework_RFmodel.png": {
     "image/png": "[encoded data removed]"
    }
   },
   "cell_type": "markdown",
   "id": "15de1937",
   "metadata": {},
   "source": [
    "# Data distribution over multiple influenza seasons\n",
    "We will analyze the distribution (the number of samples) of data for each of the 37 influenza seasons from 2003NH to 2021NH, under the seasonal framework (Fig1a in the paper and also shown below).\n",
    "\n",
    "![Fig1_Framework_RFmodel.png](attachment:Fig1_Framework_RFmodel.png)"
   ]
  },
  {
   "cell_type": "markdown",
   "id": "f5280166",
   "metadata": {},
   "source": [
    "## Imports"
   ]
  },
  {
   "cell_type": "code",
   "execution_count": 1,
   "id": "28ca5752",
   "metadata": {},
   "outputs": [],
   "source": [
    "from pathlib import Path\n",
    "import pandas as pd\n",
    "import utilities   # self defined functions"
   ]
  },
  {
   "cell_type": "markdown",
   "id": "5e3468a9",
   "metadata": {},
   "source": [
    "## Variables"
   ]
  },
  {
   "cell_type": "code",
   "execution_count": 2,
   "id": "de0fd891",
   "metadata": {},
   "outputs": [],
   "source": [
    "mut_mat = \"binary\"   # mutation matrix (HA1 sequences will not be used in this notebook)\n",
    "Seasons = [str(year)+s for year in range (2003, 2021) for s in [\"NH\", \"SH\"]] + [\"2021NH\"] # all the seasons"
   ]
  },
  {
   "cell_type": "markdown",
   "id": "e8124493",
   "metadata": {},
   "source": [
    "## Paths and filenames"
   ]
  },
  {
   "cell_type": "code",
   "execution_count": 3,
   "id": "6f91fa78",
   "metadata": {},
   "outputs": [],
   "source": [
    "# paths\n",
    "path_data   = \"../data/\"   # path of data\n",
    "path_result = \"../results/SuppFig2_dataDistribution_performanceBaseline/\"   # results will be saved in this directory\n",
    "Path(path_result).mkdir(parents=True, exist_ok=True)   # make directory if it does not exist already\n",
    "\n",
    "# filenames\n",
    "data_fn = path_data + f\"nhts_ha1_{mut_mat}.csv\"   # input data\n",
    "dist_fn = path_result + \"SuppFig2a_seasonal_data_distribution.csv\"   # filename for data distribution\n",
    "fig_fn  = path_result + \"SuppFig2a_seasonal_data_distribution.svg\"   # filename for figure"
   ]
  },
  {
   "cell_type": "markdown",
   "id": "8583c891",
   "metadata": {},
   "source": [
    "## Read data\n",
    "The CSV file consists of:\n",
    "- 36,709 virus-antiserum pairs (data samples)\n",
    "- 23 columns\n",
    "    1. virus - str - name and passage combined with str \"=\", example: A/SLOVENIA/466/2013=MDCKX/SIAT1\n",
    "    2. virusName - str - example: A/SLOVENIA/466/2013\n",
    "    3. virusPassage - str - example: MDCKX/SIAT1\n",
    "    4. virusPassCat - str - example: CELL\n",
    "    5. virusDate - str - example: 2013-01-30\n",
    "    6. virusGroup - str - example: 3C.3\n",
    "    7. serum - str - name and passage combined with str \"=\"\n",
    "    8. serumName - str\n",
    "    9. serumPassage - str\n",
    "    10. serumPassCat - str\n",
    "    11. serumDate - str\n",
    "    12. serumGroup - str\n",
    "    13. nht - float\n",
    "    14. variant - int - binary indicator, virus-antiserum pair are antigenic variant (1) or similar (0)\n",
    "    15. virusSeqDB - str - name of genetic database for virus sequence\n",
    "    16. virusSeqID - str - accession number of virus sequence\n",
    "    17. virusMatchedPass - str - virus passage from genetic database\n",
    "    18. virusSeq - list of str - HA1 sequence of virus\n",
    "    19. serumSeqDB - str - name of genetic database for serum sequence\n",
    "    20. serumSeqID - str - accession number of serum sequence\n",
    "    21. serumMatchedPass - str - serum passage from genetic database\n",
    "    22. serumSeq - list of str - HA1 sequence of serum\n",
    "    23. seq_diff - list of float - encoded genetic difference of virus-antiserum pair"
   ]
  },
  {
   "cell_type": "code",
   "execution_count": null,
   "id": "1c579482",
   "metadata": {},
   "outputs": [],
   "source": [
    "data = pd.read_csv(data_fn)"
   ]
  },
  {
   "cell_type": "markdown",
   "id": "c7eeef84",
   "metadata": {},
   "source": [
    "## Find number of data samples in training and (temporary) test datasets for each season"
   ]
  },
  {
   "cell_type": "code",
   "execution_count": null,
   "id": "cbd5018b",
   "metadata": {},
   "outputs": [],
   "source": [
    "# loop through each season\n",
    "for season in Seasons:\n",
    "    '''\n",
    "    Train Test Split\n",
    "        - based on seasonal framework\n",
    "        - Train: past virus isolates paired with past sera\n",
    "        - Test: circulating virus isolates paired with past sera\n",
    "    '''\n",
    "    ind_train, ind_test = utilities.seasonal_trainTestSplit(data[['virus', 'serum', 'virusDate', 'serumDate']], season)\n",
    "    \n",
    "    # training dataset\n",
    "    data_train = data.iloc[ind_train].copy()\n",
    "    data_train.reset_index(drop=True, inplace=True)\n",
    "    \n",
    "    # test dataset\n",
    "    data_test = data.iloc[ind_test].copy()\n",
    "    data_test.reset_index(drop=True, inplace=True)\n",
    "    \n",
    "    \n",
    "    '''\n",
    "    Number of data samples\n",
    "    '''\n",
    "    # compute and save data distribution for the training dataset\n",
    "    dist_cols    = ['season', 'dataset']   # information to be saved in CSV file\n",
    "    dist_col_val = [season, 'Train']\n",
    "    utilities.data_distribution(data_train.nht.values, dist_fn, dist_cols, dist_col_val)\n",
    "\n",
    "    # compute and save data distribution for the test dataset\n",
    "    dist_col_val = [season, 'Test']\n",
    "    utilities.data_distribution(data_test.nht.values, dist_fn, dist_cols, dist_col_val)"
   ]
  },
  {
   "cell_type": "markdown",
   "id": "15a15876",
   "metadata": {},
   "source": [
    "## Imports and configuration for plotting"
   ]
  },
  {
   "cell_type": "code",
   "execution_count": 4,
   "id": "0a8672bd",
   "metadata": {},
   "outputs": [],
   "source": [
    "import matplotlib.pyplot as plt\n",
    "import seaborn as sns\n",
    "%matplotlib inline\n",
    "\n",
    "sns.set_context(rc={\"axes.labelsize\":9,\n",
    "                    \"xtick.labelsize\":8,\n",
    "                    \"ytick.labelsize\":8,\n",
    "                    \"legend.fontsize\":8,\n",
    "                    \"legend.title_fontsize\":8})"
   ]
  },
  {
   "cell_type": "markdown",
   "id": "b6111770",
   "metadata": {},
   "source": [
    "## Read data distribution"
   ]
  },
  {
   "cell_type": "code",
   "execution_count": 5,
   "id": "0515665e",
   "metadata": {},
   "outputs": [],
   "source": [
    "data_plot = pd.read_csv(dist_fn)"
   ]
  },
  {
   "cell_type": "markdown",
   "id": "0fa10a52",
   "metadata": {},
   "source": [
    "## Plot no. of virus-antiserum pairs per season for train and test datasets and save figure"
   ]
  },
  {
   "cell_type": "code",
   "execution_count": 6,
   "id": "2297f98c",
   "metadata": {},
   "outputs": [
    {
     "data": {
      "image/png": "[encoded data removed]",
      "text/plain": [
       "<Figure size 650x400 with 2 Axes>"
      ]
     },
     "metadata": {},
     "output_type": "display_data"
    }
   ],
   "source": [
    "# two subfigures\n",
    "fig, axes = plt.subplots(2, 1, sharex=True, figsize=(6.5,4))\n",
    "\n",
    "# plot total no. of virus-antiserum pairs per season for train dataset\n",
    "sns.barplot(x='season', y='total', data=data_plot[data_plot.dataset == 'Train'],\n",
    "            ax=axes[0], color='#9DC3E6')\n",
    "\n",
    "# plot total no. of virus-antiserum pairs per season for test dataset\n",
    "sns.barplot(x='season', y='total', data=data_plot[data_plot.dataset == 'Test'],\n",
    "            ax=axes[1], color='#C9C9C9')\n",
    "\n",
    "# configurations for figure\n",
    "axes[0].set_axisbelow(True)\n",
    "axes[1].set_axisbelow(True)\n",
    "axes[0].grid(axis='y', zorder=0)\n",
    "axes[1].grid(axis='y', zorder=0)\n",
    "axes[0].set_yticks(range(0,35001,5000))\n",
    "axes[0].set_yticklabels(range(0,35001,5000))\n",
    "axes[1].set_xticklabels(axes[1].get_xticklabels(),rotation=90)\n",
    "axes[0].set_title(\"Train\", fontsize=9, pad=-2)\n",
    "axes[1].set_title(\"Test\", fontsize=9, pad=-5)\n",
    "axes[0].set_xlabel(\"\")\n",
    "axes[1].set_xlabel(\"\")\n",
    "axes[0].set_ylabel(\"\")\n",
    "axes[1].set_ylabel(\"\")\n",
    "fig.supylabel(\"No. of virus-antiserum pairs\", fontsize=9)\n",
    "\n",
    "sns.despine(trim=True, bottom=True)\n",
    "\n",
    "# save figure\n",
    "fig.savefig(fig_fn, format='svg', bbox_inches='tight')"
   ]
  },
  {
   "cell_type": "code",
   "execution_count": null,
   "id": "8eb604da",
   "metadata": {},
   "outputs": [],
   "source": []
  }
 ],
 "metadata": {
  "kernelspec": {
   "display_name": "Python (seasonal_ag_pred_tf)",
   "language": "python",
   "name": "seasonal_ag_pred_tf"
  },
  "language_info": {
   "codemirror_mode": {
    "name": "ipython",
    "version": 3
   },
   "file_extension": ".py",
   "mimetype": "text/x-python",
   "name": "python",
   "nbconvert_exporter": "python",
   "pygments_lexer": "ipython3",
   "version": "3.8.12"
  }
 },
 "nbformat": 4,
 "nbformat_minor": 5
}
