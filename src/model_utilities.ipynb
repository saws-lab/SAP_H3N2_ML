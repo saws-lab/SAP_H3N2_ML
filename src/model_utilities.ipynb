{
 "cells": [
  {
   "cell_type": "markdown",
   "id": "3ee069ea",
   "metadata": {},
   "source": [
    "# Model utilities\n",
    "It includes self defined functions for used models"
   ]
  },
  {
   "cell_type": "markdown",
   "id": "1eb02fb8",
   "metadata": {},
   "source": [
    "### Imports"
   ]
  },
  {
   "cell_type": "code",
   "execution_count": null,
   "id": "80d1480d",
   "metadata": {},
   "outputs": [],
   "source": [
    "import numpy as np\n",
    "from time import time\n",
    "from sklearn.ensemble import RandomForestRegressor\n",
    "\n",
    "# (for reproduciblility) fix the randomly generated numbers\n",
    "SEED = 100\n",
    "np.random.seed(SEED)"
   ]
  },
  {
   "cell_type": "markdown",
   "id": "1b6c5c13",
   "metadata": {},
   "source": [
    "## Baseline model\n",
    "RF with default hyper-parameters\n",
    "\n",
    "> **Parameters**\n",
    "> - X_train (numpy array): input features to train the model\n",
    "> - y_train (numpy array): output labels for supervised learning of the model\n",
    "> - X_test (numpy array): input features to test the model\n",
    "> - y_test: dummy, not used, default=None\n",
    "\n",
    "> **Returns**\n",
    "> - results (dict): dictionary including:\n",
    ">    - pred_train (numpy array): predictions for training dataset\n",
    ">    - pred_test (numpy array): predictions for test dataset\n",
    ">    - model (object): trained model"
   ]
  },
  {
   "cell_type": "code",
   "execution_count": null,
   "id": "531a55fe",
   "metadata": {},
   "outputs": [],
   "source": [
    "def model_baseline(X_train, y_train, X_test, y_test=None):\n",
    "    \n",
    "    '''\n",
    "    Model\n",
    "    '''\n",
    "    model = RandomForestRegressor(random_state = SEED, n_jobs = -1)\n",
    "    \n",
    "    '''\n",
    "    Training\n",
    "    '''\n",
    "    time_start = time()\n",
    "    model.fit(X_train, y_train)\n",
    "    time_end = time()\n",
    "    print(f\"Time for training: {time_end - time_start}\")\n",
    "    \n",
    "    '''\n",
    "    Testing\n",
    "    '''\n",
    "    results = {}\n",
    "    results['pred_train'] = model.predict(X_train)\n",
    "    results['pred_test']  = model.predict(X_test)\n",
    "    results['model']      = model\n",
    "    \n",
    "    return results"
   ]
  },
  {
   "cell_type": "markdown",
   "id": "c0333720",
   "metadata": {},
   "source": [
    "## Optimized RF model\n",
    "RF model with optimized hyper-parameters\n",
    "\n",
    "> **Parameters**\n",
    "> - X_train (numpy array): input features to train the model\n",
    "> - y_train (numpy array): output labels for supervised learning of the model\n",
    "> - X_test (numpy array): input features to test the model\n",
    "> - y_test: dummy, not used, default=None\n",
    "\n",
    "> **Returns**\n",
    "> - results (dict): dictionary including:\n",
    ">    - pred_train (numpy array): predictions for training dataset\n",
    ">    - pred_test (numpy array): predictions for test dataset\n",
    ">    - model (object): trained model"
   ]
  },
  {
   "cell_type": "code",
   "execution_count": null,
   "id": "8856c2bf",
   "metadata": {},
   "outputs": [],
   "source": [
    "def model_optimized_RF(X_train, y_train, X_test, y_test=None):\n",
    "    \n",
    "    '''\n",
    "    Model\n",
    "    '''\n",
    "    model = RandomForestRegressor(n_estimators = 125,\n",
    "                                  min_samples_split = 10,\n",
    "                                  min_samples_leaf = 1,\n",
    "                                  max_features = 0.375553860442328,\n",
    "                                  max_depth = 200,\n",
    "                                  bootstrap = True,\n",
    "                                  random_state = SEED,\n",
    "                                  n_jobs = -1)\n",
    "    \n",
    "    '''\n",
    "    Training\n",
    "    '''\n",
    "    time_start = time()\n",
    "    model.fit(X_train, y_train)\n",
    "    time_end = time()\n",
    "    print(f\"Time for training: {time_end - time_start}\")\n",
    "    \n",
    "    '''\n",
    "    Testing\n",
    "    '''\n",
    "    results = {}\n",
    "    results['pred_train'] = model.predict(X_train)\n",
    "    results['pred_test']  = model.predict(X_test)\n",
    "    results['model']      = model\n",
    "    \n",
    "    return results"
   ]
  }
 ],
 "metadata": {
  "kernelspec": {
   "display_name": "Python [conda env:seasonal_ag_pred]",
   "language": "python",
   "name": "conda-env-seasonal_ag_pred-py"
  },
  "language_info": {
   "codemirror_mode": {
    "name": "ipython",
    "version": 3
   },
   "file_extension": ".py",
   "mimetype": "text/x-python",
   "name": "python",
   "nbconvert_exporter": "python",
   "pygments_lexer": "ipython3",
   "version": "3.8.12"
  }
 },
 "nbformat": 4,
 "nbformat_minor": 5
}
