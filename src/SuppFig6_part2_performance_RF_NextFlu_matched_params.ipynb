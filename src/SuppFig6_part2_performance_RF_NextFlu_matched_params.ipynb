{
 "cells": [
  {
   "cell_type": "markdown",
   "id": "c370c635",
   "metadata": {},
   "source": [
    "# Evaluate RF (NextFlu-matched-params) model\n",
    "We will evaluate the RF (NextFlu-matched-params) model over 14 test seasons from 204NH to 2020SH. The model with be based on baseline model with unoptimized hyperparameters, binary encoded genetic difference, and included virus avidity and antiserum potency parameters similar to NextFlu substitution model."
   ]
  },
  {
   "cell_type": "markdown",
   "id": "7ac425dc",
   "metadata": {},
   "source": [
    "## Imports"
   ]
  },
  {
   "cell_type": "code",
   "execution_count": null,
   "id": "b26c0440",
   "metadata": {},
   "outputs": [],
   "source": [
    "from pathlib import Path\n",
    "import pandas as pd\n",
    "import numpy as np\n",
    "import utilities   # self defined functions\n",
    "import model_utilities   # self defined models\n",
    "from ast import literal_eval\n",
    "from sklearn.preprocessing import OneHotEncoder\n",
    "\n",
    "# (for reproduciblility) fix the randomly generated numbers\n",
    "SEED = 100\n",
    "np.random.seed(SEED)"
   ]
  },
  {
   "cell_type": "markdown",
   "id": "1c06ca5e",
   "metadata": {},
   "source": [
    "## Variables"
   ]
  },
  {
   "cell_type": "code",
   "execution_count": null,
   "id": "e85ba08b",
   "metadata": {},
   "outputs": [],
   "source": [
    "mut_mat       = \"binary\"   # mutation matrix\n",
    "Test_Seasons = [str(year)+s for year in range (2014, 2021) for s in [\"NH\", \"SH\"]]   # seasons from 2014NH to 2020SH\n",
    "\n",
    "HA1_features  = [f\"HA1_{x}\" for x in range(1,329+1)]\n",
    "meta_features = [\n",
    "                 'virus',   # virus avidity\n",
    "                 'serum',   # antiserum potency\n",
    "                 # 'virusPassCat',\n",
    "                 # 'serumPassCat'\n",
    "                 ]   # metadata features\n",
    "\n",
    "metadata   = 'a+p'   # label to record which metadata is being used\n",
    "model_name = 'baseline'   # the type of model to be used"
   ]
  },
  {
   "cell_type": "markdown",
   "id": "a8a1fab9",
   "metadata": {},
   "source": [
    "## Paths and filenames"
   ]
  },
  {
   "cell_type": "code",
   "execution_count": null,
   "id": "ef3f210d",
   "metadata": {},
   "outputs": [],
   "source": [
    "# paths\n",
    "path_data   = \"../data/\"   # path of data\n",
    "path_result = \"../results/SuppFig6_comparison/\"   # results will be saved in this directory\n",
    "Path(path_result).mkdir(parents=True, exist_ok=True)   # make directory if it does not exist already\n",
    "\n",
    "# filenames\n",
    "data_fn   = path_data + f\"nhts_ha1_{mut_mat}.csv\"   # input data\n",
    "test_fn   = path_result + \"SuppFig6b_testScores_RF_NextFlu_matched_params.csv\"   # to save performance scores for test dataset"
   ]
  },
  {
   "cell_type": "markdown",
   "id": "1a1ec4cd",
   "metadata": {},
   "source": [
    "## Read data\n",
    "- Genetic difference (seq_diff) encoded as per the mutation matrix\n",
    "- Converter is used to load the genetic difference saved as a list of floats"
   ]
  },
  {
   "cell_type": "code",
   "execution_count": null,
   "id": "fefa423e",
   "metadata": {},
   "outputs": [],
   "source": [
    "data = pd.read_csv(data_fn, converters={\"seq_diff\": literal_eval})"
   ]
  },
  {
   "cell_type": "markdown",
   "id": "d33635a8",
   "metadata": {},
   "source": [
    "## Performance of the model\n",
    "- For each test season from 2014NH to 2020SH\n",
    "    - Split the data into training and test datasets\n",
    "    - Prepare encoded inputs (genetic difference and metadata features)\n",
    "    - Train and evaluate the model\n",
    "    - Compute predictive performance\n",
    "    - Save the predictions\n",
    "- Compute average predictive performance"
   ]
  },
  {
   "cell_type": "code",
   "execution_count": null,
   "id": "e0cff6c6",
   "metadata": {},
   "outputs": [],
   "source": [
    "# to collect actuals and predictions for micro-averaged scores over all test seasons\n",
    "actual_all  = {}\n",
    "predict_all = {}\n",
    "\n",
    "# loop through test seasons\n",
    "for test_season in Test_Seasons:\n",
    "    print(\"Test Season: \", test_season)\n",
    "\n",
    "    '''\n",
    "    Train Test Split\n",
    "        - based on seasonal framework\n",
    "        - Train: past virus isolates paired with past sera\n",
    "        - Test: circulating virus isolates paired with past sera\n",
    "    '''\n",
    "    ind_train, ind_test = utilities.seasonal_trainTestSplit(data.copy(), test_season)\n",
    "    \n",
    "    # training dataset\n",
    "    data_train = data.iloc[ind_train].copy()\n",
    "    data_train.reset_index(drop=True, inplace=True)\n",
    "    \n",
    "    # test dataset\n",
    "    data_test = data.iloc[ind_test].copy()\n",
    "    data_test.reset_index(drop=True, inplace=True)\n",
    "\n",
    "\n",
    "    '''\n",
    "    Input features (genetic difference)\n",
    "    '''\n",
    "    # training dataset\n",
    "    X_train = pd.DataFrame(data_train.seq_diff.to_list(),\n",
    "                           index=data_train.index,\n",
    "                           columns=HA1_features)\n",
    "    X_train.fillna(0, inplace=True)   # replace nan with 0\n",
    "    \n",
    "    # test dataset\n",
    "    X_test = pd.DataFrame(data_test.seq_diff.to_list(),\n",
    "                           index=data_test.index,\n",
    "                           columns=HA1_features)\n",
    "    X_test.fillna(0, inplace=True)   # replace nan with 0\n",
    "    \n",
    "    \n",
    "    '''\n",
    "    Input features (metadata features)\n",
    "    '''\n",
    "    X_train_meta = data_train[meta_features].fillna('None').astype('str')\n",
    "    X_test_meta  = data_test[meta_features].fillna('None').astype('str')\n",
    "    \n",
    "    \n",
    "    # one hot encoding\n",
    "    ohe = OneHotEncoder(handle_unknown='ignore')\n",
    "    X_train_meta = ohe.fit_transform(X_train_meta).toarray()\n",
    "    X_test_meta = ohe.transform(X_test_meta).toarray()\n",
    "      \n",
    "    X_train = np.hstack((X_train.values, X_train_meta))\n",
    "    X_test  = np.hstack((X_test.values, X_test_meta))\n",
    "\n",
    "\n",
    "    del X_train_meta, X_test_meta\n",
    "        \n",
    "    \n",
    "    '''\n",
    "    Training and evaluation\n",
    "    '''\n",
    "    # optimized model\n",
    "    model = getattr(model_utilities, f\"model_{model_name}\")\n",
    "    results = model(X_train,\n",
    "                    data_train.nht.values,\n",
    "                    X_test = X_test)\n",
    "    \n",
    "   \n",
    "    '''\n",
    "    Test Scores\n",
    "    '''\n",
    "    cols       = ['mut_mat', 'model', 'metadata', 'season']\n",
    "    col_values = [mut_mat, model_name, metadata, test_season]\n",
    "    utilities.compute_scores(data_test.nht.values, results['pred_test'], test_fn, col=cols, col_val=col_values)\n",
    "    \n",
    "    \n",
    "    '''\n",
    "    Save actuals and predictions\n",
    "    '''\n",
    "    actual_all[f'{test_season}']  = data_test.nht.values\n",
    "    predict_all[f'{test_season}'] = results['pred_test']\n",
    "    \n",
    "    #################\n",
    "    # End season loop\n",
    "    #################\n",
    "\n",
    "\n",
    "'''\n",
    "Micro-average over seasons\n",
    "'''\n",
    "actual  = np.concatenate(list(actual_all.values()))\n",
    "predict = np.concatenate(list(predict_all.values()))\n",
    "\n",
    "# Test scores\n",
    "col_values = [mut_mat, model_name, metadata, 'Average']\n",
    "utilities.compute_scores(actual, predict, test_fn, col=cols, col_val=col_values)\n",
    "\n",
    "\n",
    "print(\"Training and testing completed\")"
   ]
  }
 ],
 "metadata": {
  "kernelspec": {
   "display_name": "Python [conda env:seasonal_ag_pred]",
   "language": "python",
   "name": "conda-env-seasonal_ag_pred-py"
  },
  "language_info": {
   "codemirror_mode": {
    "name": "ipython",
    "version": 3
   },
   "file_extension": ".py",
   "mimetype": "text/x-python",
   "name": "python",
   "nbconvert_exporter": "python",
   "pygments_lexer": "ipython3",
   "version": "3.8.12"
  }
 },
 "nbformat": 4,
 "nbformat_minor": 5
}
