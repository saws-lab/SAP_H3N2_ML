{
 "cells": [
  {
   "cell_type": "markdown",
   "id": "fe8fc19f",
   "metadata": {},
   "source": [
    "# Convert flat HI titer table to matrix form"
   ]
  },
  {
   "cell_type": "markdown",
   "id": "19edf78a",
   "metadata": {},
   "source": [
    "## Imports"
   ]
  },
  {
   "cell_type": "code",
   "execution_count": 1,
   "id": "1daa4fb9",
   "metadata": {},
   "outputs": [],
   "source": [
    "from pathlib import Path\n",
    "import pandas as pd\n",
    "import numpy as np"
   ]
  },
  {
   "cell_type": "markdown",
   "id": "b9374ec8",
   "metadata": {},
   "source": [
    "## Paths and filenames"
   ]
  },
  {
   "cell_type": "code",
   "execution_count": 2,
   "id": "9dc6057e",
   "metadata": {},
   "outputs": [],
   "source": [
    "# paths\n",
    "path_data   = \"../data/\"   # path of data\n",
    "\n",
    "# filenames\n",
    "titer_fn  = path_data + \"flat_HI_table.csv\"   # HI titer table\n",
    "nht_fn    = path_data + \"nhts_ha1.csv\"   # NHT table\n",
    "matrix_fn = path_data + \"titer_matrix.csv\"   # to save HI titer matrix"
   ]
  },
  {
   "cell_type": "markdown",
   "id": "d4a6b38f",
   "metadata": {},
   "source": [
    "## Read and preprocess HI titer table"
   ]
  },
  {
   "cell_type": "code",
   "execution_count": 3,
   "id": "f8d1fea6",
   "metadata": {},
   "outputs": [],
   "source": [
    "'''\n",
    "Read HI titers table\n",
    "'''\n",
    "titer_table = pd.read_csv(titer_fn)\n",
    "\n",
    "# get relevant fields\n",
    "titer_table = titer_table[[\"virusName\", \"virusPassage\", \"virusDate\",\n",
    "                           \"serumName\", \"serumPassage\", \"serumDate\",\n",
    "                           \"titer\"]]\n",
    "\n",
    "\n",
    "'''\n",
    "labels virus and serum\n",
    "'''\n",
    "# as the fields corresponding to passage could include nan values\n",
    "# so, convert them to string 'nan'\n",
    "titer_table.virusPassage.replace(np.nan, 'nan', inplace=True)\n",
    "titer_table.serumPassage.replace(np.nan, 'nan', inplace=True)\n",
    "\n",
    "# combine metadata fields with a separator '=' and get relevant field columns\n",
    "titer_table['virus'] = titer_table.virusName + '=' + titer_table.virusPassage\n",
    "titer_table['serum'] = titer_table.serumName + '=' + titer_table.serumPassage"
   ]
  },
  {
   "cell_type": "markdown",
   "id": "e7cef1d6",
   "metadata": {},
   "source": [
    "## Read NHT table and find unique isolates"
   ]
  },
  {
   "cell_type": "code",
   "execution_count": 4,
   "id": "12f8b2ca",
   "metadata": {},
   "outputs": [],
   "source": [
    "nht_table = pd.read_csv(nht_fn)\n",
    "\n",
    "viruses  = nht_table.virus.unique()\n",
    "sera     = nht_table.serum.unique()\n",
    "isolates = pd.DataFrame(np.concatenate((viruses, sera)), columns=[\"isolates\"])\n",
    "isolates = isolates.drop_duplicates([\"isolates\"])"
   ]
  },
  {
   "cell_type": "markdown",
   "id": "69d59c38",
   "metadata": {},
   "source": [
    "## Keep titers that match unique isolates in NHT table"
   ]
  },
  {
   "cell_type": "code",
   "execution_count": 5,
   "id": "3b983f27",
   "metadata": {},
   "outputs": [],
   "source": [
    "titer_table = titer_table[titer_table.virus.isin(isolates.isolates) & titer_table.serum.isin(isolates.isolates)]"
   ]
  },
  {
   "cell_type": "markdown",
   "id": "6b5c460a",
   "metadata": {},
   "source": [
    "## Assign seasons and keep data from 2003NH to 2020SH"
   ]
  },
  {
   "cell_type": "code",
   "execution_count": 6,
   "id": "68eaf227",
   "metadata": {},
   "outputs": [],
   "source": [
    "for ind, row in titer_table.iterrows():\n",
    "    if row.virusDate[5:] <= \"01-31\":\n",
    "        titer_table.loc[ind, \"season\"] = row.virusDate[:4] + \"NH\"\n",
    "    \n",
    "    elif (row.virusDate[5:] >= \"02-01\") and (row.virusDate[5:] <= \"08-31\"):\n",
    "        titer_table.loc[ind, \"season\"] = row.virusDate[:4] + \"SH\"\n",
    "    \n",
    "    elif (row.virusDate[5:] >= \"09-01\") and (row.virusDate[5:] <= \"12-31\"):\n",
    "        season_year = int(row.virusDate[:4])\n",
    "        titer_table.loc[ind, \"season\"] = str(season_year+1) + \"NH\"\n",
    "\n",
    "\n",
    "'''\n",
    "keep data from 2003NH to 2020SH\n",
    "'''\n",
    "seasons = [str(year)+s for year in range(2003, 2021) for s in [\"NH\", \"SH\"]]\n",
    "\n",
    "titer_table = titer_table[titer_table.season.isin(seasons)]"
   ]
  },
  {
   "cell_type": "markdown",
   "id": "d74fd646",
   "metadata": {},
   "source": [
    "## Combine metadata fields with a separator '=' and get column fields of virus, serum, and titer"
   ]
  },
  {
   "cell_type": "code",
   "execution_count": 7,
   "id": "3f1e4d05",
   "metadata": {},
   "outputs": [],
   "source": [
    "titer_table['virus'] = titer_table.virusDate + '=' + titer_table.virusName + '=' + titer_table.virusPassage\n",
    "titer_table['serum'] = titer_table.serumDate + '=' + titer_table.serumName + '=' + titer_table.serumPassage\n",
    "\n",
    "titer_table = titer_table[[\"virus\", \"serum\", \"titer\"]]"
   ]
  },
  {
   "cell_type": "markdown",
   "id": "bdc701c3",
   "metadata": {},
   "source": [
    "## Mean titer value of duplicate virus-antiserum pairs (repeated HI assays)"
   ]
  },
  {
   "cell_type": "code",
   "execution_count": 8,
   "id": "41b39920",
   "metadata": {},
   "outputs": [],
   "source": [
    "titer_table[\"titer\"] = np.log2(titer_table.titer)\n",
    "titer_table = titer_table.groupby([\"virus\", \"serum\"], as_index=False).mean()\n",
    "titer_table[\"titer\"] = np.power(2, titer_table.titer)"
   ]
  },
  {
   "cell_type": "markdown",
   "id": "54721a6b",
   "metadata": {},
   "source": [
    "## Convert to matrix form"
   ]
  },
  {
   "cell_type": "code",
   "execution_count": 9,
   "id": "be3bf8a4",
   "metadata": {},
   "outputs": [],
   "source": [
    "# set virus and serum as index\n",
    "titer_table.set_index(['virus', 'serum'], inplace=True)\n",
    "\n",
    "# convert to matrix format\n",
    "# levels (0,1,2) are (virus, serum, nht)\n",
    "titer_matrix = titer_table.stack().unstack(['serum'], fill_value=0)\n",
    "\n",
    "# replace 0 values with \"*\"\n",
    "titer_matrix.replace(0, \"*\", inplace=True)\n",
    "\n",
    "# to remove nht from index\n",
    "# reset index, then remove column level 1\n",
    "titer_matrix = titer_matrix.reset_index().drop(columns=['level_1']).set_index(['virus'])\n",
    "titer_matrix.to_csv(matrix_fn)"
   ]
  },
  {
   "cell_type": "markdown",
   "id": "b250bb18",
   "metadata": {},
   "source": [
    "## Get 2D coordinates of virus isolates\n",
    "Run R code in filename \"Fig3a_part2_virusCoords_racmacs.R\" to get the 2D coordinates (antigenic cartography) for virus isolates using [racmacs](https://acorg.github.io/Racmacs/)"
   ]
  },
  {
   "cell_type": "markdown",
   "id": "231d70ff",
   "metadata": {},
   "source": [
    "## Then run file \"Fig3a_part3_seasonal_antigenic_cartography\""
   ]
  },
  {
   "cell_type": "code",
   "execution_count": null,
   "id": "42c7fd2b",
   "metadata": {},
   "outputs": [],
   "source": []
  }
 ],
 "metadata": {
  "kernelspec": {
   "display_name": "Python [conda env:seasonal_ag_pred]",
   "language": "python",
   "name": "conda-env-seasonal_ag_pred-py"
  },
  "language_info": {
   "codemirror_mode": {
    "name": "ipython",
    "version": 3
   },
   "file_extension": ".py",
   "mimetype": "text/x-python",
   "name": "python",
   "nbconvert_exporter": "python",
   "pygments_lexer": "ipython3",
   "version": "3.8.12"
  }
 },
 "nbformat": 4,
 "nbformat_minor": 5
}
