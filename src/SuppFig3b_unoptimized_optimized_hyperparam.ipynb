{
 "cells": [
  {
   "cell_type": "markdown",
   "id": "5e9ec42f",
   "metadata": {},
   "source": [
    "# Unoptimized vs. optimized hyperparameters\n",
    "We will analyze the effect of optimizing the hyperparameters of the RF model. For this, we will compare the average MAE of the baseline model for unoptimized and optimized hyperparameters. In both case, we will use all the four metadata features and binary encoded genetic difference.\n",
    "\n",
    "**Note**: Run this notebook after running notebooks \"SuppFig3a_optimize_metadata\" and \"SuppFig3c_optimize_hyperparam_mut_mat\" as this notebook uses their results."
   ]
  },
  {
   "cell_type": "markdown",
   "id": "fb3f7d42",
   "metadata": {},
   "source": [
    "## Imports and configuration for plotting"
   ]
  },
  {
   "cell_type": "code",
   "execution_count": 1,
   "id": "32ef492c",
   "metadata": {},
   "outputs": [],
   "source": [
    "from pathlib import Path\n",
    "import pandas as pd\n",
    "import numpy as np\n",
    "import matplotlib.pyplot as plt\n",
    "import seaborn as sns\n",
    "import utilities   # self defined functions\n",
    "%matplotlib inline\n",
    "\n",
    "sns.set_context(rc={\"axes.labelsize\":9,\n",
    "                    \"xtick.labelsize\":8,\n",
    "                    \"ytick.labelsize\":8,\n",
    "                    \"legend.fontsize\":8,\n",
    "                    \"legend.title_fontsize\":8})"
   ]
  },
  {
   "cell_type": "markdown",
   "id": "297b6de2",
   "metadata": {},
   "source": [
    "## Paths and filenames"
   ]
  },
  {
   "cell_type": "code",
   "execution_count": 2,
   "id": "ae12c904",
   "metadata": {},
   "outputs": [],
   "source": [
    "path_result = \"../results/SuppFig3_optimization_RFmodel/\"   # results will be saved in this directory\n",
    "Path(path_result).mkdir(parents=True, exist_ok=True)   # make directory if it does not exist already\n",
    "\n",
    "fig_fn = path_result + 'SuppFig3b_unoptimized_optimized_hyperparam.svg'"
   ]
  },
  {
   "cell_type": "markdown",
   "id": "0349a236",
   "metadata": {},
   "source": [
    "## Read validation scores and prepare data for plots\n",
    "Read validation scores of the model for both unoptimized and optimized hyperparameters."
   ]
  },
  {
   "cell_type": "code",
   "execution_count": 4,
   "id": "7dd029f7",
   "metadata": {},
   "outputs": [],
   "source": [
    "scores       = pd.read_csv(\"../results/SuppFig3_optimization_RFmodel/SuppFig3a_optimize_metadata_validScores.csv\")\n",
    "scores_optim = pd.read_csv(\"../results/SuppFig3_optimization_RFmodel/SuppFig3c_optimize_mut_mat_hyperopt.csv\")\n",
    "\n",
    "scores = scores[(scores.metadata=='a+p+vPC+sPC') &\n",
    "                (scores.season=='Average')][['mut_mat', 'MAE']]\n",
    "scores.rename(columns={'mut_mat': 'Hyperparams'},\n",
    "              inplace=True)\n",
    "scores['Hyperparams'] = 'Unoptimized'\n",
    "\n",
    "scores.loc[1, 'Hyperparams'] = 'Optimized'\n",
    "scores.loc[1, 'MAE']         = scores_optim[scores_optim.mut_mat=='binary']['mae'].values\n",
    "\n",
    "del scores_optim"
   ]
  },
  {
   "cell_type": "markdown",
   "id": "b8ee9bee",
   "metadata": {},
   "source": [
    "## Plot average MAE for unoptimized and optimized hyperparameters"
   ]
  },
  {
   "cell_type": "code",
   "execution_count": 5,
   "id": "66395e5d",
   "metadata": {},
   "outputs": [
    {
     "data": {
      "image/png": "[encoded data removed]",
      "text/plain": [
       "<Figure size 200x200 with 1 Axes>"
      ]
     },
     "metadata": {},
     "output_type": "display_data"
    }
   ],
   "source": [
    "fig, ax = plt.subplots(figsize=(2,2))\n",
    "\n",
    "plot = sns.barplot(x='Hyperparams', y='MAE', data=scores,\n",
    "                   color='C0', ax=ax)\n",
    "\n",
    "utilities.change_seaborn_width(ax, 0.7)\n",
    "\n",
    "# configurations for figure\n",
    "ax.set_ylim(bottom=0.75, top=0.85)\n",
    "ax.set_yticks(np.arange(0.75,0.86,0.02))\n",
    "ax.set_xlabel(\"Hyperparameters\", fontsize=9)\n",
    "ax.set_ylabel(\"Validation average MAE\", fontsize=9)\n",
    "\n",
    "sns.despine(trim=True, bottom=True)\n",
    "\n",
    "# save figure\n",
    "fig.savefig(fig_fn, format='svg', bbox_inches='tight')"
   ]
  },
  {
   "cell_type": "code",
   "execution_count": null,
   "id": "4e3ecd13",
   "metadata": {},
   "outputs": [],
   "source": []
  }
 ],
 "metadata": {
  "kernelspec": {
   "display_name": "Python [conda env:seasonal_ag_pred]",
   "language": "python",
   "name": "conda-env-seasonal_ag_pred-py"
  },
  "language_info": {
   "codemirror_mode": {
    "name": "ipython",
    "version": 3
   },
   "file_extension": ".py",
   "mimetype": "text/x-python",
   "name": "python",
   "nbconvert_exporter": "python",
   "pygments_lexer": "ipython3",
   "version": "3.8.12"
  }
 },
 "nbformat": 4,
 "nbformat_minor": 5
}
